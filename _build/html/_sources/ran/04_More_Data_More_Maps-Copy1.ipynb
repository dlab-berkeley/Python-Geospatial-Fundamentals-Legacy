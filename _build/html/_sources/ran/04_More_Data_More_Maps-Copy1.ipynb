{
 "cells": [
  {
   "cell_type": "markdown",
   "metadata": {},
   "source": [
    "# Lesson 4. More Data, More Maps!\n",
    "\n",
    "Now that we know how to pull in data, check and transform Coordinate Reference Systems (CRS), and plot GeoDataFrames together - let's practice doing the same thing with other geometry types. In this notebook we'll be bringing in bike boulevards and schools, which will get us primed to think about spatial relationship questions.\n",
    "\n",
    "- 4.1 Berkeley Bike Boulevards\n",
    "- 4.2 Alameda County Schools\n",
    "- **Exercise**: Even More Data!\n",
    "- 4.3 Map Overlays with Matplotlib\n",
    "- 4.4 Recap\n",
    "- **Exercise**: Overlay Mapping\n",
    "- 4.5 Teaser for Day 2\n",
    "\n",
    "\n",
    "<br>\n",
    "<font color='grey'>\n",
    "    <b>Instructor Notes</b>\n",
    "\n",
    "- Datasets used\n",
    "    - 'notebook_data/transportation/BerkeleyBikeBlvds.geojson'\n",
    "    - 'notebook_data/alco_schools.csv'\n",
    "    - 'notebook_data/parcels/parcel_pts_rand30pct.geojson'\n",
    "    - ‘notebook_data/berkeley/BerkeleyCityLimits.shp’\n",
    "\n",
    "- Expected time to complete\n",
    "    - Lecture + Questions: 30 minutes\n",
    "    - Exercises: 20 minutes\n",
    "</font>"
   ]
  },
  {
   "cell_type": "markdown",
   "metadata": {},
   "source": [
    "### Import Libraries"
   ]
  },
  {
   "cell_type": "code",
   "execution_count": 1,
   "metadata": {},
   "outputs": [],
   "source": [
    "import pandas as pd\n",
    "import geopandas as gpd\n",
    "\n",
    "import matplotlib # base python plotting library\n",
    "import matplotlib.pyplot as plt # submodule of matplotlib\n",
    "\n",
    "# To display plots, maps, charts etc in the notebook\n",
    "%matplotlib inline  "
   ]
  },
  {
   "cell_type": "markdown",
   "metadata": {},
   "source": [
    "## 4.1 Berkeley Bike Boulevards\n",
    "\n",
    "We're going to bring in data bike boulevards in Berkeley. Note two things that are different from our previous data:\n",
    "- We're bringing in a [GeoJSON](https://en.wikipedia.org/wiki/GeoJSON) this time and not a shapefile\n",
    "- We have a **line** geometry GeoDataFrame (our county and states data had **polygon** geometries)"
   ]
  },
  {
   "cell_type": "code",
   "execution_count": 2,
   "metadata": {},
   "outputs": [
    {
     "data": {
      "text/plain": [
       "<AxesSubplot:>"
      ]
     },
     "execution_count": 2,
     "metadata": {},
     "output_type": "execute_result"
    },
    {
     "data": {
      "image/png": "[encoded data removed]",
      "text/plain": [
       "<Figure size 432x288 with 1 Axes>"
      ]
     },
     "metadata": {
      "needs_background": "light"
     },
     "output_type": "display_data"
    }
   ],
   "source": [
    "bike_blvds = gpd.read_file('notebook_data/transportation/BerkeleyBikeBlvds.geojson')\n",
    "bike_blvds.plot()"
   ]
  },
  {
   "cell_type": "markdown",
   "metadata": {},
   "source": [
    "As usual, we'll want to do our usual data exploration..."
   ]
  },
  {
   "cell_type": "code",
   "execution_count": 3,
   "metadata": {},
   "outputs": [
    {
     "data": {
      "text/html": [
       "<div>\n",
       "<style scoped>\n",
       "    .dataframe tbody tr th:only-of-type {\n",
       "        vertical-align: middle;\n",
       "    }\n",
       "\n",
       "    .dataframe tbody tr th {\n",
       "        vertical-align: top;\n",
       "    }\n",
       "\n",
       "    .dataframe thead th {\n",
       "        text-align: right;\n",
       "    }\n",
       "</style>\n",
       "<table border=\"1\" class=\"dataframe\">\n",
       "  <thead>\n",
       "    <tr style=\"text-align: right;\">\n",
       "      <th></th>\n",
       "      <th>BB_STRNAM</th>\n",
       "      <th>BB_STRID</th>\n",
       "      <th>BB_FRO</th>\n",
       "      <th>BB_TO</th>\n",
       "      <th>BB_SECID</th>\n",
       "      <th>DIR_</th>\n",
       "      <th>Status</th>\n",
       "      <th>ALT_bikeCA</th>\n",
       "      <th>Shape_len</th>\n",
       "      <th>len_km</th>\n",
       "      <th>geometry</th>\n",
       "    </tr>\n",
       "  </thead>\n",
       "  <tbody>\n",
       "    <tr>\n",
       "      <th>0</th>\n",
       "      <td>Heinz/Russell</td>\n",
       "      <td>RUS</td>\n",
       "      <td>7th</td>\n",
       "      <td>8th</td>\n",
       "      <td>RUS01</td>\n",
       "      <td>E/W</td>\n",
       "      <td>Existing</td>\n",
       "      <td>No</td>\n",
       "      <td>101.128166</td>\n",
       "      <td>0.101</td>\n",
       "      <td>MULTILINESTRING ((562293.786 4189795.092, 5623...</td>\n",
       "    </tr>\n",
       "    <tr>\n",
       "      <th>1</th>\n",
       "      <td>Heinz/Russell</td>\n",
       "      <td>RUS</td>\n",
       "      <td>8th</td>\n",
       "      <td>9th</td>\n",
       "      <td>RUS02</td>\n",
       "      <td>E/W</td>\n",
       "      <td>Ezisting</td>\n",
       "      <td>No</td>\n",
       "      <td>100.814072</td>\n",
       "      <td>0.101</td>\n",
       "      <td>MULTILINESTRING ((562391.553 4189820.949, 5624...</td>\n",
       "    </tr>\n",
       "    <tr>\n",
       "      <th>2</th>\n",
       "      <td>Heinz/Russell</td>\n",
       "      <td>RUS</td>\n",
       "      <td>9th</td>\n",
       "      <td>10th</td>\n",
       "      <td>RUS03</td>\n",
       "      <td>E/W</td>\n",
       "      <td>Existing</td>\n",
       "      <td>No</td>\n",
       "      <td>100.037396</td>\n",
       "      <td>0.100</td>\n",
       "      <td>MULTILINESTRING ((562489.017 4189846.721, 5625...</td>\n",
       "    </tr>\n",
       "    <tr>\n",
       "      <th>3</th>\n",
       "      <td>Heinz/Russell</td>\n",
       "      <td>RUS</td>\n",
       "      <td>10th</td>\n",
       "      <td>San Pablo</td>\n",
       "      <td>RUS04</td>\n",
       "      <td>E/W</td>\n",
       "      <td>Existing</td>\n",
       "      <td>No</td>\n",
       "      <td>106.592878</td>\n",
       "      <td>0.107</td>\n",
       "      <td>MULTILINESTRING ((562585.723 4189872.321, 5626...</td>\n",
       "    </tr>\n",
       "    <tr>\n",
       "      <th>4</th>\n",
       "      <td>San Pablo</td>\n",
       "      <td>RUS</td>\n",
       "      <td>Heinz</td>\n",
       "      <td>Russell</td>\n",
       "      <td>RUS05</td>\n",
       "      <td>N/S</td>\n",
       "      <td>Existing</td>\n",
       "      <td>No</td>\n",
       "      <td>89.563478</td>\n",
       "      <td>0.090</td>\n",
       "      <td>MULTILINESTRING ((562688.854 4189899.267, 5627...</td>\n",
       "    </tr>\n",
       "  </tbody>\n",
       "</table>\n",
       "</div>"
      ],
      "text/plain": [
       "       BB_STRNAM BB_STRID BB_FRO      BB_TO BB_SECID DIR_    Status  \\\n",
       "0  Heinz/Russell      RUS    7th        8th    RUS01  E/W  Existing   \n",
       "1  Heinz/Russell      RUS    8th        9th    RUS02  E/W  Ezisting   \n",
       "2  Heinz/Russell      RUS    9th       10th    RUS03  E/W  Existing   \n",
       "3  Heinz/Russell      RUS   10th  San Pablo    RUS04  E/W  Existing   \n",
       "4      San Pablo      RUS  Heinz    Russell    RUS05  N/S  Existing   \n",
       "\n",
       "  ALT_bikeCA   Shape_len  len_km  \\\n",
       "0         No  101.128166   0.101   \n",
       "1         No  100.814072   0.101   \n",
       "2         No  100.037396   0.100   \n",
       "3         No  106.592878   0.107   \n",
       "4         No   89.563478   0.090   \n",
       "\n",
       "                                            geometry  \n",
       "0  MULTILINESTRING ((562293.786 4189795.092, 5623...  \n",
       "1  MULTILINESTRING ((562391.553 4189820.949, 5624...  \n",
       "2  MULTILINESTRING ((562489.017 4189846.721, 5625...  \n",
       "3  MULTILINESTRING ((562585.723 4189872.321, 5626...  \n",
       "4  MULTILINESTRING ((562688.854 4189899.267, 5627...  "
      ]
     },
     "execution_count": 3,
     "metadata": {},
     "output_type": "execute_result"
    }
   ],
   "source": [
    "bike_blvds.head()"
   ]
  },
  {
   "cell_type": "code",
   "execution_count": 4,
   "metadata": {},
   "outputs": [
    {
     "data": {
      "text/plain": [
       "(211, 11)"
      ]
     },
     "execution_count": 4,
     "metadata": {},
     "output_type": "execute_result"
    }
   ],
   "source": [
    "bike_blvds.shape"
   ]
  },
  {
   "cell_type": "code",
   "execution_count": 5,
   "metadata": {},
   "outputs": [
    {
     "data": {
      "text/plain": [
       "Index(['BB_STRNAM', 'BB_STRID', 'BB_FRO', 'BB_TO', 'BB_SECID', 'DIR_',\n",
       "       'Status', 'ALT_bikeCA', 'Shape_len', 'len_km', 'geometry'],\n",
       "      dtype='object')"
      ]
     },
     "execution_count": 5,
     "metadata": {},
     "output_type": "execute_result"
    }
   ],
   "source": [
    "bike_blvds.columns"
   ]
  },
  {
   "cell_type": "markdown",
   "metadata": {},
   "source": [
    "Our bike boulevard data includes the following information:\n",
    " - `BB_STRNAM` - bike boulevard Streetname\n",
    " - `BB_STRID` - bike boulevard Street ID\n",
    " - `BB_FRO` - bike boulevard origin street\n",
    " - `BB_TO` - bike boulevard end street\n",
    " - `BB_SECID`- bike boulevard section id\n",
    " - `DIR_` - cardinal directions the bike boulevard runs\n",
    " - `Status` - status on whether the bike boulevard exists\n",
    " - `ALT_bikeCA` - ? \n",
    " - `Shape_len` - length of the boulevard in meters \n",
    " - `len_km` - length of the boulevard in kilometers\n",
    " - `geometry`"
   ]
  },
  {
   "cell_type": "markdown",
   "metadata": {},
   "source": [
    "\n",
    "<div style=\"display:inline-block;vertical-align:top;\">\n",
    "    <img src=\"http://www.pngall.com/wp-content/uploads/2016/03/Light-Bulb-Free-PNG-Image.png\" width=\"30\" align=left > \n",
    "</div>  \n",
    "<div style=\"display:inline-block;\">\n",
    "\n",
    "#### Question\n",
    "</div>\n",
    "\n",
    "Why are there 211 features when we only have 8 bike boulevards?"
   ]
  },
  {
   "cell_type": "raw",
   "metadata": {},
   "source": [
    "Your reponse here:\n",
    "\n",
    "\n",
    "\n",
    "\n",
    "\n"
   ]
  },
  {
   "cell_type": "markdown",
   "metadata": {},
   "source": [
    "And now take a look at our CRS..."
   ]
  },
  {
   "cell_type": "code",
   "execution_count": 6,
   "metadata": {},
   "outputs": [
    {
     "data": {
      "text/plain": [
       "<Projected CRS: EPSG:32610>\n",
       "Name: WGS 84 / UTM zone 10N\n",
       "Axis Info [cartesian]:\n",
       "- E[east]: Easting (metre)\n",
       "- N[north]: Northing (metre)\n",
       "Area of Use:\n",
       "- name: World - N hemisphere - 126°W to 120°W - by country\n",
       "- bounds: (-126.0, 0.0, -120.0, 84.0)\n",
       "Coordinate Operation:\n",
       "- name: UTM zone 10N\n",
       "- method: Transverse Mercator\n",
       "Datum: World Geodetic System 1984\n",
       "- Ellipsoid: WGS 84\n",
       "- Prime Meridian: Greenwich"
      ]
     },
     "execution_count": 6,
     "metadata": {},
     "output_type": "execute_result"
    }
   ],
   "source": [
    "bike_blvds.crs"
   ]
  },
  {
   "cell_type": "markdown",
   "metadata": {},
   "source": [
    "Let's tranform our CRS to UTM Zone 10N, NAD83 that we used in the last lesson."
   ]
  },
  {
   "cell_type": "code",
   "execution_count": 7,
   "metadata": {},
   "outputs": [],
   "source": [
    "bike_blvds_utm10 = bike_blvds.to_crs( \"epsg:26910\")"
   ]
  },
  {
   "cell_type": "code",
   "execution_count": 8,
   "metadata": {},
   "outputs": [
    {
     "data": {
      "text/html": [
       "<div>\n",
       "<style scoped>\n",
       "    .dataframe tbody tr th:only-of-type {\n",
       "        vertical-align: middle;\n",
       "    }\n",
       "\n",
       "    .dataframe tbody tr th {\n",
       "        vertical-align: top;\n",
       "    }\n",
       "\n",
       "    .dataframe thead th {\n",
       "        text-align: right;\n",
       "    }\n",
       "</style>\n",
       "<table border=\"1\" class=\"dataframe\">\n",
       "  <thead>\n",
       "    <tr style=\"text-align: right;\">\n",
       "      <th></th>\n",
       "      <th>BB_STRNAM</th>\n",
       "      <th>BB_STRID</th>\n",
       "      <th>BB_FRO</th>\n",
       "      <th>BB_TO</th>\n",
       "      <th>BB_SECID</th>\n",
       "      <th>DIR_</th>\n",
       "      <th>Status</th>\n",
       "      <th>ALT_bikeCA</th>\n",
       "      <th>Shape_len</th>\n",
       "      <th>len_km</th>\n",
       "      <th>geometry</th>\n",
       "    </tr>\n",
       "  </thead>\n",
       "  <tbody>\n",
       "    <tr>\n",
       "      <th>0</th>\n",
       "      <td>Heinz/Russell</td>\n",
       "      <td>RUS</td>\n",
       "      <td>7th</td>\n",
       "      <td>8th</td>\n",
       "      <td>RUS01</td>\n",
       "      <td>E/W</td>\n",
       "      <td>Existing</td>\n",
       "      <td>No</td>\n",
       "      <td>101.128166</td>\n",
       "      <td>0.101</td>\n",
       "      <td>MULTILINESTRING ((562293.837 4189794.938, 5623...</td>\n",
       "    </tr>\n",
       "    <tr>\n",
       "      <th>1</th>\n",
       "      <td>Heinz/Russell</td>\n",
       "      <td>RUS</td>\n",
       "      <td>8th</td>\n",
       "      <td>9th</td>\n",
       "      <td>RUS02</td>\n",
       "      <td>E/W</td>\n",
       "      <td>Ezisting</td>\n",
       "      <td>No</td>\n",
       "      <td>100.814072</td>\n",
       "      <td>0.101</td>\n",
       "      <td>MULTILINESTRING ((562391.603 4189820.796, 5624...</td>\n",
       "    </tr>\n",
       "    <tr>\n",
       "      <th>2</th>\n",
       "      <td>Heinz/Russell</td>\n",
       "      <td>RUS</td>\n",
       "      <td>9th</td>\n",
       "      <td>10th</td>\n",
       "      <td>RUS03</td>\n",
       "      <td>E/W</td>\n",
       "      <td>Existing</td>\n",
       "      <td>No</td>\n",
       "      <td>100.037396</td>\n",
       "      <td>0.100</td>\n",
       "      <td>MULTILINESTRING ((562489.067 4189846.568, 5625...</td>\n",
       "    </tr>\n",
       "    <tr>\n",
       "      <th>3</th>\n",
       "      <td>Heinz/Russell</td>\n",
       "      <td>RUS</td>\n",
       "      <td>10th</td>\n",
       "      <td>San Pablo</td>\n",
       "      <td>RUS04</td>\n",
       "      <td>E/W</td>\n",
       "      <td>Existing</td>\n",
       "      <td>No</td>\n",
       "      <td>106.592878</td>\n",
       "      <td>0.107</td>\n",
       "      <td>MULTILINESTRING ((562585.773 4189872.168, 5626...</td>\n",
       "    </tr>\n",
       "    <tr>\n",
       "      <th>4</th>\n",
       "      <td>San Pablo</td>\n",
       "      <td>RUS</td>\n",
       "      <td>Heinz</td>\n",
       "      <td>Russell</td>\n",
       "      <td>RUS05</td>\n",
       "      <td>N/S</td>\n",
       "      <td>Existing</td>\n",
       "      <td>No</td>\n",
       "      <td>89.563478</td>\n",
       "      <td>0.090</td>\n",
       "      <td>MULTILINESTRING ((562688.904 4189899.113, 5627...</td>\n",
       "    </tr>\n",
       "  </tbody>\n",
       "</table>\n",
       "</div>"
      ],
      "text/plain": [
       "       BB_STRNAM BB_STRID BB_FRO      BB_TO BB_SECID DIR_    Status  \\\n",
       "0  Heinz/Russell      RUS    7th        8th    RUS01  E/W  Existing   \n",
       "1  Heinz/Russell      RUS    8th        9th    RUS02  E/W  Ezisting   \n",
       "2  Heinz/Russell      RUS    9th       10th    RUS03  E/W  Existing   \n",
       "3  Heinz/Russell      RUS   10th  San Pablo    RUS04  E/W  Existing   \n",
       "4      San Pablo      RUS  Heinz    Russell    RUS05  N/S  Existing   \n",
       "\n",
       "  ALT_bikeCA   Shape_len  len_km  \\\n",
       "0         No  101.128166   0.101   \n",
       "1         No  100.814072   0.101   \n",
       "2         No  100.037396   0.100   \n",
       "3         No  106.592878   0.107   \n",
       "4         No   89.563478   0.090   \n",
       "\n",
       "                                            geometry  \n",
       "0  MULTILINESTRING ((562293.837 4189794.938, 5623...  \n",
       "1  MULTILINESTRING ((562391.603 4189820.796, 5624...  \n",
       "2  MULTILINESTRING ((562489.067 4189846.568, 5625...  \n",
       "3  MULTILINESTRING ((562585.773 4189872.168, 5626...  \n",
       "4  MULTILINESTRING ((562688.904 4189899.113, 5627...  "
      ]
     },
     "execution_count": 8,
     "metadata": {},
     "output_type": "execute_result"
    }
   ],
   "source": [
    "bike_blvds_utm10.head()"
   ]
  },
  {
   "cell_type": "markdown",
   "metadata": {},
   "source": [
    "## 4.2 Alameda County Schools\n",
    "\n",
    "Alright! Now that we have our bike boulevard data squared away, we're going to bring in our Alameda County school data."
   ]
  },
  {
   "cell_type": "code",
   "execution_count": 9,
   "metadata": {},
   "outputs": [
    {
     "data": {
      "text/html": [
       "<div>\n",
       "<style scoped>\n",
       "    .dataframe tbody tr th:only-of-type {\n",
       "        vertical-align: middle;\n",
       "    }\n",
       "\n",
       "    .dataframe tbody tr th {\n",
       "        vertical-align: top;\n",
       "    }\n",
       "\n",
       "    .dataframe thead th {\n",
       "        text-align: right;\n",
       "    }\n",
       "</style>\n",
       "<table border=\"1\" class=\"dataframe\">\n",
       "  <thead>\n",
       "    <tr style=\"text-align: right;\">\n",
       "      <th></th>\n",
       "      <th>X</th>\n",
       "      <th>Y</th>\n",
       "      <th>Site</th>\n",
       "      <th>Address</th>\n",
       "      <th>City</th>\n",
       "      <th>State</th>\n",
       "      <th>Type</th>\n",
       "      <th>API</th>\n",
       "      <th>Org</th>\n",
       "    </tr>\n",
       "  </thead>\n",
       "  <tbody>\n",
       "    <tr>\n",
       "      <th>0</th>\n",
       "      <td>-122.238761</td>\n",
       "      <td>37.744764</td>\n",
       "      <td>Amelia Earhart Elementary</td>\n",
       "      <td>400 Packet Landing Rd</td>\n",
       "      <td>Alameda</td>\n",
       "      <td>CA</td>\n",
       "      <td>ES</td>\n",
       "      <td>933</td>\n",
       "      <td>Public</td>\n",
       "    </tr>\n",
       "    <tr>\n",
       "      <th>1</th>\n",
       "      <td>-122.251856</td>\n",
       "      <td>37.738999</td>\n",
       "      <td>Bay Farm Elementary</td>\n",
       "      <td>200 Aughinbaugh Way</td>\n",
       "      <td>Alameda</td>\n",
       "      <td>CA</td>\n",
       "      <td>ES</td>\n",
       "      <td>932</td>\n",
       "      <td>Public</td>\n",
       "    </tr>\n",
       "    <tr>\n",
       "      <th>2</th>\n",
       "      <td>-122.258915</td>\n",
       "      <td>37.762058</td>\n",
       "      <td>Donald D. Lum Elementary</td>\n",
       "      <td>1801 Sandcreek Way</td>\n",
       "      <td>Alameda</td>\n",
       "      <td>CA</td>\n",
       "      <td>ES</td>\n",
       "      <td>853</td>\n",
       "      <td>Public</td>\n",
       "    </tr>\n",
       "    <tr>\n",
       "      <th>3</th>\n",
       "      <td>-122.234841</td>\n",
       "      <td>37.765250</td>\n",
       "      <td>Edison Elementary</td>\n",
       "      <td>2700 Buena Vista Ave</td>\n",
       "      <td>Alameda</td>\n",
       "      <td>CA</td>\n",
       "      <td>ES</td>\n",
       "      <td>927</td>\n",
       "      <td>Public</td>\n",
       "    </tr>\n",
       "    <tr>\n",
       "      <th>4</th>\n",
       "      <td>-122.238078</td>\n",
       "      <td>37.753964</td>\n",
       "      <td>Frank Otis Elementary</td>\n",
       "      <td>3010 Fillmore St</td>\n",
       "      <td>Alameda</td>\n",
       "      <td>CA</td>\n",
       "      <td>ES</td>\n",
       "      <td>894</td>\n",
       "      <td>Public</td>\n",
       "    </tr>\n",
       "  </tbody>\n",
       "</table>\n",
       "</div>"
      ],
      "text/plain": [
       "            X          Y                       Site                Address  \\\n",
       "0 -122.238761  37.744764  Amelia Earhart Elementary  400 Packet Landing Rd   \n",
       "1 -122.251856  37.738999        Bay Farm Elementary    200 Aughinbaugh Way   \n",
       "2 -122.258915  37.762058   Donald D. Lum Elementary     1801 Sandcreek Way   \n",
       "3 -122.234841  37.765250          Edison Elementary   2700 Buena Vista Ave   \n",
       "4 -122.238078  37.753964      Frank Otis Elementary       3010 Fillmore St   \n",
       "\n",
       "      City State Type  API     Org  \n",
       "0  Alameda    CA   ES  933  Public  \n",
       "1  Alameda    CA   ES  932  Public  \n",
       "2  Alameda    CA   ES  853  Public  \n",
       "3  Alameda    CA   ES  927  Public  \n",
       "4  Alameda    CA   ES  894  Public  "
      ]
     },
     "execution_count": 9,
     "metadata": {},
     "output_type": "execute_result"
    }
   ],
   "source": [
    "schools_df = pd.read_csv('notebook_data/alco_schools.csv')\n",
    "schools_df.head()"
   ]
  },
  {
   "cell_type": "code",
   "execution_count": 10,
   "metadata": {},
   "outputs": [
    {
     "data": {
      "text/plain": [
       "(550, 9)"
      ]
     },
     "execution_count": 10,
     "metadata": {},
     "output_type": "execute_result"
    }
   ],
   "source": [
    "schools_df.shape"
   ]
  },
  {
   "cell_type": "markdown",
   "metadata": {},
   "source": [
    "<img src=\"http://www.pngall.com/wp-content/uploads/2016/03/Light-Bulb-Free-PNG-Image.png\" width=\"20\" align=left >  **Questions** \n",
    "\n",
    "Without looking ahead:\n",
    "\n",
    "1. Is this a geodataframe? \n",
    "2. How do you know?\n",
    "\n"
   ]
  },
  {
   "cell_type": "raw",
   "metadata": {},
   "source": [
    "Your reponse here:\n",
    "    \n",
    "    \n",
    "    \n",
    "    \n",
    "    \n",
    "    "
   ]
  },
  {
   "cell_type": "markdown",
   "metadata": {},
   "source": [
    "<br>\n",
    "<br>\n",
    "This is not a GeoDataFrame! A couple of clues to figure that out are..\n",
    "\n",
    "1. We're pulling in a Comma Separated Value (CSV) file, which is not a geospatial data format\n",
    "2. There is no geometry column (although we do have latitude and longitude values)\n",
    "\n",
    "\n",
    "-------------------------------\n",
    "\n",
    "Although our school data is not starting off as a GeoDataFrame, we actually have the tools and information to make it one. Using the `gpd.GeoDataFrame` constructor, we can transform our plain DataFrame into a GeoDataFrame (specifying the geometry information and then the CRS)."
   ]
  },
  {
   "cell_type": "code",
   "execution_count": 11,
   "metadata": {},
   "outputs": [
    {
     "data": {
      "text/html": [
       "<div>\n",
       "<style scoped>\n",
       "    .dataframe tbody tr th:only-of-type {\n",
       "        vertical-align: middle;\n",
       "    }\n",
       "\n",
       "    .dataframe tbody tr th {\n",
       "        vertical-align: top;\n",
       "    }\n",
       "\n",
       "    .dataframe thead th {\n",
       "        text-align: right;\n",
       "    }\n",
       "</style>\n",
       "<table border=\"1\" class=\"dataframe\">\n",
       "  <thead>\n",
       "    <tr style=\"text-align: right;\">\n",
       "      <th></th>\n",
       "      <th>X</th>\n",
       "      <th>Y</th>\n",
       "      <th>Site</th>\n",
       "      <th>Address</th>\n",
       "      <th>City</th>\n",
       "      <th>State</th>\n",
       "      <th>Type</th>\n",
       "      <th>API</th>\n",
       "      <th>Org</th>\n",
       "      <th>geometry</th>\n",
       "    </tr>\n",
       "  </thead>\n",
       "  <tbody>\n",
       "    <tr>\n",
       "      <th>0</th>\n",
       "      <td>-122.238761</td>\n",
       "      <td>37.744764</td>\n",
       "      <td>Amelia Earhart Elementary</td>\n",
       "      <td>400 Packet Landing Rd</td>\n",
       "      <td>Alameda</td>\n",
       "      <td>CA</td>\n",
       "      <td>ES</td>\n",
       "      <td>933</td>\n",
       "      <td>Public</td>\n",
       "      <td>POINT (-122.23876 37.74476)</td>\n",
       "    </tr>\n",
       "    <tr>\n",
       "      <th>1</th>\n",
       "      <td>-122.251856</td>\n",
       "      <td>37.738999</td>\n",
       "      <td>Bay Farm Elementary</td>\n",
       "      <td>200 Aughinbaugh Way</td>\n",
       "      <td>Alameda</td>\n",
       "      <td>CA</td>\n",
       "      <td>ES</td>\n",
       "      <td>932</td>\n",
       "      <td>Public</td>\n",
       "      <td>POINT (-122.25186 37.73900)</td>\n",
       "    </tr>\n",
       "    <tr>\n",
       "      <th>2</th>\n",
       "      <td>-122.258915</td>\n",
       "      <td>37.762058</td>\n",
       "      <td>Donald D. Lum Elementary</td>\n",
       "      <td>1801 Sandcreek Way</td>\n",
       "      <td>Alameda</td>\n",
       "      <td>CA</td>\n",
       "      <td>ES</td>\n",
       "      <td>853</td>\n",
       "      <td>Public</td>\n",
       "      <td>POINT (-122.25892 37.76206)</td>\n",
       "    </tr>\n",
       "    <tr>\n",
       "      <th>3</th>\n",
       "      <td>-122.234841</td>\n",
       "      <td>37.765250</td>\n",
       "      <td>Edison Elementary</td>\n",
       "      <td>2700 Buena Vista Ave</td>\n",
       "      <td>Alameda</td>\n",
       "      <td>CA</td>\n",
       "      <td>ES</td>\n",
       "      <td>927</td>\n",
       "      <td>Public</td>\n",
       "      <td>POINT (-122.23484 37.76525)</td>\n",
       "    </tr>\n",
       "    <tr>\n",
       "      <th>4</th>\n",
       "      <td>-122.238078</td>\n",
       "      <td>37.753964</td>\n",
       "      <td>Frank Otis Elementary</td>\n",
       "      <td>3010 Fillmore St</td>\n",
       "      <td>Alameda</td>\n",
       "      <td>CA</td>\n",
       "      <td>ES</td>\n",
       "      <td>894</td>\n",
       "      <td>Public</td>\n",
       "      <td>POINT (-122.23808 37.75396)</td>\n",
       "    </tr>\n",
       "  </tbody>\n",
       "</table>\n",
       "</div>"
      ],
      "text/plain": [
       "            X          Y                       Site                Address  \\\n",
       "0 -122.238761  37.744764  Amelia Earhart Elementary  400 Packet Landing Rd   \n",
       "1 -122.251856  37.738999        Bay Farm Elementary    200 Aughinbaugh Way   \n",
       "2 -122.258915  37.762058   Donald D. Lum Elementary     1801 Sandcreek Way   \n",
       "3 -122.234841  37.765250          Edison Elementary   2700 Buena Vista Ave   \n",
       "4 -122.238078  37.753964      Frank Otis Elementary       3010 Fillmore St   \n",
       "\n",
       "      City State Type  API     Org                     geometry  \n",
       "0  Alameda    CA   ES  933  Public  POINT (-122.23876 37.74476)  \n",
       "1  Alameda    CA   ES  932  Public  POINT (-122.25186 37.73900)  \n",
       "2  Alameda    CA   ES  853  Public  POINT (-122.25892 37.76206)  \n",
       "3  Alameda    CA   ES  927  Public  POINT (-122.23484 37.76525)  \n",
       "4  Alameda    CA   ES  894  Public  POINT (-122.23808 37.75396)  "
      ]
     },
     "execution_count": 11,
     "metadata": {},
     "output_type": "execute_result"
    }
   ],
   "source": [
    "schools_gdf = gpd.GeoDataFrame(schools_df, \n",
    "                               geometry=gpd.points_from_xy(schools_df.X, schools_df.Y))\n",
    "schools_gdf.crs = \"epsg:4326\"\n",
    "schools_gdf.head()"
   ]
  },
  {
   "cell_type": "markdown",
   "metadata": {},
   "source": [
    "You'll notice that the shape is the same from what we had as a dataframe, just with the added `geometry` column."
   ]
  },
  {
   "cell_type": "code",
   "execution_count": 12,
   "metadata": {
    "scrolled": true
   },
   "outputs": [
    {
     "data": {
      "text/plain": [
       "(550, 10)"
      ]
     },
     "execution_count": 12,
     "metadata": {},
     "output_type": "execute_result"
    }
   ],
   "source": [
    "schools_gdf.shape"
   ]
  },
  {
   "cell_type": "markdown",
   "metadata": {},
   "source": [
    "And with it being a GeoDataFrame, we can plot it as we did for our other data sets.\n",
    "Notice that we have our first **point** geometry GeoDataFrame."
   ]
  },
  {
   "cell_type": "code",
   "execution_count": 13,
   "metadata": {},
   "outputs": [
    {
     "data": {
      "text/plain": [
       "<AxesSubplot:>"
      ]
     },
     "execution_count": 13,
     "metadata": {},
     "output_type": "execute_result"
    },
    {
     "data": {
      "image/png": "[encoded data removed]",
      "text/plain": [
       "<Figure size 432x288 with 1 Axes>"
      ]
     },
     "metadata": {
      "needs_background": "light"
     },
     "output_type": "display_data"
    }
   ],
   "source": [
    "schools_gdf.plot()"
   ]
  },
  {
   "cell_type": "markdown",
   "metadata": {},
   "source": [
    "But of course we'll want to transform the CRS, so that we can later plot it with our bike boulevard data."
   ]
  },
  {
   "cell_type": "code",
   "execution_count": 14,
   "metadata": {},
   "outputs": [
    {
     "data": {
      "text/plain": [
       "<AxesSubplot:>"
      ]
     },
     "execution_count": 14,
     "metadata": {},
     "output_type": "execute_result"
    },
    {
     "data": {
      "image/png": "[encoded data removed]",
      "text/plain": [
       "<Figure size 432x288 with 1 Axes>"
      ]
     },
     "metadata": {
      "needs_background": "light"
     },
     "output_type": "display_data"
    }
   ],
   "source": [
    "schools_gdf_utm10 = schools_gdf.to_crs( \"epsg:26910\")\n",
    "schools_gdf_utm10.plot()"
   ]
  },
  {
   "cell_type": "markdown",
   "metadata": {},
   "source": [
    "*In Lesson 2 we discussed that you can save out GeoDataFrames in multiple file formats. You could opt for a GeoJSON, a shapefile, etc... for point data sets it is also an option to save it out as a CSV since the geometry isn't complicated*"
   ]
  },
  {
   "cell_type": "markdown",
   "metadata": {},
   "source": [
    "## Exercise: Even More Data!\n",
    "Let's play around with another point GeoDataFrame.\n",
    "\n",
    "In the code cell provided below, compose code to:\n",
    "\n",
    "1. Read in the parcel points data (`notebook_data/parcels/parcel_pts_rand30pct.geojson`)\n",
    "1. Set the CRS to be 4326\n",
    "1. Transform the CRS to 26910\n",
    "1. Plot and customize as desired!\n",
    "\n",
    "To see the solution, double-click the Markdown cell below."
   ]
  },
  {
   "cell_type": "code",
   "execution_count": 15,
   "metadata": {},
   "outputs": [],
   "source": [
    "# YOUR CODE HERE:\n",
    "\n",
    "\n",
    "\n",
    "\n"
   ]
  },
  {
   "cell_type": "markdown",
   "metadata": {},
   "source": [
    "## Double-click to see solution!\n",
    "\n",
    "<!--\n",
    "\n",
    "# SOLUTION\n",
    "# 1. Read in the parcel points data ('notebook_data/parcels/parcel_pts_rand30pct.geojson')\n",
    "parcel_pts_gdf = gpd.read_file('notebook_data/parcels/parcel_pts_rand30pct.geojson')\n",
    "parcel_pts_gdf.head()\n",
    "# 2. Transform CRS to EPSG code 4326 if need be\n",
    "parcel_pts_gdf.crs\n",
    "parcel_pts_gdf.crs = \"epsg:4326\"\n",
    "parcel_pts_gdf_utm10 = parcel_pts_gdf.to_crs(\"epsg:26910\")\n",
    "\n",
    "# 3. Plot and customize!\n",
    "parcel_pts_gdf.plot(markersize=5, color='violet', edgecolor='black',\n",
    "                          linewidth=0.5, alpha=0.3, figsize=[6,6])\n",
    "parcel_pts_gdf_utm10.plot(markersize=5, color='limegreen', edgecolor='black',\n",
    "                          linewidth=0.5, alpha=0.3, figsize=[6,6])\n",
    "\n",
    "-->\n",
    "\n",
    "-------------------------"
   ]
  },
  {
   "cell_type": "markdown",
   "metadata": {},
   "source": [
    "## 4.3 Map Overlays with Matplotlib\n",
    "\n",
    "No matter the geometry type we have for our GeoDataFrame, we can create overlay plots.\n",
    "\n",
    "Since we've already done the legwork of transforming our CRS, we can go ahead and plot them together."
   ]
  },
  {
   "cell_type": "code",
   "execution_count": 16,
   "metadata": {
    "scrolled": false
   },
   "outputs": [
    {
     "data": {
      "text/plain": [
       "<AxesSubplot:>"
      ]
     },
     "execution_count": 16,
     "metadata": {},
     "output_type": "execute_result"
    },
    {
     "data": {
      "image/png": "[encoded data removed]",
      "text/plain": [
       "<Figure size 720x720 with 1 Axes>"
      ]
     },
     "metadata": {
      "needs_background": "light"
     },
     "output_type": "display_data"
    }
   ],
   "source": [
    "fig, ax = plt.subplots(figsize=(10,10))\n",
    "bike_blvds_utm10.plot(ax=ax, color='red')\n",
    "schools_gdf_utm10 .plot(ax=ax)"
   ]
  },
  {
   "cell_type": "markdown",
   "metadata": {},
   "source": [
    "If we want to answer questions like *\"What schools are close to bike boulevards in Berkeley?\"*, the above plot isn't super helpful, since the extent covers all of Alameda county.\n",
    "\n",
    "Luckily, GeoDataFrames have an easy method to extract the minimium and maximum values for both x and y, so we can use that information to set the bounds for our plot."
   ]
  },
  {
   "cell_type": "code",
   "execution_count": 17,
   "metadata": {},
   "outputs": [
    {
     "name": "stdout",
     "output_type": "stream",
     "text": [
      "561541.1531499997 4189007.11635 566451.5549499998 4193483.09445\n"
     ]
    }
   ],
   "source": [
    "minx, miny, maxx, maxy = bike_blvds.total_bounds\n",
    "print(minx, miny, maxx, maxy)"
   ]
  },
  {
   "cell_type": "markdown",
   "metadata": {},
   "source": [
    "Using `xlim` and `ylim` we can zoom in to see if there are schools proximal to the bike boulevards."
   ]
  },
  {
   "cell_type": "code",
   "execution_count": 18,
   "metadata": {},
   "outputs": [
    {
     "data": {
      "text/plain": [
       "(4189007.11635, 4193483.09445)"
      ]
     },
     "execution_count": 18,
     "metadata": {},
     "output_type": "execute_result"
    },
    {
     "data": {
      "image/png": "[encoded data removed]",
      "text/plain": [
       "<Figure size 720x720 with 1 Axes>"
      ]
     },
     "metadata": {
      "needs_background": "light"
     },
     "output_type": "display_data"
    }
   ],
   "source": [
    "fig, ax = plt.subplots(figsize=(10,10))\n",
    "bike_blvds_utm10.plot(ax=ax, color='red')\n",
    "schools_gdf_utm10 .plot(ax=ax)\n",
    "plt.xlim(minx, maxx)\n",
    "plt.ylim(miny, maxy)"
   ]
  },
  {
   "cell_type": "markdown",
   "metadata": {},
   "source": [
    "## 4.4 Recap\n",
    "\n",
    "In this lesson we learned a several new skills:\n",
    "- Transformed an a-spatial dataframe into a geospatial one\n",
    "    - `gpd.GeoDataFrame`\n",
    "- Worked with point and line GeoDataFrames\n",
    "- Overlayed point and line GeoDataFrames\n",
    "- Limited the extent of a map\n",
    "    - `total_bounds`\n"
   ]
  },
  {
   "cell_type": "markdown",
   "metadata": {},
   "source": [
    "## Exercise: Overlay Mapping\n",
    "\n",
    "Let's take some time to practice reading in and reconciling new datasets, then mapping them together.\n",
    "\n",
    "In the code cell provided below, write code to:\n",
    "\n",
    "1. Bring in your Berkeley places shapefile (and don't forget to check/transform the crs!) (`notebook_data/berkeley/BerkeleyCityLimits.shp`)\n",
    "1. Overlay the parcel points on top of the bike boulevards\n",
    "1. Create the same plot but limit it to the extent of Berkeley city limits\n",
    "\n",
    "***BONUS***: *Add the Berkeley outline to your last plot!*\n",
    "\n",
    "To see the solution, double-click the Markdown cell below."
   ]
  },
  {
   "cell_type": "code",
   "execution_count": 19,
   "metadata": {},
   "outputs": [],
   "source": [
    "# YOUR CODE HERE:\n",
    "\n",
    "\n",
    "\n"
   ]
  },
  {
   "cell_type": "markdown",
   "metadata": {},
   "source": [
    "## Double-click the see the solution!\n",
    "\n",
    "<!--\n",
    "\n",
    "# SOLUTION\n",
    "\n",
    "# 1. Bring in your Berkeley places shapefile\n",
    "berkeley_places = gpd.read_file(\"notebook_data/berkeley/BerkeleyCityLimits.shp\")\n",
    "berkeley_places.crs\n",
    "berkeley_places_utm10 = berkeley_places.to_crs(\"epsg:26910\")\n",
    "\n",
    "# 2. Overlay the parcel points on top of the bike boulevards\n",
    "fig, ax = plt.subplots(figsize=(10,10))\n",
    "bike_blvds_utm10.plot(ax=ax, color='black')\n",
    "parcel_pts_gdf_utm10.plot(ax=ax, color='orange', markersize=5)\n",
    "\n",
    "# 3. Create the same plot but limit it to the extent of Berkeley cit limits\n",
    "minx, miny, maxx, maxy = berkeley_places_utm10.total_bounds\n",
    "fig, ax = plt.subplots(figsize=(10,10))\n",
    "bike_blvds_utm10.plot(ax=ax, color='black')\n",
    "parcel_pts_gdf_utm10.plot(ax=ax, color='orange', markersize=5)\n",
    "plt.xlim(minx, maxx)\n",
    "plt.ylim(miny, maxy)\n",
    "\n",
    "\n",
    "# BONUS: Add the Berkeley outline to your last plot\n",
    "fig, ax = plt.subplots(figsize=(10,10))\n",
    "berkeley_places_utm10.plot(ax=ax, color='grey')\n",
    "bike_blvds_utm10.plot(ax=ax, color='black')\n",
    "parcel_pts_gdf_utm10.plot(ax=ax, color='orange', markersize=5)\n",
    "plt.xlim(minx, maxx)\n",
    "plt.ylim(miny, maxy)\n",
    "\n",
    "-->\n",
    "\n",
    "-----------------------------------"
   ]
  },
  {
   "cell_type": "markdown",
   "metadata": {},
   "source": [
    "## 4.5 Teaser for Day 2...\n",
    "\n",
    "You may be wondering if and how we could make our maps more interesting and informative than this.\n",
    "\n",
    "To give you a tantalizing taste of Day 2, the answer is: Yes, we can! And here's how!"
   ]
  },
  {
   "cell_type": "code",
   "execution_count": 20,
   "metadata": {},
   "outputs": [
    {
     "data": {
      "text/plain": [
       "Text(0.5, 1.0, 'Public and Private Schools, Alameda County')"
      ]
     },
     "execution_count": 20,
     "metadata": {},
     "output_type": "execute_result"
    },
    {
     "data": {
      "image/png": "[encoded data removed]",
      "text/plain": [
       "<Figure size 648x648 with 1 Axes>"
      ]
     },
     "metadata": {
      "needs_background": "light"
     },
     "output_type": "display_data"
    }
   ],
   "source": [
    "ax = schools_gdf_utm10.plot(column='Org', cmap='winter', \n",
    "                               markersize=35, edgecolor='black',\n",
    "                               linewidth=0.5, alpha=1, figsize=[9, 9],\n",
    "                               legend=True)\n",
    "ax.set_title('Public and Private Schools, Alameda County')"
   ]
  },
  {
   "cell_type": "markdown",
   "metadata": {},
   "source": [
    "---\n",
    "<div style=\"display:inline-block;vertical-align:middle;\">\n",
    "<a href=\"https://dlab.berkeley.edu/\" target=\"_blank\"><img src =\"assets/images/dlab_logo.png\" width=\"75\" align=\"left\">\n",
    "</a>\n",
    "</div>\n",
    "\n",
    "<div style=\"display:inline-block;vertical-align:middle;\">\n",
    "    <div style=\"font-size:larger\">&nbsp;D-Lab @ University of California - Berkeley</div>\n",
    "    <div>&nbsp;Team Geo<div>\n",
    "</div>\n",
    "        \n",
    "\n",
    "\n"
   ]
  }
 ],
 "metadata": {
  "kernelspec": {
   "display_name": "geo_env",
   "language": "python",
   "name": "geo_env"
  },
  "language_info": {
   "codemirror_mode": {
    "name": "ipython",
    "version": 3
   },
   "file_extension": ".py",
   "mimetype": "text/x-python",
   "name": "python",
   "nbconvert_exporter": "python",
   "pygments_lexer": "ipython3",
   "version": "3.8.6"
  }
 },
 "nbformat": 4,
 "nbformat_minor": 4
}
