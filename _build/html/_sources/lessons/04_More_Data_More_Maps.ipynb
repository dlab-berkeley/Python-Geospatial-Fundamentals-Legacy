{
 "cells": [
  {
   "cell_type": "markdown",
   "metadata": {},
   "source": [
    "# Lesson 4. More Data, More Maps!\n",
    "\n",
    "Now that we know how to pull in data, check and transform Coordinate Reference Systems (CRS), and plot GeoDataFrames together - let's practice doing the same thing with other geometry types. In this notebook we'll be bringing in bike boulevards and schools, which will get us primed to think about spatial relationship questions.\n",
    "\n",
    "- 4.1 Berkeley Bike Boulevards\n",
    "- 4.2 Alameda County Schools\n",
    "- **Exercise**: Even More Data!\n",
    "- 4.3 Map Overlays with Matplotlib\n",
    "- 4.4 Recap\n",
    "- **Exercise**: Overlay Mapping\n",
    "- 4.5 Teaser for Day 2\n",
    "\n",
    "\n",
    "<br>\n",
    "<font color='grey'>\n",
    "    <b>Instructor Notes</b>\n",
    "\n",
    "- Datasets used\n",
    "    - 'notebook_data/transportation/BerkeleyBikeBlvds.geojson'\n",
    "    - 'notebook_data/alco_schools.csv'\n",
    "    - 'notebook_data/parcels/parcel_pts_rand30pct.geojson'\n",
    "    - ‘notebook_data/berkeley/BerkeleyCityLimits.shp’\n",
    "\n",
    "- Expected time to complete\n",
    "    - Lecture + Questions: 30 minutes\n",
    "    - Exercises: 20 minutes\n",
    "</font>"
   ]
  },
  {
   "cell_type": "markdown",
   "metadata": {},
   "source": [
    "### Import Libraries"
   ]
  },
  {
   "cell_type": "code",
   "execution_count": null,
   "metadata": {},
   "outputs": [],
   "source": [
    "import pandas as pd\n",
    "import geopandas as gpd\n",
    "\n",
    "import matplotlib # base python plotting library\n",
    "import matplotlib.pyplot as plt # submodule of matplotlib\n",
    "\n",
    "# To display plots, maps, charts etc in the notebook\n",
    "%matplotlib inline  "
   ]
  },
  {
   "cell_type": "markdown",
   "metadata": {},
   "source": [
    "## 4.1 Berkeley Bike Boulevards\n",
    "\n",
    "We're going to bring in data bike boulevards in Berkeley. Note two things that are different from our previous data:\n",
    "- We're bringing in a [GeoJSON](https://en.wikipedia.org/wiki/GeoJSON) this time and not a shapefile\n",
    "- We have a **line** geometry GeoDataFrame (our county and states data had **polygon** geometries)"
   ]
  },
  {
   "cell_type": "code",
   "execution_count": null,
   "metadata": {},
   "outputs": [],
   "source": [
    "bike_blvds = gpd.read_file('notebook_data/transportation/BerkeleyBikeBlvds.geojson')\n",
    "bike_blvds.plot()"
   ]
  },
  {
   "cell_type": "markdown",
   "metadata": {},
   "source": [
    "As usual, we'll want to do our usual data exploration..."
   ]
  },
  {
   "cell_type": "code",
   "execution_count": null,
   "metadata": {},
   "outputs": [],
   "source": [
    "bike_blvds.head()"
   ]
  },
  {
   "cell_type": "code",
   "execution_count": null,
   "metadata": {},
   "outputs": [],
   "source": [
    "bike_blvds.shape"
   ]
  },
  {
   "cell_type": "code",
   "execution_count": null,
   "metadata": {},
   "outputs": [],
   "source": [
    "bike_blvds.columns"
   ]
  },
  {
   "cell_type": "markdown",
   "metadata": {},
   "source": [
    "Our bike boulevard data includes the following information:\n",
    " - `BB_STRNAM` - bike boulevard Streetname\n",
    " - `BB_STRID` - bike boulevard Street ID\n",
    " - `BB_FRO` - bike boulevard origin street\n",
    " - `BB_TO` - bike boulevard end street\n",
    " - `BB_SECID`- bike boulevard section id\n",
    " - `DIR_` - cardinal directions the bike boulevard runs\n",
    " - `Status` - status on whether the bike boulevard exists\n",
    " - `ALT_bikeCA` - ? \n",
    " - `Shape_len` - length of the boulevard in meters \n",
    " - `len_km` - length of the boulevard in kilometers\n",
    " - `geometry`"
   ]
  },
  {
   "cell_type": "markdown",
   "metadata": {},
   "source": [
    "\n",
    "<div style=\"display:inline-block;vertical-align:top;\">\n",
    "    <img src=\"http://www.pngall.com/wp-content/uploads/2016/03/Light-Bulb-Free-PNG-Image.png\" width=\"30\" align=left > \n",
    "</div>  \n",
    "<div style=\"display:inline-block;\">\n",
    "\n",
    "#### Question\n",
    "</div>\n",
    "\n",
    "Why are there 211 features when we only have 8 bike boulevards?"
   ]
  },
  {
   "cell_type": "raw",
   "metadata": {},
   "source": [
    "Your reponse here:\n",
    "\n",
    "\n",
    "\n",
    "\n",
    "\n"
   ]
  },
  {
   "cell_type": "code",
   "execution_count": null,
   "metadata": {},
   "outputs": [],
   "source": [
    "fig,ax = plt.subplots(figsize=(10,10))\n",
    "bike_blvds.plot(ax=ax)\n",
    "bike_blvds.head(1).plot(color='orange',ax=ax)"
   ]
  },
  {
   "cell_type": "markdown",
   "metadata": {},
   "source": [
    "And now take a look at our CRS..."
   ]
  },
  {
   "cell_type": "code",
   "execution_count": null,
   "metadata": {},
   "outputs": [],
   "source": [
    "bike_blvds.crs"
   ]
  },
  {
   "cell_type": "markdown",
   "metadata": {},
   "source": [
    "Let's tranform our CRS to UTM Zone 10N, NAD83 that we used in the last lesson."
   ]
  },
  {
   "cell_type": "code",
   "execution_count": null,
   "metadata": {},
   "outputs": [],
   "source": [
    "bike_blvds_utm10 = bike_blvds.to_crs( \"epsg:26910\")"
   ]
  },
  {
   "cell_type": "code",
   "execution_count": null,
   "metadata": {},
   "outputs": [],
   "source": [
    "bike_blvds_utm10.head()"
   ]
  },
  {
   "cell_type": "code",
   "execution_count": null,
   "metadata": {},
   "outputs": [],
   "source": [
    "bike_blvds_utm10.crs"
   ]
  },
  {
   "cell_type": "markdown",
   "metadata": {},
   "source": [
    "## 4.2 Alameda County Schools\n",
    "\n",
    "Alright! Now that we have our bike boulevard data squared away, we're going to bring in our Alameda County school data."
   ]
  },
  {
   "cell_type": "code",
   "execution_count": null,
   "metadata": {},
   "outputs": [],
   "source": [
    "schools_df = pd.read_csv('notebook_data/alco_schools.csv')\n",
    "schools_df.head()"
   ]
  },
  {
   "cell_type": "code",
   "execution_count": null,
   "metadata": {},
   "outputs": [],
   "source": [
    "schools_df.shape"
   ]
  },
  {
   "cell_type": "markdown",
   "metadata": {},
   "source": [
    "<img src=\"http://www.pngall.com/wp-content/uploads/2016/03/Light-Bulb-Free-PNG-Image.png\" width=\"20\" align=left >  **Questions** \n",
    "\n",
    "Without looking ahead:\n",
    "\n",
    "1. Is this a geodataframe? \n",
    "2. How do you know?\n",
    "\n"
   ]
  },
  {
   "cell_type": "raw",
   "metadata": {},
   "source": [
    "Your reponse here:\n",
    "    \n",
    "    \n",
    "    \n",
    "    \n",
    "    \n",
    "    "
   ]
  },
  {
   "cell_type": "markdown",
   "metadata": {},
   "source": [
    "<br>\n",
    "<br>\n",
    "This is not a GeoDataFrame! A couple of clues to figure that out are..\n",
    "\n",
    "1. We're pulling in a Comma Separated Value (CSV) file, which is not a geospatial data format\n",
    "2. There is no geometry column (although we do have latitude and longitude values)\n",
    "\n",
    "\n",
    "-------------------------------\n",
    "\n",
    "Although our school data is not starting off as a GeoDataFrame, we actually have the tools and information to make it one. Using the `gpd.GeoDataFrame` constructor, we can transform our plain DataFrame into a GeoDataFrame (specifying the geometry information and then the CRS)."
   ]
  },
  {
   "cell_type": "code",
   "execution_count": null,
   "metadata": {},
   "outputs": [],
   "source": [
    "schools_gdf = gpd.GeoDataFrame(schools_df, \n",
    "                               geometry=gpd.points_from_xy(schools_df.X, schools_df.Y))"
   ]
  },
  {
   "cell_type": "code",
   "execution_count": null,
   "metadata": {},
   "outputs": [],
   "source": [
    "print(schools_gdf.crs)"
   ]
  },
  {
   "cell_type": "code",
   "execution_count": null,
   "metadata": {},
   "outputs": [],
   "source": [
    "schools_gdf.crs = \"epsg:4326\"\n",
    "schools_gdf.head()"
   ]
  },
  {
   "cell_type": "markdown",
   "metadata": {},
   "source": [
    "You'll notice that the shape is the same from what we had as a dataframe, just with the added `geometry` column."
   ]
  },
  {
   "cell_type": "code",
   "execution_count": null,
   "metadata": {
    "scrolled": true
   },
   "outputs": [],
   "source": [
    "schools_gdf.shape"
   ]
  },
  {
   "cell_type": "markdown",
   "metadata": {},
   "source": [
    "And with it being a GeoDataFrame, we can plot it as we did for our other data sets.\n",
    "Notice that we have our first **point** geometry GeoDataFrame."
   ]
  },
  {
   "cell_type": "code",
   "execution_count": null,
   "metadata": {},
   "outputs": [],
   "source": [
    "schools_gdf.plot()"
   ]
  },
  {
   "cell_type": "markdown",
   "metadata": {},
   "source": [
    "But of course we'll want to transform the CRS, so that we can later plot it with our bike boulevard data."
   ]
  },
  {
   "cell_type": "code",
   "execution_count": null,
   "metadata": {},
   "outputs": [],
   "source": [
    "schools_gdf_utm10 = schools_gdf.to_crs( \"epsg:26910\")\n",
    "schools_gdf_utm10.plot()"
   ]
  },
  {
   "cell_type": "markdown",
   "metadata": {},
   "source": [
    "*In Lesson 2 we discussed that you can save out GeoDataFrames in multiple file formats. You could opt for a GeoJSON, a shapefile, etc... for point data sets it is also an option to save it out as a CSV since the geometry isn't complicated*"
   ]
  },
  {
   "cell_type": "markdown",
   "metadata": {},
   "source": [
    "## Exercise: Even More Data!\n",
    "Let's play around with another point GeoDataFrame.\n",
    "\n",
    "In the code cell provided below, compose code to:\n",
    "\n",
    "1. Read in the parcel points data (`notebook_data/parcels/parcel_pts_rand30pct.geojson`)\n",
    "2. Transform the CRS to 26910\n",
    "3. Plot and customize as desired!\n",
    "\n",
    "To see the solution, double-click the Markdown cell below."
   ]
  },
  {
   "cell_type": "code",
   "execution_count": null,
   "metadata": {},
   "outputs": [],
   "source": [
    "# YOUR CODE HERE:\n",
    "\n",
    "\n"
   ]
  },
  {
   "cell_type": "markdown",
   "metadata": {},
   "source": [
    "## Double-click to see solution!\n",
    "\n",
    "<!--\n",
    "\n",
    "# SOLUTION\n",
    "# 1. Read in the parcel points data ('notebook_data/parcels/parcel_pts_rand30pct.geojson')\n",
    "parcel_pts_gdf = gpd.read_file('notebook_data/parcels/parcel_pts_rand30pct.geojson')\n",
    "parcel_pts_gdf.head()\n",
    "# 2. Transform CRS to EPSG code 4326 if need be\n",
    "parcel_pts_gdf.crs\n",
    "parcel_pts_gdf.crs = \"epsg:4326\"\n",
    "parcel_pts_gdf_utm10 = parcel_pts_gdf.to_crs(\"epsg:26910\")\n",
    "\n",
    "# 3. Plot and customize!\n",
    "parcel_pts_gdf.plot(markersize=5, color='violet', edgecolor='black',\n",
    "                          linewidth=0.5, alpha=0.3, figsize=[6,6])\n",
    "parcel_pts_gdf_utm10.plot(markersize=5, color='limegreen', edgecolor='black',\n",
    "                          linewidth=0.5, alpha=0.3, figsize=[6,6])\n",
    "\n",
    "-->\n",
    "\n",
    "-------------------------"
   ]
  },
  {
   "cell_type": "markdown",
   "metadata": {},
   "source": [
    "## 4.3 Map Overlays with Matplotlib\n",
    "\n",
    "No matter the geometry type we have for our GeoDataFrame, we can create overlay plots.\n",
    "\n",
    "Since we've already done the legwork of transforming our CRS, we can go ahead and plot them together."
   ]
  },
  {
   "cell_type": "code",
   "execution_count": null,
   "metadata": {
    "scrolled": false
   },
   "outputs": [],
   "source": [
    "fig, ax = plt.subplots(figsize=(10,10))\n",
    "bike_blvds_utm10.plot(ax=ax, color='red')\n",
    "schools_gdf_utm10.plot(ax=ax)"
   ]
  },
  {
   "cell_type": "markdown",
   "metadata": {},
   "source": [
    "If we want to answer questions like *\"What schools are close to bike boulevards in Berkeley?\"*, the above plot isn't super helpful, since the extent covers all of Alameda county.\n",
    "\n",
    "Luckily, GeoDataFrames have an easy method to extract the minimium and maximum values for both x and y, so we can use that information to set the bounds for our plot."
   ]
  },
  {
   "cell_type": "code",
   "execution_count": null,
   "metadata": {},
   "outputs": [],
   "source": [
    "minx, miny, maxx, maxy = bike_blvds.total_bounds\n",
    "print(minx, miny, maxx, maxy)"
   ]
  },
  {
   "cell_type": "markdown",
   "metadata": {},
   "source": [
    "Using `xlim` and `ylim` we can zoom in to see if there are schools proximal to the bike boulevards."
   ]
  },
  {
   "cell_type": "code",
   "execution_count": null,
   "metadata": {},
   "outputs": [],
   "source": [
    "fig, ax = plt.subplots(figsize=(10,10))\n",
    "bike_blvds_utm10.plot(ax=ax, color='red')\n",
    "schools_gdf_utm10 .plot(ax=ax)\n",
    "plt.xlim(minx, maxx)\n",
    "plt.ylim(miny, maxy)"
   ]
  },
  {
   "cell_type": "markdown",
   "metadata": {},
   "source": [
    "## 4.4 Recap\n",
    "\n",
    "In this lesson we learned a several new skills:\n",
    "- Transformed an a-spatial dataframe into a geospatial one\n",
    "    - `gpd.GeoDataFrame`\n",
    "- Worked with point and line GeoDataFrames\n",
    "- Overlayed point and line GeoDataFrames\n",
    "- Limited the extent of a map\n",
    "    - `total_bounds`\n"
   ]
  },
  {
   "cell_type": "markdown",
   "metadata": {},
   "source": [
    "## Exercise: Overlay Mapping\n",
    "\n",
    "Let's take some time to practice reading in and reconciling new datasets, then mapping them together.\n",
    "\n",
    "In the code cell provided below, write code to:\n",
    "\n",
    "1. Bring in your Berkeley places shapefile (and don't forget to check/transform the crs!) (`notebook_data/berkeley/BerkeleyCityLimits.shp`)\n",
    "1. Overlay the parcel points on top of the bike boulevards\n",
    "1. Create the same plot but limit it to the extent of Berkeley city limits\n",
    "\n",
    "***BONUS***: *Add the Berkeley outline to your last plot!*\n",
    "\n",
    "To see the solution, double-click the Markdown cell below."
   ]
  },
  {
   "cell_type": "code",
   "execution_count": null,
   "metadata": {
    "scrolled": true
   },
   "outputs": [],
   "source": [
    "# YOUR CODE HERE:\n"
   ]
  },
  {
   "cell_type": "markdown",
   "metadata": {},
   "source": [
    "## Double-click the see the solution!\n",
    "\n",
    "<!--\n",
    "\n",
    "# SOLUTION\n",
    "\n",
    "# 1. Bring in your Berkeley places shapefile\n",
    "berkeley_places = gpd.read_file(\"notebook_data/berkeley/BerkeleyCityLimits.shp\")\n",
    "berkeley_places.crs\n",
    "berkeley_places_utm10 = berkeley_places.to_crs(\"epsg:26910\")\n",
    "\n",
    "# 2. Overlay the parcel points on top of the bike boulevards\n",
    "fig, ax = plt.subplots(figsize=(10,10))\n",
    "bike_blvds_utm10.plot(ax=ax, color='black')\n",
    "parcel_pts_gdf_utm10.plot(ax=ax, color='orange', markersize=5)\n",
    "\n",
    "# 3. Create the same plot but limit it to the extent of Berkeley cit limits\n",
    "minx, miny, maxx, maxy = berkeley_places_utm10.total_bounds\n",
    "fig, ax = plt.subplots(figsize=(10,10))\n",
    "bike_blvds_utm10.plot(ax=ax, color='black')\n",
    "parcel_pts_gdf_utm10.plot(ax=ax, color='orange', markersize=5)\n",
    "plt.xlim(minx, maxx)\n",
    "plt.ylim(miny, maxy)\n",
    "\n",
    "\n",
    "# BONUS: Add the Berkeley outline to your last plot\n",
    "fig, ax = plt.subplots(figsize=(10,10))\n",
    "berkeley_places_utm10.plot(ax=ax, color='grey')\n",
    "bike_blvds_utm10.plot(ax=ax, color='black')\n",
    "parcel_pts_gdf_utm10.plot(ax=ax, color='orange', markersize=5)\n",
    "plt.xlim(minx, maxx)\n",
    "plt.ylim(miny, maxy)\n",
    "\n",
    "-->\n",
    "\n",
    "-----------------------------------"
   ]
  },
  {
   "cell_type": "markdown",
   "metadata": {},
   "source": [
    "## 4.5 Teaser for Day 2...\n",
    "\n",
    "You may be wondering if and how we could make our maps more interesting and informative than this.\n",
    "\n",
    "To give you a tantalizing taste of Day 2, the answer is: Yes, we can! And here's how!"
   ]
  },
  {
   "cell_type": "code",
   "execution_count": null,
   "metadata": {},
   "outputs": [],
   "source": [
    "ax = schools_gdf_utm10.plot(column='Org', cmap='winter', \n",
    "                               markersize=35, edgecolor='black',\n",
    "                               linewidth=0.5, alpha=1, figsize=[9, 9],\n",
    "                               legend=True)\n",
    "ax.set_title('Public and Private Schools, Alameda County')"
   ]
  },
  {
   "cell_type": "markdown",
   "metadata": {},
   "source": [
    "---\n",
    "<div style=\"display:inline-block;vertical-align:middle;\">\n",
    "<a href=\"https://dlab.berkeley.edu/\" target=\"_blank\"><img src =\"assets/images/dlab_logo.png\" width=\"75\" align=\"left\">\n",
    "</a>\n",
    "</div>\n",
    "\n",
    "<div style=\"display:inline-block;vertical-align:middle;\">\n",
    "    <div style=\"font-size:larger\">&nbsp;D-Lab @ University of California - Berkeley</div>\n",
    "    <div>&nbsp;Team Geo<div>\n",
    "</div>\n",
    "        \n",
    "\n",
    "\n"
   ]
  }
 ],
 "metadata": {
  "kernelspec": {
   "display_name": "Python 3",
   "language": "python",
   "name": "python3"
  },
  "language_info": {
   "codemirror_mode": {
    "name": "ipython",
    "version": 3
   },
   "file_extension": ".py",
   "mimetype": "text/x-python",
   "name": "python",
   "nbconvert_exporter": "python",
   "pygments_lexer": "ipython3",
   "version": "3.8.3"
  }
 },
 "nbformat": 4,
 "nbformat_minor": 4
}
