{
 "cells": [
  {
   "cell_type": "markdown",
   "metadata": {},
   "source": [
    "# Lesson 6. Spatial Queries\n",
    "\n",
    "In spatial analysis, our goal is not just to make nice maps,\n",
    "but to actually run analyses that leverage the explicitly spatial\n",
    "nature of our data. The process of doing this is known as \n",
    "**spatial analysis**.\n",
    "\n",
    "To construct spatial analyses, we string together series of spatial\n",
    "operations in such a way that the end result answers our question of interest.\n",
    "There are many such spatial operations. These are known as **spatial queries**.\n",
    "\n",
    "\n",
    "- 6.0 Load and prep some data\n",
    "- 6.1 Measurement Queries\n",
    "- 6.2 Relationship Queries\n",
    "- **Exercise**: Spatial Relationship Query\n",
    "- 6.3 Proximity Analysis\n",
    "- **Exercise**: Proximity Analysis\n",
    "- 6.4 Recap\n",
    "\n",
    "\n",
    "\n",
    "\n",
    "\n",
    "<br>\n",
    "<font color='grey'>\n",
    "    <b>Instructor Notes</b>\n",
    "\n",
    "- Datasets used\n",
    "    - 'notebook_data/census/Tracts/cb_2013_06_tract_500k.zip'\n",
    "    - 'notebook_data/protected_areas/CPAD_2020a_Units.shp'\n",
    "    - 'notebook_data/berkeley/BerkeleyCityLimits.shp'\n",
    "    - 'notebook_data/alco_schools.csv'\n",
    "    - 'notebook_data/transportation/BerkeleyBikeBlvds.geojson'\n",
    "    - 'notebook_data/transportation/bart.csv'\n",
    "\n",
    "- Expected time to complete\n",
    "    - Lecture + Questions: 45 minutes\n",
    "    - Exercises: 20 minutes\n",
    "</font>"
   ]
  },
  {
   "cell_type": "markdown",
   "metadata": {},
   "source": [
    "-------------------\n",
    "\n",
    "We will start by reviewing the most\n",
    "fundamental set, which we'll refer to as **spatial queries**.\n",
    "These can be divided into:\n",
    "\n",
    "- <u>Measurement queries</u>\n",
    "    - What is feature A's **length**?\n",
    "    - What is feature A's **area**?\n",
    "    - What is feature A's **perimeter**?\n",
    "    - What is feature A's **distance** from feature B?\n",
    "    - etc.\n",
    "- <u>Relationship queries</u>\n",
    "    - Is feature A **within** feature B?\n",
    "    - Does feature A **intersect** with feature B?\n",
    "    - Does feature A **cross** feature B?\n",
    "    - etc.\n",
    "    \n",
    "We'll work through examples of each of those types of queries.\n",
    "\n",
    "Then we'll see an example of a very common spatial analysis that \n",
    "is a conceptual amalgam of those two types: **proximity analysis**."
   ]
  },
  {
   "cell_type": "code",
   "execution_count": null,
   "metadata": {},
   "outputs": [],
   "source": [
    "import pandas as pd\n",
    "import geopandas as gpd\n",
    "\n",
    "import matplotlib # base python plotting library\n",
    "import matplotlib.pyplot as plt # submodule of matplotlib\n",
    "\n",
    "# To display plots, maps, charts etc in the notebook\n",
    "%matplotlib inline  "
   ]
  },
  {
   "cell_type": "markdown",
   "metadata": {},
   "source": [
    "## 6.0 Load and prep some data"
   ]
  },
  {
   "cell_type": "markdown",
   "metadata": {},
   "source": [
    "Let's read in our census tracts data again."
   ]
  },
  {
   "cell_type": "code",
   "execution_count": null,
   "metadata": {},
   "outputs": [],
   "source": [
    "census_tracts = gpd.read_file(\"zip://notebook_data/census/Tracts/cb_2013_06_tract_500k.zip\")\n",
    "census_tracts.plot()"
   ]
  },
  {
   "cell_type": "code",
   "execution_count": null,
   "metadata": {
    "scrolled": false
   },
   "outputs": [],
   "source": [
    "census_tracts.head()"
   ]
  },
  {
   "cell_type": "markdown",
   "metadata": {},
   "source": [
    "Then we'll grab just the Alameda Country tracts."
   ]
  },
  {
   "cell_type": "code",
   "execution_count": null,
   "metadata": {},
   "outputs": [],
   "source": [
    "census_tracts_ac = census_tracts.loc[census_tracts['COUNTYFP']=='001'].reset_index(drop=True)\n",
    "census_tracts_ac.plot()"
   ]
  },
  {
   "cell_type": "markdown",
   "metadata": {},
   "source": [
    "## 6.1 Measurement Queries"
   ]
  },
  {
   "cell_type": "markdown",
   "metadata": {},
   "source": [
    "We'll start off with some simple measurement queries.\n",
    "\n",
    "For example, here's how we can get the areas of each of our census tracts."
   ]
  },
  {
   "cell_type": "code",
   "execution_count": null,
   "metadata": {},
   "outputs": [],
   "source": [
    "census_tracts_ac.area"
   ]
  },
  {
   "cell_type": "markdown",
   "metadata": {},
   "source": [
    "Okay! \n",
    "\n",
    "We got... \n",
    "\n",
    "numbers!\n",
    "\n",
    "...?"
   ]
  },
  {
   "cell_type": "markdown",
   "metadata": {},
   "source": [
    "<div style=\"display:inline-block;vertical-align:top;\">\n",
    "    <img src=\"http://www.pngall.com/wp-content/uploads/2016/03/Light-Bulb-Free-PNG-Image.png\" width=\"30\" align=left > \n",
    "</div>  \n",
    "<div style=\"display:inline-block;\">\n",
    "\n",
    "#### Questions\n",
    "</div>\n",
    "\n",
    "1. What do those numbers mean?\n",
    "1. What are our units?\n",
    "1. And if we're not sure, how might be find out?"
   ]
  },
  {
   "cell_type": "raw",
   "metadata": {},
   "source": [
    "Your responses here:\n",
    "\n",
    "\n",
    "\n",
    "\n",
    "\n"
   ]
  },
  {
   "cell_type": "markdown",
   "metadata": {},
   "source": [
    "Let's take a look at our CRS."
   ]
  },
  {
   "cell_type": "code",
   "execution_count": null,
   "metadata": {},
   "outputs": [],
   "source": [
    "census_tracts_ac.crs"
   ]
  },
  {
   "cell_type": "markdown",
   "metadata": {},
   "source": [
    "Ah-hah! We're working in an unprojected CRS, with units of decimal degrees.\n",
    "\n",
    "**When doing spatial analysis, we will almost always want to work in a projected CRS\n",
    "that has natural distance units, such as meters!**\n",
    "\n",
    "Time to project!\n",
    "\n",
    "(As previously, we'll use UTM Zone 10N with a NAD83 data.\n",
    "This is a good choice for our region of interest.)"
   ]
  },
  {
   "cell_type": "code",
   "execution_count": null,
   "metadata": {},
   "outputs": [],
   "source": [
    "census_tracts_ac_utm10 = census_tracts_ac.to_crs( \"epsg:26910\")"
   ]
  },
  {
   "cell_type": "code",
   "execution_count": null,
   "metadata": {},
   "outputs": [],
   "source": [
    "census_tracts_ac_utm10.crs"
   ]
  },
  {
   "cell_type": "markdown",
   "metadata": {},
   "source": [
    "Now let's try our area calculation again."
   ]
  },
  {
   "cell_type": "code",
   "execution_count": null,
   "metadata": {},
   "outputs": [],
   "source": [
    "census_tracts_ac_utm10.area"
   ]
  },
  {
   "cell_type": "markdown",
   "metadata": {},
   "source": [
    "That looks much more reasonable!"
   ]
  },
  {
   "cell_type": "markdown",
   "metadata": {},
   "source": [
    "<div style=\"display:inline-block;vertical-align:top;\">\n",
    "    <img src=\"http://www.pngall.com/wp-content/uploads/2016/03/Light-Bulb-Free-PNG-Image.png\" width=\"30\" align=left > \n",
    "</div>  \n",
    "<div style=\"display:inline-block;\">\n",
    "\n",
    "#### Question\n",
    "</div>\n",
    "\n",
    "What are our units now?\n"
   ]
  },
  {
   "cell_type": "raw",
   "metadata": {},
   "source": [
    "Your response here:\n",
    "    \n",
    "    \n",
    "    \n",
    "    \n",
    "    "
   ]
  },
  {
   "cell_type": "markdown",
   "metadata": {},
   "source": [
    "You may have noticed that our census tracts already have an area column in them.\n",
    "\n",
    "Let's do a sanity check on our results."
   ]
  },
  {
   "cell_type": "code",
   "execution_count": null,
   "metadata": {},
   "outputs": [],
   "source": [
    "# calculate the area for the 0th feature\n",
    "census_tracts_ac_utm10.area[0]"
   ]
  },
  {
   "cell_type": "code",
   "execution_count": null,
   "metadata": {},
   "outputs": [],
   "source": [
    "# get the area for the 0th feature according to its 'ALAND' attribute\n",
    "census_tracts['ALAND'][0]"
   ]
  },
  {
   "cell_type": "code",
   "execution_count": null,
   "metadata": {},
   "outputs": [],
   "source": [
    "# check equivalence of the calculated areas and the 'ALAND' column\n",
    "census_tracts_ac_utm10['ALAND'].values == census_tracts_ac_utm10.area"
   ]
  },
  {
   "cell_type": "markdown",
   "metadata": {},
   "source": [
    "<div style=\"display:inline-block;vertical-align:top;\">\n",
    "    <img src=\"http://www.pngall.com/wp-content/uploads/2016/03/Light-Bulb-Free-PNG-Image.png\" width=\"30\" align=left > \n",
    "</div>  \n",
    "<div style=\"display:inline-block;\">\n",
    "\n",
    "#### Question\n",
    "</div>\n",
    "\n",
    "What explains this disagreement? Are the calculated areas incorrect?\n"
   ]
  },
  {
   "cell_type": "raw",
   "metadata": {},
   "source": [
    "Your response here:\n",
    "    \n",
    "    \n",
    "    \n",
    "    \n",
    "    \n",
    "    "
   ]
  },
  {
   "cell_type": "markdown",
   "metadata": {},
   "source": [
    "We can also sum the area for Alameda county by adding `.sum()` to the end of our area calculation."
   ]
  },
  {
   "cell_type": "code",
   "execution_count": null,
   "metadata": {},
   "outputs": [],
   "source": [
    "census_tracts_ac_utm10.area.sum()"
   ]
  },
  {
   "cell_type": "markdown",
   "metadata": {},
   "source": [
    "We can actually look up how large Alameda County is to check our work.The county is 739 miles<sup>2</sup>, which is around 1,914,001,213 meters<sup>2</sup>. I'd say we're pretty close!"
   ]
  },
  {
   "cell_type": "markdown",
   "metadata": {},
   "source": [
    "As it turns out, we can similarly use another attribute\n",
    "to get the features' lengths.\n",
    "\n",
    "**NOTE**: In this case, given we're\n",
    "dealing with polygons, this is equivalent to getting the features' perimeters."
   ]
  },
  {
   "cell_type": "code",
   "execution_count": null,
   "metadata": {},
   "outputs": [],
   "source": [
    "census_tracts_ac_utm10.length"
   ]
  },
  {
   "cell_type": "markdown",
   "metadata": {},
   "source": [
    "## 6.2 Relationship Queries"
   ]
  },
  {
   "cell_type": "markdown",
   "metadata": {
    "colab_type": "text",
    "id": "GBP2Co-TutCH"
   },
   "source": [
    "\n",
    "[Spatial relationship queries](https://en.wikipedia.org/wiki/Spatial_relation) consider how two geometries or sets of geometries relate to one another in space. \n",
    "\n",
    "<img src=\"https://upload.wikimedia.org/wikipedia/commons/5/55/TopologicSpatialRelarions2.png\" height=\"300px\"></img>\n"
   ]
  },
  {
   "cell_type": "markdown",
   "metadata": {
    "colab_type": "text",
    "id": "jgUkeehpCqnS"
   },
   "source": [
    "Here is a list of the most commonly used GeoPandas methods to test spatial relationships.\n",
    "\n",
    "- [within](http://geopandas.org/reference.html?highlight=distance#geopandas.GeoSeries.within)\n",
    "- [contains](http://geopandas.org/reference.html?highlight=distance#geopandas.GeoSeries.contains) (the inverse of `within`)\n",
    "- [intersects](http://geopandas.org/reference.html?highlight=distance#geopandas.GeoSeries.intersects)\n",
    "\n",
    "<br>\n",
    "There several other GeoPandas spatial relationship predicates but they are more complex to properly employ. For example the following two operations only work with geometries that are completely aligned.\n",
    "\n",
    "- [touches](http://geopandas.org/reference.html?highlight=distance#geopandas.GeoSeries.touches)\n",
    "- [equals](http://geopandas.org/reference.html?highlight=distance#geopandas.GeoSeries.equals)\n",
    "\n",
    "\n",
    "All of these methods takes the form:\n",
    "\n",
    "    Geoseries.<predicate>(geometry)\n",
    "    \n",
    "For example:\n",
    "\n",
    "    Geoseries.contains(geometry)"
   ]
  },
  {
   "cell_type": "markdown",
   "metadata": {},
   "source": [
    "--------------------------------\n",
    "\n",
    "Let's load a new dataset to demonstrate these queries.\n",
    "\n",
    "This is a dataset containing all the protected areas (parks and the like) in California."
   ]
  },
  {
   "cell_type": "code",
   "execution_count": null,
   "metadata": {},
   "outputs": [],
   "source": [
    "pas = gpd.read_file('./notebook_data/protected_areas/CPAD_2020a_Units.shp')"
   ]
  },
  {
   "cell_type": "markdown",
   "metadata": {},
   "source": [
    "Does this need to be reprojected too?"
   ]
  },
  {
   "cell_type": "code",
   "execution_count": null,
   "metadata": {},
   "outputs": [],
   "source": [
    "pas.crs"
   ]
  },
  {
   "cell_type": "markdown",
   "metadata": {},
   "source": [
    "Yes it does!\n",
    "\n",
    "Let's reproject it."
   ]
  },
  {
   "cell_type": "code",
   "execution_count": null,
   "metadata": {},
   "outputs": [],
   "source": [
    "pas_utm10 = pas.to_crs(\"epsg:26910\")"
   ]
  },
  {
   "cell_type": "markdown",
   "metadata": {},
   "source": [
    "One common use for spatial queries is for spatial subsetting of data.\n",
    "\n",
    "In our case, lets use **intersects** to\n",
    "find all of the parks that have land in Alameda County.\n",
    "\n",
    "But before we do that, let's take another look at our geometries."
   ]
  },
  {
   "cell_type": "code",
   "execution_count": null,
   "metadata": {},
   "outputs": [],
   "source": [
    "census_tracts_ac_utm10.geometry.type.unique()"
   ]
  },
  {
   "cell_type": "code",
   "execution_count": null,
   "metadata": {},
   "outputs": [],
   "source": [
    "census_tracts_ac_utm10.plot()"
   ]
  },
  {
   "cell_type": "markdown",
   "metadata": {},
   "source": [
    "Because we nave census tracts, each of these rows is either a Polygon or a MultiPolygon. For our relationship query we can actually simplify our geometry to be one polygon by using `unary_union`"
   ]
  },
  {
   "cell_type": "code",
   "execution_count": null,
   "metadata": {},
   "outputs": [],
   "source": [
    "census_tracts_ac_utm10.geometry.unary_union"
   ]
  },
  {
   "cell_type": "code",
   "execution_count": null,
   "metadata": {},
   "outputs": [],
   "source": [
    "print(census_tracts_ac_utm10.geometry.unary_union)"
   ]
  },
  {
   "cell_type": "markdown",
   "metadata": {},
   "source": [
    "Now we can go ahead and conduct our operation `intersects`"
   ]
  },
  {
   "cell_type": "code",
   "execution_count": null,
   "metadata": {},
   "outputs": [],
   "source": [
    "pas_in_ac = pas_utm10.intersects(census_tracts_ac_utm10.geometry.unary_union)"
   ]
  },
  {
   "cell_type": "markdown",
   "metadata": {},
   "source": [
    "If we scroll the resulting GeoDataFrame to the right we'll see that \n",
    "the `COUNTY` column of our resulting subset gives us a good sanity check on our results."
   ]
  },
  {
   "cell_type": "code",
   "execution_count": null,
   "metadata": {},
   "outputs": [],
   "source": [
    "pas_in_ac"
   ]
  },
  {
   "cell_type": "code",
   "execution_count": null,
   "metadata": {},
   "outputs": [],
   "source": [
    "pas_utm10[pas_in_ac].head()"
   ]
  },
  {
   "cell_type": "markdown",
   "metadata": {},
   "source": [
    "So does this overlay plot!"
   ]
  },
  {
   "cell_type": "code",
   "execution_count": null,
   "metadata": {},
   "outputs": [],
   "source": [
    "ax = census_tracts_ac_utm10.plot(color='gray', figsize=[12,16])\n",
    "pas_utm10[pas_in_ac].plot(ax=ax, column='ACRES', cmap='summer', legend=True,\n",
    "                          edgecolor='black', linewidth=0.4, alpha=0.8,\n",
    "                          legend_kwds={'label': \"acres\",\n",
    "                                       'orientation': \"horizontal\"})\n",
    "ax.set_title('Protected areas in Alameda County, colored by area', size=18);"
   ]
  },
  {
   "cell_type": "code",
   "execution_count": null,
   "metadata": {},
   "outputs": [],
   "source": [
    "# color by county?"
   ]
  },
  {
   "cell_type": "markdown",
   "metadata": {},
   "source": [
    "## Exercise: Spatial Relationship Query\n",
    "\n",
    "Let's use a spatial relationship query to create a new dataset containing Berkeley schools!\n",
    "\n",
    "Run the next two cells to load datasets containing Berkeley's city boundary and Alameda County's\n",
    "schools and to reproject them to EPSG: 26910.\n",
    "\n",
    "Then in the following cell, write your own code to:\n",
    "1. subset the schools for only those `within` Berkeley\n",
    "2. plot the Berkeley boundary and then the schools as an overlay map\n",
    "\n",
    "To see the solution, double-click the Markdown cell below."
   ]
  },
  {
   "cell_type": "code",
   "execution_count": null,
   "metadata": {},
   "outputs": [],
   "source": [
    "# load the Berkeley boundary\n",
    "berkeley = gpd.read_file(\"notebook_data/berkeley/BerkeleyCityLimits.shp\")\n",
    "\n",
    "# transform to EPSG:26910\n",
    "berkeley_utm10 = berkeley.to_crs(\"epsg:26910\")\n",
    "\n",
    "# display\n",
    "berkeley_utm10.head()"
   ]
  },
  {
   "cell_type": "code",
   "execution_count": null,
   "metadata": {},
   "outputs": [],
   "source": [
    "# load the Alameda County schools CSV\n",
    "schools_df = pd.read_csv('notebook_data/alco_schools.csv')\n",
    "\n",
    "# coerce it to a GeoDataFrame\n",
    "schools_gdf = gpd.GeoDataFrame(schools_df, \n",
    "                               geometry=gpd.points_from_xy(schools_df.X, schools_df.Y))\n",
    "# define its unprojected (EPSG:4326) CRS\n",
    "schools_gdf.crs = \"epsg:4326\"\n",
    "\n",
    "# transform to EPSG:26910\n",
    "schools_gdf_utm10 = schools_gdf.to_crs( \"epsg:26910\")\n",
    "\n",
    "# display\n",
    "schools_df.head()"
   ]
  },
  {
   "cell_type": "code",
   "execution_count": null,
   "metadata": {},
   "outputs": [],
   "source": [
    "# YOUR CODE HERE:\n"
   ]
  },
  {
   "cell_type": "markdown",
   "metadata": {},
   "source": [
    "### Double-click to see solution!\n",
    "\n",
    "<!--\n",
    "\n",
    "# SOLUTION:\n",
    "\n",
    "# get the boolean Series indicating which schools are in Berkeley\n",
    "schools_in_berkeley = schools_gdf_utm10.within(berkeley_utm10.geometry.squeeze())\n",
    "\n",
    "# use that series to subset the schools for only those that are in Berkeley\n",
    "berkeley_schools = schools_gdf_utm10[schools_in_berkeley]\n",
    "\n",
    "# create a fig with one Axes object\n",
    "fig, ax = plt.subplots(figsize=(10,10))\n",
    "# plot the Berkeley border on those Axes\n",
    "berkeley_utm10.plot(color='lightgrey', ax=ax)\n",
    "# add the Berkeley schools to those Axes\n",
    "berkeley_schools.plot(color='purple',ax=ax)\n",
    "\n",
    "-->\n",
    "\n",
    "-------------------------------"
   ]
  },
  {
   "cell_type": "markdown",
   "metadata": {},
   "source": [
    "## 6.3 Proximity Analysis\n",
    "\n",
    "Now that we've seen the basic idea of spatial measurement and relationship queries,\n",
    "let's take a look at a common analysis that combines those concepts: **promximity analysis**.\n",
    "\n",
    "Proximity analysis seeks to identify all features in a focal feature set\n",
    "that are within some maximum distance of features in a reference feature set.\n",
    "\n",
    "A common workflow for this analysis is:\n",
    "\n",
    "1. Buffer (i.e. add a margin around) the reference dataset, out to the maximum distance.\n",
    "1. Run a spatial relationship query to find all focal features that intersect (or are within) the buffer.\n",
    "\n",
    "---------------------------------\n",
    "\n",
    "Let's read in our bike boulevard data again.\n",
    "\n",
    "Then we'll find out which of our Berkeley schools are within a block's distance (200 m) of the boulevards."
   ]
  },
  {
   "cell_type": "code",
   "execution_count": null,
   "metadata": {},
   "outputs": [],
   "source": [
    "bike_blvds = gpd.read_file('notebook_data/transportation/BerkeleyBikeBlvds.geojson')\n",
    "bike_blvds.plot()"
   ]
  },
  {
   "cell_type": "markdown",
   "metadata": {},
   "source": [
    "Of course, we need to reproject the boulevards to our projected CRS."
   ]
  },
  {
   "cell_type": "code",
   "execution_count": null,
   "metadata": {},
   "outputs": [],
   "source": [
    "bike_blvds_utm10 = bike_blvds.to_crs( \"epsg:26910\")"
   ]
  },
  {
   "cell_type": "markdown",
   "metadata": {},
   "source": [
    "Now we can create our 200 meter bike boulevard buffers."
   ]
  },
  {
   "cell_type": "code",
   "execution_count": null,
   "metadata": {},
   "outputs": [],
   "source": [
    "bike_blvds_utm10.crs"
   ]
  },
  {
   "cell_type": "code",
   "execution_count": null,
   "metadata": {},
   "outputs": [],
   "source": [
    "bike_blvds_buf = bike_blvds_utm10.buffer(distance=200)"
   ]
  },
  {
   "cell_type": "code",
   "execution_count": null,
   "metadata": {},
   "outputs": [],
   "source": [
    "bike_blvds_utm10.head()"
   ]
  },
  {
   "cell_type": "code",
   "execution_count": null,
   "metadata": {},
   "outputs": [],
   "source": [
    "bike_blvds_buf.head()"
   ]
  },
  {
   "cell_type": "markdown",
   "metadata": {},
   "source": [
    "Now let's overlay everything."
   ]
  },
  {
   "cell_type": "code",
   "execution_count": null,
   "metadata": {},
   "outputs": [],
   "source": [
    "fig, ax = plt.subplots(figsize=(10,10))\n",
    "berkeley_utm10.plot(color='lightgrey', ax=ax)\n",
    "bike_blvds_buf.plot(color='pink', ax=ax, alpha=0.5)\n",
    "bike_blvds_utm10.plot(ax=ax)\n",
    "berkeley_schools.plot(color='purple',ax=ax)"
   ]
  },
  {
   "cell_type": "markdown",
   "metadata": {},
   "source": [
    "Great! Looks like we're all ready to run our intersection to complete the proximity analysis.\n",
    "\n",
    "\n",
    "**NOTE**: In order to subset with our buffers we need to call the `unary_union` attribute of the buffer object.\n",
    "This gives us a single unified polygon, rather than a series of multipolygons representing buffers around each of the points in our multilines."
   ]
  },
  {
   "cell_type": "code",
   "execution_count": null,
   "metadata": {},
   "outputs": [],
   "source": [
    "schools_near_blvds = berkeley_schools.within(bike_blvds_buf.unary_union)\n",
    "blvd_schools = berkeley_schools[schools_near_blvds]"
   ]
  },
  {
   "cell_type": "markdown",
   "metadata": {},
   "source": [
    "Now let's overlay again, to see if the schools we subsetted make sense."
   ]
  },
  {
   "cell_type": "code",
   "execution_count": null,
   "metadata": {},
   "outputs": [],
   "source": [
    "fig, ax = plt.subplots(figsize=(10,10))\n",
    "berkeley_utm10.plot(color='lightgrey', ax=ax)\n",
    "bike_blvds_buf.plot(color='pink', ax=ax, alpha=0.5)\n",
    "bike_blvds_utm10.plot(ax=ax)\n",
    "berkeley_schools.plot(color='purple',ax=ax)\n",
    "blvd_schools.plot(color='yellow', markersize=50, ax=ax)"
   ]
  },
  {
   "cell_type": "markdown",
   "metadata": {},
   "source": [
    "If we want to find the shortest distance from one school to the bike boulevards, we can use the `distance` function."
   ]
  },
  {
   "cell_type": "code",
   "execution_count": null,
   "metadata": {},
   "outputs": [],
   "source": [
    "berkeley_schools.distance(bike_blvds_utm10.unary_union)"
   ]
  },
  {
   "cell_type": "markdown",
   "metadata": {},
   "source": [
    "## Exercise: Proximity Analysis\n",
    "\n",
    "Now it's your turn to try out a proximity analysis!\n",
    "\n",
    "Run the next cell to load our BART-system data, reproject it to EPSG: 26910, and subset it to Berkeley.\n",
    "\n",
    "Then in the following cell, write your own code to find all schools within walking distance (1 km) of a BART station.\n",
    "\n",
    "As a reminder, let's break this into steps:\n",
    "1. buffer your Berkeley BART stations to 1 km (**HINT**: remember your units!)\n",
    "2. use the schools' `within` attribute to check whether or not they're within the buffers (**HINT**: don't forget the `unary_union`!)\n",
    "3. subset the Berkeley schools using the object returned by your spatial relationship query\n",
    "\n",
    "4. as always, plot your results for a good visual check!\n",
    "\n",
    "To see the solution, double-click the Markdown cell below."
   ]
  },
  {
   "cell_type": "code",
   "execution_count": null,
   "metadata": {},
   "outputs": [],
   "source": [
    "# load the BART stations from CSV\n",
    "bart_stations = pd.read_csv('notebook_data/transportation/bart.csv')\n",
    "# coerce to a GeoDataFrame\n",
    "bart_stations_gdf = gpd.GeoDataFrame(bart_stations, \n",
    "                               geometry=gpd.points_from_xy(bart_stations.lon, bart_stations.lat))\n",
    "# define its unprojected (EPSG:4326) CRS\n",
    "bart_stations_gdf.crs = \"epsg:4326\"\n",
    "# transform to UTM Zone 10 N (EPSG:26910)\n",
    "bart_stations_gdf_utm10 = bart_stations_gdf.to_crs( \"epsg:26910\")\n",
    "# subset to Berkeley\n",
    "berkeley_bart = bart_stations_gdf_utm10[bart_stations_gdf_utm10.within(berkeley_utm10.unary_union)]"
   ]
  },
  {
   "cell_type": "code",
   "execution_count": null,
   "metadata": {},
   "outputs": [],
   "source": [
    "# YOUR CODE HERE:\n"
   ]
  },
  {
   "cell_type": "markdown",
   "metadata": {},
   "source": [
    "### Double-click to see solution!\n",
    "\n",
    "<!--\n",
    "\n",
    "# SOLUTION\n",
    "\n",
    "# buffer the BART stations to 1 km\n",
    "bart_buf = berkeley_bart.buffer(distance=1000)\n",
    "# check whether or not each school is within a buffer\n",
    "schools_near_bart = berkeley_schools.within(bart_buf.unary_union)\n",
    "# subset the schools using the boolean Series you just produced\n",
    "bart_schools = berkeley_schools[schools_near_bart]\n",
    "\n",
    "# create a fig with one Axes object\n",
    "fig, ax = plt.subplots(figsize=(10,10))\n",
    "# plot the Berkeley boundary (for reference)\n",
    "berkeley_utm10.plot(color='lightgrey', ax=ax)\n",
    "# plot the BART stations (for reference)\n",
    "berkeley_bart.plot(color='green', ax=ax)\n",
    "# add the BART buffers (for check)\n",
    "bart_buf.plot(color='lightgreen', ax=ax, alpha=0.5)\n",
    "# add all Berkeley schools (for reference)\n",
    "berkeley_schools.plot(ax=ax)\n",
    "# add the schools near BART (for check)\n",
    "bart_schools.plot(color='yellow', markersize=50, ax=ax)\n",
    "\n",
    "-->\n",
    "\n",
    "----------------------------------"
   ]
  },
  {
   "cell_type": "markdown",
   "metadata": {},
   "source": [
    "## 6.4 Recap\n",
    "Leveraging what we've learned in our earlier lessons, we got to work with map overlays and start answering questions related to proximity. Key concepts include:\n",
    "- Measuring area and length\n",
    "\t- `.area`, \n",
    "\t- `.length`\n",
    "- Relationship Queries\n",
    "\t- `.intersects()`\n",
    "\t- `.within()`\n",
    "- Buffer analysis\n",
    "\t- `.buffer()`\n",
    "\t- `.distance()`"
   ]
  },
  {
   "cell_type": "markdown",
   "metadata": {},
   "source": [
    "---\n",
    "<div style=\"display:inline-block;vertical-align:middle;\">\n",
    "<a href=\"https://dlab.berkeley.edu/\" target=\"_blank\"><img src =\"assets/images/dlab_logo.png\" width=\"75\" align=\"left\">\n",
    "</a>\n",
    "</div>\n",
    "\n",
    "<div style=\"display:inline-block;vertical-align:middle;\">\n",
    "    <div style=\"font-size:larger\">&nbsp;D-Lab @ University of California - Berkeley</div>\n",
    "    <div>&nbsp;Team Geo<div>\n",
    "</div>\n",
    "        \n",
    "\n",
    "\n"
   ]
  }
 ],
 "metadata": {
  "kernelspec": {
   "display_name": "geo_env2",
   "language": "python",
   "name": "geo_env2"
  },
  "language_info": {
   "codemirror_mode": {
    "name": "ipython",
    "version": 3
   },
   "file_extension": ".py",
   "mimetype": "text/x-python",
   "name": "python",
   "nbconvert_exporter": "python",
   "pygments_lexer": "ipython3",
   "version": "3.9.2"
  }
 },
 "nbformat": 4,
 "nbformat_minor": 4
}
