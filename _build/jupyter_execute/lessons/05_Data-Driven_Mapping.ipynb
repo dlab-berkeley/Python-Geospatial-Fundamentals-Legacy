{
 "cells": [
  {
   "cell_type": "markdown",
   "metadata": {},
   "source": [
    "# Lesson 5. Data-driven Mapping\n",
    "\n",
    "*Data-driven mapping* refers to the process of using data values to determine the symbology of mapped features. Color, shape, and size are the three most common symbology types used in data-driven mapping.\n",
    "Data-driven maps are often refered to as thematic maps.\n",
    "\n",
    "\n",
    "- 5.1 Choropleth Maps\n",
    "- 5.2 Issues with Visualization\n",
    "- 5.3 Classification Schemes\n",
    "- 5.4 Point Maps\n",
    "- 5.5 Mapping Categorical Data\n",
    "- 5.6 Recap\n",
    "- **Exercise**: Data-Driven Mapping\n",
    "\n",
    "<br>\n",
    "<font color='grey'>\n",
    "    <b>Instructor Notes</b>\n",
    "\n",
    "- Datasets used\n",
    "    - 'notebook_data/california_counties/CaliforniaCounties.shp'\n",
    "    - 'notebook_data/alco_schools.csv'\n",
    "    - 'notebook_data/transportation/BerkeleyBikeBlvds.geojson'\n",
    "- Expected time to complete\n",
    "    - Lecture + Questions: 30 minutes\n",
    "    - Exercises: 15 minutes\n",
    "</font>\n",
    "\n",
    "\n",
    "### Types of Thematic Maps\n",
    "\n",
    "There are two primary types of maps used to convey data values:\n",
    "\n",
    "- `Choropleth maps`: set the color of areas (polygons) by data value\n",
    "- `Point symbol maps`: set the color or size of points by data value\n",
    "\n",
    "We will discuss both of these types of maps in more detail in this lesson. But let's take a quick look at choropleth maps. "
   ]
  },
  {
   "cell_type": "code",
   "execution_count": null,
   "metadata": {},
   "outputs": [],
   "source": [
    "import pandas as pd\n",
    "import geopandas as gpd\n",
    "\n",
    "import matplotlib # base python plotting library\n",
    "import matplotlib.pyplot as plt # submodule of matplotlib\n",
    "\n",
    "# To display plots, maps, charts etc in the notebook\n",
    "%matplotlib inline  "
   ]
  },
  {
   "cell_type": "markdown",
   "metadata": {},
   "source": [
    "# 5.1 Choropleth Maps\n",
    "Choropleth maps are the most common type of thematic map.\n",
    "\n",
    "Let's take a look at how we can use a geodataframe to make a choropleth map.\n",
    "\n",
    "We'll start by reloading our counties dataset from Day 1."
   ]
  },
  {
   "cell_type": "code",
   "execution_count": null,
   "metadata": {},
   "outputs": [],
   "source": [
    "counties = gpd.read_file('notebook_data/california_counties/CaliforniaCounties.shp')"
   ]
  },
  {
   "cell_type": "code",
   "execution_count": null,
   "metadata": {},
   "outputs": [],
   "source": [
    "counties.head()"
   ]
  },
  {
   "cell_type": "code",
   "execution_count": null,
   "metadata": {},
   "outputs": [],
   "source": [
    "counties.columns"
   ]
  },
  {
   "cell_type": "markdown",
   "metadata": {},
   "source": [
    "Here's a plain map of our polygons."
   ]
  },
  {
   "cell_type": "code",
   "execution_count": null,
   "metadata": {},
   "outputs": [],
   "source": [
    "counties.plot()"
   ]
  },
  {
   "cell_type": "markdown",
   "metadata": {},
   "source": [
    "Now, for comparison, let's create a choropleth map by setting the color of the county based on the values in the population per square mile (`POP12_SQMI`) column."
   ]
  },
  {
   "cell_type": "code",
   "execution_count": null,
   "metadata": {},
   "outputs": [],
   "source": [
    "counties.plot(column='POP12_SQMI', figsize=(10,10))"
   ]
  },
  {
   "cell_type": "markdown",
   "metadata": {},
   "source": [
    "That's really the heart of it. To set the color of the features based on the values in a column, set the `column` argument to the column name in the gdf.\n",
    "> **Protip:** \n",
    "- You can quickly right-click on the plot and save to a file or open in a new browser window."
   ]
  },
  {
   "cell_type": "markdown",
   "metadata": {},
   "source": [
    "By default map colors are linearly scaled to data values. This is called a `proportional color map`.\n",
    "\n",
    "- The great thing about `proportional color maps` is that you can visualize the full range of data values.\n",
    "\n"
   ]
  },
  {
   "cell_type": "markdown",
   "metadata": {},
   "source": [
    "We can also add a legend, and even tweak its display."
   ]
  },
  {
   "cell_type": "code",
   "execution_count": null,
   "metadata": {},
   "outputs": [],
   "source": [
    "counties.plot(column='POP12_SQMI', figsize=(10,10), legend=True)\n",
    "plt.show()"
   ]
  },
  {
   "cell_type": "code",
   "execution_count": null,
   "metadata": {},
   "outputs": [],
   "source": [
    "counties.plot(column='POP12_SQMI', figsize=(10,10), legend=True,\n",
    "                    legend_kwds={'label': \"Population Density per mile$^2$\",\n",
    "                                 'orientation': \"horizontal\"},)\n",
    "plt.show()"
   ]
  },
  {
   "cell_type": "markdown",
   "metadata": {},
   "source": [
    "<div style=\"display:inline-block;vertical-align:top;\">\n",
    "    <img src=\"http://www.pngall.com/wp-content/uploads/2016/03/Light-Bulb-Free-PNG-Image.png\" width=\"30\" align=left > \n",
    "</div>  \n",
    "<div style=\"display:inline-block;\">\n",
    "\n",
    "#### Question\n",
    "</div>\n",
    "\n",
    "Why are we plotting `POP12_SQMI` instead of `POP2012`?"
   ]
  },
  {
   "cell_type": "raw",
   "metadata": {},
   "source": [
    "Your response here:\n",
    "\n",
    "\n",
    "\n",
    "\n"
   ]
  },
  {
   "cell_type": "markdown",
   "metadata": {},
   "source": [
    "### Note: Types of Color Maps\n",
    "\n",
    "There are a few different types of color maps (or color palettes), each of which has a different purpose:\n",
    "- *diverging* - a \"diverging\" set of colors are used so emphasize mid-range values as well as extremes.\n",
    "- *sequential* - usually with a single color hue to emphasize changes in magnitude, where darker colors typically mean higher values\n",
    "- *qualitative* - a diverse set of colors to identify categories and avoid implying quantitative significance.\n",
    "\n",
    "<img src=\"http://www.gnuplotting.org/figs/colorbrewer.png\"></img>\n",
    "\n",
    "<small><center><i>Image Credit: <a href=\"https://commons.wikimedia.org/wiki/File:Anatone_WA.jpg\"> Dsdugan at English Wikipedia </a></i></small></center>\n",
    "\n",
    "> **Pro-tip**: You can actually see all your color map options if you misspell what you put in `cmap` and try to run-in. Try it out!\n",
    "\n",
    "> **Pro-tip**: Sites like [ColorBrewer](https://colorbrewer2.org/#type=sequential&scheme=Blues&n=3) let's you play around with different types of color maps. If you want to create your own, [The Python Graph Gallery](https://python-graph-gallery.com/python-colors/) is a way to see what your Python color options are.\n"
   ]
  },
  {
   "cell_type": "markdown",
   "metadata": {},
   "source": [
    "# 5.2 Issues with Visualization\n",
    "\n",
    "### Types of choropleth data\n",
    "\n",
    "There are several types of quantitative data variables that can be used to create a choropleth map. Let's consider these in terms of our ACS data.\n",
    "\n",
    "- **Count**\n",
    "    - counts, aggregated by feature\n",
    "        - *e.g. population within a census tract*\n",
    "\n",
    "- **Density**\n",
    "    - count, aggregated by feature, normalized by feature area\n",
    "        - *e.g. population per square mile within a census tract*\n",
    "\n",
    "- **Proportions / Percentages**\n",
    "    - value in a specific category divided by total value across in all categories\n",
    "        - *e.g. proportion of the tract population that is white compared to the total tract population*\n",
    "\n",
    "- **Rates / Ratios**\n",
    "    - value in one category divided by value in another category\n",
    "        - *e.g. homeowner-to-renter ratio would be calculated as the number of homeowners (c_owners/ c_renters)*"
   ]
  },
  {
   "cell_type": "markdown",
   "metadata": {},
   "source": [
    "### Interpretability of plotted data\n",
    "The goal of a choropleth map is to use color to visualize the spatial distribution of a quantitative variable.\n",
    "\n",
    "Brighter or richer colors are typically used to signify higher values.\n",
    "\n",
    "A big problem with choropleth maps is that our eyes are drawn to the color of larger areas, even if the values being mapped in one or more smaller areas are more important.\n",
    "\n"
   ]
  },
  {
   "cell_type": "markdown",
   "metadata": {},
   "source": [
    "We see just this sort of problem in our population-density map. \n",
    "\n",
    "***Why does our map not look that interesting?*** Take a look at the histogram below, then consider the following question."
   ]
  },
  {
   "cell_type": "code",
   "execution_count": null,
   "metadata": {},
   "outputs": [],
   "source": [
    "plt.hist(counties['POP12_SQMI'],bins=40)\n",
    "plt.title('Population Density per mile$^2$')\n",
    "plt.show()"
   ]
  },
  {
   "cell_type": "markdown",
   "metadata": {},
   "source": [
    "<div style=\"display:inline-block;vertical-align:top;\">\n",
    "    <img src=\"http://www.pngall.com/wp-content/uploads/2016/03/Light-Bulb-Free-PNG-Image.png\" width=\"30\" align=left > \n",
    "</div>  \n",
    "<div style=\"display:inline-block;\">\n",
    "\n",
    "#### Question\n",
    "</div>\n",
    "\n",
    "What county does that outlier represent? What problem does that pose?"
   ]
  },
  {
   "cell_type": "raw",
   "metadata": {},
   "source": [
    "Your response here:\n",
    "\n",
    "\n",
    "\n",
    "\n"
   ]
  },
  {
   "cell_type": "markdown",
   "metadata": {},
   "source": [
    "# 5.3 Classification schemes\n",
    "\n",
    "Let's try to make our map more interpretable!\n",
    "\n",
    "The common alternative to a proportionial color map is to use a **classification scheme** to create a **graduated color map**. This is the standard way to create a **choropleth map**.\n",
    "\n",
    "A **classification scheme** is a method for binning continuous data values into 4-7 classes (the default is 5) and map those classes to a color palette. \n",
    "\n",
    "### The commonly used classifications schemes:\n",
    "\n",
    "- **Equal intervals**\n",
    "    - equal-size data ranges (e.g., values within 0-10, 10-20, 20-30, etc.)\n",
    "    - <u>pros</u>:\n",
    "        - best for data spread across entire range of values\n",
    "        - easily understood by map readers\n",
    "    - <u>cons</u>:\n",
    "        - but avoid if you have highly skewed data or a few big outliers\n",
    " \n",
    " \n",
    "- **Quantiles**\n",
    "    - equal number of observations in each bin\n",
    "    - <u>pros</u>:\n",
    "        - looks nice, becuase it best spreads colors across full set of data values\n",
    "        - thus, it's often the default scheme for mapping software\n",
    "    - <u>cons</u>:\n",
    "        - bin ranges based on the number of observations, not on the data values\n",
    "        - thus, different classes can have very similar or very different values.\n",
    " \n",
    " \n",
    "- **Natural breaks**\n",
    "    - minimize within-class variance and maximize between-class differences\n",
    "    - e.g. 'fisher-jenks'\n",
    "    - </u>pros</u>:\n",
    "        - great for exploratory data analysis, because it can identify natural groupings\n",
    "    - <u>cons</u>:\n",
    "        - class breaks are best fit to one dataset, so the same bins can't always be used for multiple years\n",
    " \n",
    " \n",
    "- **Manual** \n",
    "    - classifications are user-defined\n",
    "    - <u>pros</u>: \n",
    "        - especially useful if you want to slightly change the breaks produced by another scheme\n",
    "        - can be used as a fixed set of breaks to compare data over time\n",
    "    - <u>cons</u>:\n",
    "        - more work involved"
   ]
  },
  {
   "cell_type": "markdown",
   "metadata": {},
   "source": [
    "### Classification schemes and GeoDataFrames\n",
    "\n",
    "Classification schemes can be implemented using the geodataframe `plot` method by setting a value for the **scheme** argument. This requires the [pysal](https://pysal.org/) and [mapclassify](https://pysal.org/mapclassify) libraries to be installed in your Python environment. \n",
    "\n",
    "Here is a list of the `classification schemes` names that we will use:\n",
    "-  `equalinterval`, `quantiles`,`fisherjenks`,`naturalbreaks`, and `userdefined`.\n",
    "\n",
    "For more information about these classification schemes see the [pysal mapclassifiers web page](https://pysal.org/mapclassify/api.html) or check out the help docs."
   ]
  },
  {
   "cell_type": "markdown",
   "metadata": {},
   "source": [
    "--------------------------\n",
    "\n",
    "### Classification schemes in action\n",
    "\n",
    "Let's redo the last map using the `quantile` classification scheme.\n",
    "\n",
    "- What is different about the code? About the output map?"
   ]
  },
  {
   "cell_type": "code",
   "execution_count": null,
   "metadata": {
    "scrolled": false
   },
   "outputs": [],
   "source": [
    "# Plot population density - mile^2\n",
    "fig, ax = plt.subplots(figsize = (10,5)) \n",
    "counties.plot(column='POP12_SQMI', \n",
    "                   scheme=\"quantiles\",\n",
    "                   legend=True,\n",
    "                   ax=ax\n",
    "                   )\n",
    "ax.set_title(\"Population Density per Sq Mile\")"
   ]
  },
  {
   "cell_type": "markdown",
   "metadata": {},
   "source": [
    "Note: For interval notation\n",
    "- A square bracket is *inclusive*\n",
    "- A parentheses is *exclusive*"
   ]
  },
  {
   "cell_type": "markdown",
   "metadata": {},
   "source": [
    "### User Defined Classification Schemes\n",
    "\n",
    "You may get pretty close to your final map without being completely satisfied. In this case you can manually define a classification scheme.\n",
    "\n",
    "Let's customize our map with a `user-defined` classification scheme where we manually set the breaks for the bins using the `classification_kwds` argument."
   ]
  },
  {
   "cell_type": "code",
   "execution_count": null,
   "metadata": {},
   "outputs": [],
   "source": [
    "fig, ax = plt.subplots(figsize = (14,8)) \n",
    "counties.plot(column='POP12_SQMI',\n",
    "                    legend=True, \n",
    "                    cmap=\"RdYlGn\", \n",
    "                    scheme='user_defined', \n",
    "                    classification_kwds={'bins':[50,100,200,300,400]},\n",
    "                    ax=ax)\n",
    "ax.set_title(\"Population Density per Sq Mile\")"
   ]
  },
  {
   "cell_type": "markdown",
   "metadata": {},
   "source": [
    "Since we are customizing our plot, we can also edit our legend to specify and format the text so that it's easier to read.\n",
    "\n",
    "- We'll use `legend_labels_list` to customize the labels for group in the legend."
   ]
  },
  {
   "cell_type": "code",
   "execution_count": null,
   "metadata": {
    "scrolled": true
   },
   "outputs": [],
   "source": [
    "fig, ax = plt.subplots(figsize = (14,8)) \n",
    "counties.plot(column='POP12_SQMI',\n",
    "                    legend=True, \n",
    "                    cmap=\"RdYlGn\", \n",
    "                    scheme='user_defined', \n",
    "                    classification_kwds={'bins':[50,100,200,300,400]},\n",
    "                    ax=ax)\n",
    "\n",
    "# Create the labels for the legend\n",
    "legend_labels_list = ['<50','50 to 100','100 to 200','200 to 300','300 to 400','>400']\n",
    "\n",
    "# Apply the labels to the plot\n",
    "for j in range(0,len(ax.get_legend().get_texts())):\n",
    "        ax.get_legend().get_texts()[j].set_text(legend_labels_list[j])\n",
    "\n",
    "ax.set_title(\"Population Density per Sq Mile\")"
   ]
  },
  {
   "cell_type": "markdown",
   "metadata": {},
   "source": [
    "### Let's plot a ratio\n",
    "\n",
    "If we look at the columns in our dataset, we see we have a number of variables\n",
    "from which we can calculate proportions, rates, and the like.\n",
    "\n",
    "Let's try that out:"
   ]
  },
  {
   "cell_type": "code",
   "execution_count": null,
   "metadata": {},
   "outputs": [],
   "source": [
    "counties.head()"
   ]
  },
  {
   "cell_type": "code",
   "execution_count": null,
   "metadata": {},
   "outputs": [],
   "source": [
    "fig, ax = plt.subplots(figsize = (15,6)) \n",
    "\n",
    "# Plot percent hispanic as choropleth\n",
    "counties.plot(column=(counties['HISPANIC']/counties['POP2012'] * 100), \n",
    "                        legend=True, \n",
    "                        cmap=\"Blues\", \n",
    "                        scheme='user_defined', \n",
    "                        classification_kwds={'bins':[20,40,60,80]},\n",
    "                        edgecolor=\"grey\",\n",
    "                        linewidth=0.5,\n",
    "                        ax=ax)\n",
    "\n",
    "legend_labels_list = ['<20%','20% - 40%','40% - 60%','60% - 80%','80% - 100%']\n",
    "for j in range(0,len(ax.get_legend().get_texts())):\n",
    "        ax.get_legend().get_texts()[j].set_text(legend_labels_list[j])\n",
    "\n",
    "ax.set_title(\"Percent Hispanic Population\")\n",
    "plt.tight_layout()"
   ]
  },
  {
   "cell_type": "markdown",
   "metadata": {},
   "source": [
    "<div style=\"display:inline-block;vertical-align:top;\">\n",
    "    <img src=\"http://www.pngall.com/wp-content/uploads/2016/03/Light-Bulb-Free-PNG-Image.png\" width=\"30\" align=left > \n",
    "</div>  \n",
    "<div style=\"display:inline-block;\">\n",
    "\n",
    "#### Questions\n",
    "</div>\n",
    "\n",
    "1. What new options and operations have we added to our code?\n",
    "1. Based on our code, what title would you give this plot to describe what it displays?\n",
    "1. How many bins do we specify in the `legend_labels_list` object, and how many bins are in the map legend? Why?"
   ]
  },
  {
   "cell_type": "raw",
   "metadata": {},
   "source": [
    "Your responses here:\n",
    "\n",
    "\n",
    "\n",
    "\n"
   ]
  },
  {
   "cell_type": "markdown",
   "metadata": {},
   "source": [
    "# 5.4 Point maps"
   ]
  },
  {
   "cell_type": "markdown",
   "metadata": {},
   "source": [
    "Choropleth maps are great, but mapping using point symbols enables us to visualize our spatial data in another way. \n",
    "\n",
    "If you know both mapping methods you can expand how much information you can show in one map. \n",
    "\n",
    "For example, point maps are a great way to map `counts` because the varying sizes of areas are deemphasized.\n",
    "\n"
   ]
  },
  {
   "cell_type": "markdown",
   "metadata": {},
   "source": [
    "-----------------------\n",
    "Let's read in some point data on Alameda County schools."
   ]
  },
  {
   "cell_type": "code",
   "execution_count": null,
   "metadata": {},
   "outputs": [],
   "source": [
    "schools_df = pd.read_csv('notebook_data/alco_schools.csv')\n",
    "schools_df.head()"
   ]
  },
  {
   "cell_type": "markdown",
   "metadata": {},
   "source": [
    "We got it from a plain CSV file, let's coerce it to a GeoDataFrame."
   ]
  },
  {
   "cell_type": "code",
   "execution_count": null,
   "metadata": {},
   "outputs": [],
   "source": [
    "schools_gdf = gpd.GeoDataFrame(schools_df, \n",
    "                               geometry=gpd.points_from_xy(schools_df.X, schools_df.Y))\n",
    "schools_gdf.crs = \"epsg:4326\""
   ]
  },
  {
   "cell_type": "markdown",
   "metadata": {},
   "source": [
    "Then we can map it."
   ]
  },
  {
   "cell_type": "code",
   "execution_count": null,
   "metadata": {},
   "outputs": [],
   "source": [
    "schools_gdf.plot()\n",
    "plt.title('Alameda County Schools')"
   ]
  },
  {
   "cell_type": "markdown",
   "metadata": {},
   "source": [
    "### Proportional Color Maps\n",
    "**Proportional color maps** linearly scale the `color` of a point symbol by the data values.\n",
    "\n",
    "Let's try this by creating a map of `API`. API stands for *Academic Performance Index*, which is a measurement system that looks at the performance of an individual school."
   ]
  },
  {
   "cell_type": "code",
   "execution_count": null,
   "metadata": {},
   "outputs": [],
   "source": [
    "schools_gdf.plot(column=\"API\", cmap=\"gist_heat\", \n",
    "                 edgecolor=\"grey\", figsize=(10,8), legend=True)\n",
    "plt.title(\"Alameda County, School API scores\")"
   ]
  },
  {
   "cell_type": "markdown",
   "metadata": {},
   "source": [
    "When you see that continuous color bar in the legend you know that the mapping of data values to colors is not classified.\n",
    "\n",
    "\n",
    "### Graduated Color Maps\n",
    "\n",
    "We can also create **graduated color maps** by binning data values before associating them with colors. These are just like choropleth maps, except that the term \"choropleth\" is only used with polygon data. \n",
    "\n",
    "Graduated color maps use the same syntax as the choropleth maps above - you create them by setting a value for `scheme`. \n",
    "\n",
    "Below, we copy the code we used above to create a choropleth, but we change the name of the geodataframe to use the point gdf. "
   ]
  },
  {
   "cell_type": "code",
   "execution_count": null,
   "metadata": {},
   "outputs": [],
   "source": [
    "fig, ax = plt.subplots(figsize = (15,6)) \n",
    "\n",
    "# Plot percent non-white with graduated colors\n",
    "schools_gdf.plot(column='API', \n",
    "                        legend=True, \n",
    "                        cmap=\"Blues\",\n",
    "                        scheme='user_defined', \n",
    "                        classification_kwds={'bins':[0,200,400,600,800]},\n",
    "                        edgecolor=\"grey\",\n",
    "                        linewidth=0.5,\n",
    "                        #markersize=60,\n",
    "                        ax=ax)\n",
    "\n",
    "# Create a custom legend\n",
    "legend_labels_list = ['0','< 200','< 400','< 600','< 800','>= 800']\n",
    "\n",
    "# Apply the legend to the map\n",
    "for j in range(0,len(ax.get_legend().get_texts())):\n",
    "        ax.get_legend().get_texts()[j].set_text(legend_labels_list[j])\n",
    "\n",
    "# Create the plot\n",
    "plt.tight_layout()\n",
    "plt.title(\"Alameda County, School API scores\")"
   ]
  },
  {
   "cell_type": "code",
   "execution_count": null,
   "metadata": {},
   "outputs": [],
   "source": [
    "schools_gdf['API'].describe()"
   ]
  },
  {
   "cell_type": "markdown",
   "metadata": {},
   "source": [
    "As you can see, the syntax for a choropleth and graduated color map is the same,\n",
    "although some options only apply to one or the other.\n",
    "\n",
    "For example, uncomment the `markersize` parameter above to see how you can further customize a graduated color map."
   ]
  },
  {
   "cell_type": "markdown",
   "metadata": {},
   "source": [
    "### Graduated symbol maps\n",
    "\n",
    "`Graduated symbol maps` are also a great method for mapping points.  These are just like graduated color maps but instead of associating symbol color with data values they associate point size. Similarly,graduated symbol maps use `classification schemes` to set the size of point symbols. \n",
    "\n",
    "> We demonstrate how to make graduated symbol maps along with some other mapping techniques in the `Optional Mapping notebook` which we encourage you to explore on your own. (***Coming Soon***)"
   ]
  },
  {
   "cell_type": "markdown",
   "metadata": {},
   "source": [
    "## 5.5 Mapping Categorical Data"
   ]
  },
  {
   "cell_type": "markdown",
   "metadata": {},
   "source": [
    "Mapping categorical data, also called qualitative data, is a bit more straightforward. There is no need to scale or classify data values. The goal of the color map is to provide a contrasting set of colors so as to clearly delineate different categories. Here's a point-based example:"
   ]
  },
  {
   "cell_type": "code",
   "execution_count": null,
   "metadata": {},
   "outputs": [],
   "source": [
    "schools_gdf.plot(column='Org', categorical=True, legend=True)"
   ]
  },
  {
   "cell_type": "markdown",
   "metadata": {},
   "source": [
    "## 5.6 Recap\n",
    "We learned about important data driven mapping strategies and mapping concepts and can leverage what many of us know about `matplotlib`\n",
    "- Choropleth Maps\n",
    "- Point maps\n",
    "- Color schemes \n",
    "- Classifications"
   ]
  },
  {
   "cell_type": "markdown",
   "metadata": {},
   "source": [
    "# Exercise: Data-Driven Mapping\n",
    "\n",
    "Point and polygons are not the only geometry-types that we can use in data-driven mapping!\n",
    "\n",
    "Run the next cell to load a dataset containing Berkeley's bicycle boulevards (which we'll be using more in the following notebook).\n",
    "\n",
    "Then in the following cell, write your own code to:\n",
    "1. plot the bike boulevards;\n",
    "2. color them by status (find the correct column in the head of the dataframe, displayed below);\n",
    "3. color them using a fitting, good-looking qualitative colormap that you choose from [The Matplotlib Colormap Reference](https://matplotlib.org/3.1.1/gallery/color/colormap_reference.html);\n",
    "4. set the line width to 5 (check the plot method's documentation to find the right argument for this!);\n",
    "4. add the argument `figsize=[20,20]`, to make your map nice and big and visible!\n",
    "    \n",
    "Then answer the questions posed in the last cell.\n",
    "\n",
    "<br>\n",
    "\n",
    "\n",
    "To see the solution, double-click the Markdown cell below.\n"
   ]
  },
  {
   "cell_type": "code",
   "execution_count": null,
   "metadata": {},
   "outputs": [],
   "source": [
    "bike_blvds = gpd.read_file('notebook_data/transportation/BerkeleyBikeBlvds.geojson')\n",
    "bike_blvds.head()"
   ]
  },
  {
   "cell_type": "code",
   "execution_count": null,
   "metadata": {},
   "outputs": [],
   "source": [
    "# YOUR CODE HERE:\n"
   ]
  },
  {
   "cell_type": "markdown",
   "metadata": {},
   "source": [
    "## Double-click to see solution!\n",
    "\n",
    "<!--\n",
    "\n",
    "# SOLUTION:\n",
    "\n",
    "bike_blvds.plot(column='Status', cmap='Dark2', linewidth=5, legend=True, figsize=[20,20])\n",
    "\n",
    "-->\n",
    "\n",
    "-------------------------------------"
   ]
  },
  {
   "cell_type": "markdown",
   "metadata": {},
   "source": [
    "<div style=\"display:inline-block;vertical-align:top;\">\n",
    "    <img src=\"http://www.pngall.com/wp-content/uploads/2016/03/Light-Bulb-Free-PNG-Image.png\" width=\"30\" align=left > \n",
    "</div>  \n",
    "<div style=\"display:inline-block;\">\n",
    "\n",
    "#### Questions\n",
    "</div>\n",
    "\n",
    "1. What does that map indicate about the status of the Berkeley bike boulevards?\n",
    "1. What does that map indicate about the status of your Berkeley bike-boulevard *dataset*?"
   ]
  },
  {
   "cell_type": "raw",
   "metadata": {},
   "source": [
    "Your responses here:\n",
    "\n",
    "\n",
    "\n",
    "\n",
    "\n"
   ]
  },
  {
   "cell_type": "markdown",
   "metadata": {},
   "source": [
    "---\n",
    "<div style=\"display:inline-block;vertical-align:middle;\">\n",
    "<a href=\"https://dlab.berkeley.edu/\" target=\"_blank\"><img src =\"assets/images/dlab_logo.png\" width=\"75\" align=\"left\">\n",
    "</a>\n",
    "</div>\n",
    "\n",
    "<div style=\"display:inline-block;vertical-align:middle;\">\n",
    "    <div style=\"font-size:larger\">&nbsp;D-Lab @ University of California - Berkeley</div>\n",
    "    <div>&nbsp;Team Geo<div>\n",
    "</div>\n",
    "        \n",
    "\n",
    "\n"
   ]
  }
 ],
 "metadata": {
  "kernelspec": {
   "display_name": "Python 3",
   "language": "python",
   "name": "python3"
  },
  "language_info": {
   "codemirror_mode": {
    "name": "ipython",
    "version": 3
   },
   "file_extension": ".py",
   "mimetype": "text/x-python",
   "name": "python",
   "nbconvert_exporter": "python",
   "pygments_lexer": "ipython3",
   "version": "3.8.3"
  }
 },
 "nbformat": 4,
 "nbformat_minor": 4
}