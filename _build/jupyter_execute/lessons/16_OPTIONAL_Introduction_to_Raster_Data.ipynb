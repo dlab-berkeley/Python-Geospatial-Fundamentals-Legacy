{
 "cells": [
  {
   "cell_type": "markdown",
   "metadata": {},
   "source": [
    "# 16. Introduction to Raster Data"
   ]
  },
  {
   "cell_type": "markdown",
   "metadata": {},
   "source": [
    "This is a very brief introduction to reading raster data and basic manipulations in Python. We'll walk through one of the most commonly used raster python packages, `rasterio`. We'll be using the [National Land Cover Database (NLCD)](https://www.mrlc.gov/data/legends/national-land-cover-database-2016-nlcd2016-legend) from 2011 that was downloaded from [here](https://viewer.nationalmap.gov/basic).\n",
    "\n",
    "<img src=\"https://www.mdpi.com/remotesensing/remotesensing-11-02971/article_deploy/html/images/remotesensing-11-02971-g004.png\" width=\"600\">\n",
    "\n",
    "> Note: They also have a [cool online viewer](https://www.mrlc.gov/viewer/) that is free and open access."
   ]
  },
  {
   "cell_type": "code",
   "execution_count": null,
   "metadata": {},
   "outputs": [],
   "source": [
    "import pandas as pd\n",
    "import geopandas as gpd\n",
    "\n",
    "import matplotlib # base python plotting library\n",
    "import matplotlib.pyplot as plt # submodule of matplotlib\n",
    "from matplotlib.patches import Patch\n",
    "\n",
    "import json\n",
    "import numpy as np\n",
    "\n",
    "# To display plots, maps, charts etc in the notebook\n",
    "%matplotlib inline  "
   ]
  },
  {
   "cell_type": "markdown",
   "metadata": {},
   "source": [
    "To use raster data we'll be using the `rasterio` package, which is a popular package that helps you read, write, and manipulate raster data. We'll also be using `rasterstats`."
   ]
  },
  {
   "cell_type": "code",
   "execution_count": null,
   "metadata": {},
   "outputs": [],
   "source": [
    "import rasterio\n",
    "from rasterio.plot import show, plotting_extent\n",
    "from rasterio.mask import mask\n",
    "\n",
    "from rasterstats import zonal_stats"
   ]
  },
  {
   "cell_type": "markdown",
   "metadata": {},
   "source": [
    "## 16.1 Import data and plot\n",
    "\n",
    "To open our NLCD subset data, we'll use the `rasterio.open` function"
   ]
  },
  {
   "cell_type": "code",
   "execution_count": null,
   "metadata": {},
   "outputs": [],
   "source": [
    "nlcd_2011 = rasterio.open('notebook_data/raster/nlcd2011_sf.tif')"
   ]
  },
  {
   "cell_type": "markdown",
   "metadata": {},
   "source": [
    "Let's check out what we get."
   ]
  },
  {
   "cell_type": "code",
   "execution_count": null,
   "metadata": {},
   "outputs": [],
   "source": [
    "nlcd_2011"
   ]
  },
  {
   "cell_type": "markdown",
   "metadata": {},
   "source": [
    "Let's dissect this output here. We can look at the helper documentation for clues."
   ]
  },
  {
   "cell_type": "code",
   "execution_count": null,
   "metadata": {},
   "outputs": [],
   "source": [
    "?rasterio.open"
   ]
  },
  {
   "cell_type": "markdown",
   "metadata": {},
   "source": [
    "Which reads that the function returns a ``DatasetReader`` or ``DatasetWriter`` object. Unlike in `GeoPandas` which we've been utilizing a lot of, we don't have a directly editable object here. However, `rasterio` does have functions in place where we can still use this returned object directly.\n",
    "\n",
    "For example, we can easily plot our NLCD data using `rasterio.plot.show`."
   ]
  },
  {
   "cell_type": "code",
   "execution_count": null,
   "metadata": {},
   "outputs": [],
   "source": [
    "rasterio.plot.show(nlcd_2011)"
   ]
  },
  {
   "cell_type": "markdown",
   "metadata": {},
   "source": [
    "And just like how we formatted our `matplotlib` plots when we were using GeoDataFrames, we can still do that with this raster plotting function."
   ]
  },
  {
   "cell_type": "code",
   "execution_count": null,
   "metadata": {},
   "outputs": [],
   "source": [
    "?rasterio.plot.show"
   ]
  },
  {
   "cell_type": "code",
   "execution_count": null,
   "metadata": {},
   "outputs": [],
   "source": [
    "fig, ax = plt.subplots(figsize=(8,8))\n",
    "plt_nlcd = rasterio.plot.show(nlcd_2011, cmap='Pastel2', ax=ax)"
   ]
  },
  {
   "cell_type": "markdown",
   "metadata": {},
   "source": [
    "(Take note of what you think could be improved here... we'll come back to this)\n",
    "\n",
    "We can also plot a histogram of our data in a very similar way."
   ]
  },
  {
   "cell_type": "code",
   "execution_count": null,
   "metadata": {},
   "outputs": [],
   "source": [
    "rasterio.plot.show_hist(nlcd_2011, bins=30)"
   ]
  },
  {
   "cell_type": "markdown",
   "metadata": {},
   "source": [
    "We can see that we have more values on the lower end than on the higher end. To really understand the values that we see here let's [take a look at the legend](https://www.mrlc.gov/data/legends/national-land-cover-database-2016-nlcd2016-legend).\n",
    "\n",
    "<img src =\"assets/images/NLCD_Colour_Classification_Update.jpg\" width=\"200\" align=\"center\">"
   ]
  },
  {
   "cell_type": "markdown",
   "metadata": {},
   "source": [
    "## 16.2 Raster data structure\n",
    "\n",
    "> *Note:* If you need a refresher on what raster data is and relevant terminology. Check out the first lesson that covers geospatial topics\n",
    "\n",
    "Now that we have a basic grasp on how to pull in and plot raster data, we can dig a little deeper to see what information we have.\n",
    "\n",
    "First let's check the number of bands there are in our dataset."
   ]
  },
  {
   "cell_type": "code",
   "execution_count": null,
   "metadata": {},
   "outputs": [],
   "source": [
    "nlcd_2011.count"
   ]
  },
  {
   "cell_type": "markdown",
   "metadata": {},
   "source": [
    "In this case we only have 1 band. If you're pulling in aerial image, you might have 3 bands (red, green, blue). In the case you're bringing in remote sensing data like Landsat or MODIS you might have more!\n",
    "\n",
    "Not let's check out what meta data we have."
   ]
  },
  {
   "cell_type": "code",
   "execution_count": null,
   "metadata": {
    "scrolled": true
   },
   "outputs": [],
   "source": [
    "nlcd_2011.meta"
   ]
  },
  {
   "cell_type": "markdown",
   "metadata": {},
   "source": [
    "So we have a lot of good information here. Let's unpack it:\n",
    "\n",
    "- `driver`: the file type (simialr to what we see in `open` and Geopandas `open`)\n",
    "- `dtype`: the data type of each of your pixels\n",
    "- `nodata`: the value that is set for no data pixels\n",
    "- `width`: the number of pixels wide your dataset is\n",
    "- `height`: the number of pixels high your dataset is\n",
    "- `count`: the number of bands in your dataset\n",
    "- `crs`: the coordiante reference system (CRS) of your data\n",
    "- `transform`: the affine transform matrix that tell us which pixel locations in each row and column align with spatial locations (longitude, latitude)."
   ]
  },
  {
   "cell_type": "markdown",
   "metadata": {},
   "source": [
    "We can also get similar information by calling `profile`."
   ]
  },
  {
   "cell_type": "code",
   "execution_count": null,
   "metadata": {},
   "outputs": [],
   "source": [
    "nlcd_2011.profile"
   ]
  },
  {
   "cell_type": "code",
   "execution_count": null,
   "metadata": {},
   "outputs": [],
   "source": [
    "nlcd_2011.crs"
   ]
  },
  {
   "cell_type": "markdown",
   "metadata": {},
   "source": [
    "Okay, but now we want to actually access our data. We can read in our data as a Numpy ndarray."
   ]
  },
  {
   "cell_type": "code",
   "execution_count": null,
   "metadata": {},
   "outputs": [],
   "source": [
    "nlcd_2011_array = nlcd_2011.read()\n",
    "nlcd_2011_array"
   ]
  },
  {
   "cell_type": "markdown",
   "metadata": {},
   "source": [
    "And we can call shape and see we have a 3D array."
   ]
  },
  {
   "cell_type": "code",
   "execution_count": null,
   "metadata": {},
   "outputs": [],
   "source": [
    "nlcd_2011_array.shape"
   ]
  },
  {
   "cell_type": "markdown",
   "metadata": {},
   "source": [
    "Much like other Numpy arrays, we can look at the min, mean, and max of our data"
   ]
  },
  {
   "cell_type": "code",
   "execution_count": null,
   "metadata": {},
   "outputs": [],
   "source": [
    "print(\"Minimum: \", np.nanmin(nlcd_2011_array))\n",
    "print(\"Max: \", np.nanmean(nlcd_2011_array))\n",
    "print(\"Mean: \", np.nanmax(nlcd_2011_array))"
   ]
  },
  {
   "cell_type": "markdown",
   "metadata": {},
   "source": [
    "And since we have our data in an array form now, we can plot it using not a `rasterio` function, but simply `plt.imshow`."
   ]
  },
  {
   "cell_type": "code",
   "execution_count": null,
   "metadata": {},
   "outputs": [],
   "source": [
    "plt.imshow(nlcd_2011_array[0,:,:])"
   ]
  },
  {
   "cell_type": "markdown",
   "metadata": {},
   "source": [
    "Notice that we specified this plotting by making our array 2D. This gives us more flexibility about how we want to create our plots. You can do something like this:\n",
    "\n",
    "> This definitely looks more scary than it actually is. Essentially we are:\n",
    "> 1. constructing a full color spectrum with all the colors we want\n",
    "> 2. If values are outside of this range, we set the color tot white\n",
    "> 3. we set the boudnaries for each of these colors so we know which color to assign to what value\n",
    "> 4. we create legend labels for our legend\n",
    ">\n",
    "> This process is only really needed if we want to have a color map for specific values outside of a specific named `matplotlib` named color map."
   ]
  },
  {
   "cell_type": "code",
   "execution_count": null,
   "metadata": {},
   "outputs": [],
   "source": [
    "# Define the colors you want\n",
    "cmap = matplotlib.colors.ListedColormap(['royalblue', #11\n",
    "                                        'white', #12\n",
    "                                        'beige', #21\n",
    "                                        'salmon', #22\n",
    "                                        'red', #23\n",
    "                                        'darkred', #24\n",
    "                                        'grey', #31\n",
    "                                        'yellowgreen', #41\n",
    "                                        'darkgreen', #42\n",
    "                                        'lightgreen', # 43\n",
    "                                        'darkgoldenrod', #51\n",
    "                                        'tan', # 52\n",
    "                                        'wheat', # 71\n",
    "                                        'darkkhaki', #72\n",
    "                                        'darkseagreen', #73\n",
    "                                         'mediumseagreen', #74\n",
    "                                         'gold', #81\n",
    "                                         'chocolate', #82\n",
    "                                         'lightsteelblue', #90\n",
    "                                         'steelblue', #95\n",
    "                                        ])\n",
    "cmap.set_under('#FFFFFF')\n",
    "cmap.set_over('#FFFFFF')\n",
    "# Define a normalization from values -> colors\n",
    "norm = matplotlib.colors.BoundaryNorm([10.5,\n",
    "                                       11.5,\n",
    "                                       12.5,\n",
    "                                       21.5,\n",
    "                                       22.5,\n",
    "                                       23.5,\n",
    "                                       24.5,\n",
    "                                       31.5,\n",
    "                                       41.5, \n",
    "                                       42.5,\n",
    "                                       43.5,\n",
    "                                       51.5,\n",
    "                                       52.5,\n",
    "                                       71.5,\n",
    "                                       72.5,\n",
    "                                       73.5,\n",
    "                                       74.5,\n",
    "                                       81.5,\n",
    "                                       82.5,\n",
    "                                       90.5,\n",
    "                                       95.5,\n",
    "                                      ],20)\n",
    "\n",
    "\n",
    "legend_labels = { 'royalblue':'Open Water', \n",
    "                  'white':'Perennial Ice/Snow',\n",
    "                  'beige':'Developed, Open Space',\n",
    "                  'salmon':'Developed, Low Intensity',\n",
    "                  'red':'Developed, Medium Intensity',\n",
    "                  'darkred':'Developed High Intensity',\n",
    "                  'grey':'Barren Land (Rock/Sand/Clay)',\n",
    "                  'yellowgreen':'Deciduous Forest',\n",
    "                  'darkgreen':'Evergreen Forest',\n",
    "                  'lightgreen':'Mixed Forest',\n",
    "                  'darkgoldenrod':'Dwarf Scrub',\n",
    "                  'tan':'Shrub/Scrub',\n",
    "                  'wheat':'Grassland/Herbaceous',\n",
    "                  'darkkhaki':'Sedge/Herbaceous',\n",
    "                  'darkseagreen':'Lichens',\n",
    "                  'mediumseagreen':'Moss',\n",
    "                  'gold':'Pasture/Hay',\n",
    "                  'chocolate':'Cultivated Crops',\n",
    "                  'lightsteelblue':'Woody Wetlands',\n",
    "                  'steelblue':'Emergent Herbaceous Wetlands'}"
   ]
  },
  {
   "cell_type": "code",
   "execution_count": null,
   "metadata": {},
   "outputs": [],
   "source": [
    "fig, ax = plt.subplots(figsize=(8, 8))\n",
    "plt_nlcd = ax.imshow(nlcd_2011_array[0,:,:], cmap=cmap, norm=norm)\n",
    "ax.set_title('NLCD 2011', fontsize=30)\n",
    "\n",
    "# Remove axes\n",
    "ax.set_frame_on(False)\n",
    "plt.setp(ax.get_xticklabels(), visible=False)\n",
    "plt.setp(ax.get_yticklabels(), visible=False)\n",
    "ax.set_xticks([])\n",
    "ax.set_yticks([])\n",
    "\n",
    "# Add color bar\n",
    "patches = [Patch(color=color, label=label)\n",
    "           for color, label in legend_labels.items()]\n",
    "\n",
    "fig.legend(handles=patches, facecolor=\"white\",bbox_to_anchor=(1.1, 1.05))\n",
    "\n",
    "\n"
   ]
  },
  {
   "cell_type": "markdown",
   "metadata": {},
   "source": [
    "## 16.2 Mask raster data\n",
    "\n",
    "*Masking* is a common action that is done with raster data where you \"mask\" everything outside of a certain geometry.\n",
    "\n",
    "To do this let's first bring in the san francisco county data."
   ]
  },
  {
   "cell_type": "code",
   "execution_count": null,
   "metadata": {
    "scrolled": true
   },
   "outputs": [],
   "source": [
    "# Bring in census tracts\n",
    "tracts_gdf = gpd.read_file(\"zip://notebook_data/census/Tracts/cb_2013_06_tract_500k.zip\").to_crs('epsg:4326')\n",
    "\n",
    "# Narrow it down to San Francisco County\n",
    "tracts_gdf_sf = tracts_gdf[tracts_gdf['COUNTYFP']=='075']\n",
    "\n",
    "tracts_gdf_sf.plot()\n",
    "plt.show()"
   ]
  },
  {
   "cell_type": "markdown",
   "metadata": {},
   "source": [
    "We forgot about the Farollon islands! Let's crop those out."
   ]
  },
  {
   "cell_type": "code",
   "execution_count": null,
   "metadata": {},
   "outputs": [],
   "source": [
    "# Crop out Farallon\n",
    "tracts_gdf_sf = tracts_gdf_sf.cx[-122.8:-122.35, 37.65:37.85].copy().reset_index(drop=True)\n",
    "\n",
    "tracts_gdf_sf.plot()\n",
    "plt.show()"
   ]
  },
  {
   "cell_type": "markdown",
   "metadata": {},
   "source": [
    "We'll want to check the crs of our GeoDataFrame"
   ]
  },
  {
   "cell_type": "code",
   "execution_count": null,
   "metadata": {},
   "outputs": [],
   "source": [
    "tracts_gdf_sf.crs"
   ]
  },
  {
   "cell_type": "markdown",
   "metadata": {},
   "source": [
    "Now we will call the `mask` function from `rasterio`. Let's look at the documentation first."
   ]
  },
  {
   "cell_type": "code",
   "execution_count": null,
   "metadata": {},
   "outputs": [],
   "source": [
    "?mask"
   ]
  },
  {
   "cell_type": "markdown",
   "metadata": {},
   "source": [
    "We actually recommend using the `rioxarray` method instesd. So we'll import a new package."
   ]
  },
  {
   "cell_type": "code",
   "execution_count": null,
   "metadata": {},
   "outputs": [],
   "source": [
    "import rioxarray as rxr"
   ]
  },
  {
   "cell_type": "markdown",
   "metadata": {},
   "source": [
    "Open our same NLCD data..."
   ]
  },
  {
   "cell_type": "code",
   "execution_count": null,
   "metadata": {},
   "outputs": [],
   "source": [
    "nlcd_2011 = rxr.open_rasterio('notebook_data/raster/nlcd2011_sf.tif',\n",
    "                              masked=True).squeeze()"
   ]
  },
  {
   "cell_type": "markdown",
   "metadata": {},
   "source": [
    "Reproject our NLCD to be in the same coordinate reference system as the san francisco data"
   ]
  },
  {
   "cell_type": "code",
   "execution_count": null,
   "metadata": {},
   "outputs": [],
   "source": [
    "from rasterio.crs import CRS"
   ]
  },
  {
   "cell_type": "code",
   "execution_count": null,
   "metadata": {},
   "outputs": [],
   "source": [
    "!rio --version"
   ]
  },
  {
   "cell_type": "code",
   "execution_count": null,
   "metadata": {
    "scrolled": false
   },
   "outputs": [],
   "source": [
    "# Currently doesn't work\n",
    "# Issue: https://github.com/mapbox/rasterio/issues/2103\n",
    "test = nlcd_2011.rio.reproject(tracts_gdf_sf.crs)"
   ]
  },
  {
   "cell_type": "markdown",
   "metadata": {},
   "source": [
    "And clip our data to the san francisco geometry"
   ]
  },
  {
   "cell_type": "code",
   "execution_count": null,
   "metadata": {},
   "outputs": [],
   "source": [
    "clipped = test.rio.clip(tracts_gdf_sf.geometry, tracts_gdf_sf.crs, drop=False, invert=False)"
   ]
  },
  {
   "cell_type": "markdown",
   "metadata": {},
   "source": [
    "We can easily plot this using `.plot()`"
   ]
  },
  {
   "cell_type": "code",
   "execution_count": null,
   "metadata": {},
   "outputs": [],
   "source": [
    "clipped.plot()"
   ]
  },
  {
   "cell_type": "markdown",
   "metadata": {},
   "source": [
    "And we can also make a pretty map like we did before."
   ]
  },
  {
   "cell_type": "code",
   "execution_count": null,
   "metadata": {},
   "outputs": [],
   "source": [
    "fig, ax = plt.subplots(figsize=(8, 8))\n",
    "clipped.plot(cmap=cmap, norm=norm, ax=ax,  add_colorbar=False)\n",
    "ax.set_title('NLCD 2011 (Cropped)', fontsize=30)\n",
    "\n",
    "# Add color bar\n",
    "patches = [Patch(color=color, label=label)\n",
    "           for color, label in legend_labels.items()]\n",
    "\n",
    "fig.legend(handles=patches, facecolor=\"white\",bbox_to_anchor=(1.1, 1.05))\n",
    "\n",
    "# Remove axes\n",
    "ax.set_frame_on(False)\n",
    "plt.setp(ax.get_xticklabels(), visible=False)\n",
    "plt.setp(ax.get_yticklabels(), visible=False)\n",
    "ax.set_xticks([])\n",
    "ax.set_yticks([])\n",
    "\n"
   ]
  },
  {
   "cell_type": "markdown",
   "metadata": {},
   "source": [
    "and you can save your work out to a new file!"
   ]
  },
  {
   "cell_type": "code",
   "execution_count": null,
   "metadata": {},
   "outputs": [],
   "source": [
    "clipped.rio.to_raster(\"outdata/nlcd2011_sf_cropped.tif\", tiled=True)"
   ]
  },
  {
   "cell_type": "markdown",
   "metadata": {},
   "source": [
    "## 16.3 Aggregate raster to vector\n",
    "\n",
    "Another common step we see in a lot of raster work flows is questions that go along the lines of \"How do I find the average of my raster within my vector data shapes\"?\n",
    "\n",
    "We can do this by *aggregating* to our vector data. For this example we'll ask the question, \"What is the majority class I have in each of the census tracts in San Francisco?\"\n",
    "\n",
    "For this we'll turn to the `rasterstas` pacakge which has a handy function called `zonal_stats`. By default, the function will give us the minimum, maximum, mean, and count. But there also a lot more statistics that the function can return beyond this:\n",
    "- sum\n",
    "- std\n",
    "- median\n",
    "- majority\n",
    "- minority\n",
    "- unique\n",
    "- range\n",
    "- nodata\n",
    "- percentile"
   ]
  },
  {
   "cell_type": "markdown",
   "metadata": {},
   "source": [
    "So we'll first bring back our clipped census tracts shapefile we have for san francisco."
   ]
  },
  {
   "cell_type": "code",
   "execution_count": null,
   "metadata": {},
   "outputs": [],
   "source": [
    "tracts_gdf_sf.plot()\n",
    "plt.show()"
   ]
  },
  {
   "cell_type": "markdown",
   "metadata": {},
   "source": [
    "And we'll check out the `zonal_stats` documentation to get a better sense of how we can customize the arguments to better fit our needs."
   ]
  },
  {
   "cell_type": "code",
   "execution_count": null,
   "metadata": {},
   "outputs": [],
   "source": [
    "?zonal_stats"
   ]
  },
  {
   "cell_type": "markdown",
   "metadata": {},
   "source": [
    "Which doesn't tell us a ton. Since we don't have `gen_zonal_stas` loaded, we can go look at the documentation online: https://pythonhosted.org/rasterstats/rasterstats.html\n",
    "\n",
    "After we check that out, let's get on rolling and actually get our zonal stats by census tract."
   ]
  },
  {
   "cell_type": "code",
   "execution_count": null,
   "metadata": {},
   "outputs": [],
   "source": [
    "with rasterio.open('notebook_data/raster/nlcd2011_sf.tif') as src:\n",
    "    affine = src.transform\n",
    "    array = src.read(1)\n",
    "    df_zonal_stats = pd.DataFrame(zonal_stats(tracts_gdf_sf, array, affine=affine, stats=['majority', 'unique']))"
   ]
  },
  {
   "cell_type": "markdown",
   "metadata": {},
   "source": [
    "There's a lot going on in the cell above, let's break it down:\n",
    "- `affine` object grabbed the transform of our raster data\n",
    "- `array` object read the first band we have in our raster dataset\n",
    "- `df_zonal_stats` has the results of our `zonal_stats` and then coerced it to be a dataframe.\n",
    "\n",
    "So from that caell, we get `df_zonal_stats` which looks like:"
   ]
  },
  {
   "cell_type": "code",
   "execution_count": null,
   "metadata": {},
   "outputs": [],
   "source": [
    "df_zonal_stats"
   ]
  },
  {
   "cell_type": "markdown",
   "metadata": {},
   "source": [
    "So now, we can merge this back onto our geodataframe so we can add the majority classes and unique number of classes as attributes."
   ]
  },
  {
   "cell_type": "code",
   "execution_count": null,
   "metadata": {},
   "outputs": [],
   "source": [
    "tracts_gdf_sf_zs = pd.concat([tracts_gdf_sf, df_zonal_stats[['majority','unique']]], axis=1) "
   ]
  },
  {
   "cell_type": "markdown",
   "metadata": {},
   "source": [
    "And we can make a map that shows, for example, the majority class we have in each census tract."
   ]
  },
  {
   "cell_type": "code",
   "execution_count": null,
   "metadata": {},
   "outputs": [],
   "source": [
    "fig, ax = plt.subplots(figsize=(8,8))\n",
    "tracts_gdf_sf_zs.plot(column='majority', cmap=cmap, norm=norm, ax=ax)\n",
    "\n",
    "# Add color bar\n",
    "patches = [Patch(color=color, label=label)\n",
    "           for color, label in legend_labels.items()]\n",
    "\n",
    "fig.legend(handles=patches, facecolor=\"white\",bbox_to_anchor=(1.1, 1.05))\n",
    "\n",
    "plt.show()"
   ]
  },
  {
   "cell_type": "markdown",
   "metadata": {},
   "source": [
    "## 16.4 Other resources\n",
    "We really only grazed the surface here. We've linked a couple of resources that dive into raster data."
   ]
  },
  {
   "cell_type": "markdown",
   "metadata": {},
   "source": [
    "- [EarthLab](https://www.earthdatascience.org)\n",
    "- [Software Carpentry](https://carpentries-incubator.github.io/geospatial-python/aio/index.html)\n",
    "- [Intro to Python GIS](https://automating-gis-processes.github.io/CSC/index.html)"
   ]
  },
  {
   "cell_type": "markdown",
   "metadata": {},
   "source": [
    "---\n",
    "<div style=\"display:inline-block;vertical-align:middle;\">\n",
    "<a href=\"https://dlab.berkeley.edu/\" target=\"_blank\"><img src =\"assets/images/dlab_logo.png\" width=\"75\" align=\"left\">\n",
    "</a>\n",
    "</div>\n",
    "\n",
    "<div style=\"display:inline-block;vertical-align:middle;\">\n",
    "    <div style=\"font-size:larger\">&nbsp;D-Lab @ University of California - Berkeley</div>\n",
    "    <div>&nbsp;Team Geo<div>\n",
    "</div>\n",
    "        \n",
    "\n"
   ]
  }
 ],
 "metadata": {
  "kernelspec": {
   "display_name": "geo_env2",
   "language": "python",
   "name": "geo_env2"
  },
  "language_info": {
   "codemirror_mode": {
    "name": "ipython",
    "version": 3
   },
   "file_extension": ".py",
   "mimetype": "text/x-python",
   "name": "python",
   "nbconvert_exporter": "python",
   "pygments_lexer": "ipython3",
   "version": "3.9.2"
  }
 },
 "nbformat": 4,
 "nbformat_minor": 4
}