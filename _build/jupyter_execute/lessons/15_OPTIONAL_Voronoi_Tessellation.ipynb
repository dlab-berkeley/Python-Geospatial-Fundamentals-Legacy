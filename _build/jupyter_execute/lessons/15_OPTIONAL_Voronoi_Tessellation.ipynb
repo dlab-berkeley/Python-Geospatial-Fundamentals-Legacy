{
 "cells": [
  {
   "cell_type": "markdown",
   "metadata": {},
   "source": [
    "# 15. Voronoi Tessellation\n",
    "\n",
    "In some of the earlier lessons we dicussed how to conduct *proximity analyses* using buffer polygons. We looked at how accessible schools were via bike paths in Berkeley. Instead of using a buffers drawn at differnt radii around our locations or objects of interest, we could also use something called a **Voronoi diagram**.\n",
    "\n",
    "<img src='https://upload.wikimedia.org/wikipedia/commons/thumb/5/54/Euclidean_Voronoi_diagram.svg/800px-Euclidean_Voronoi_diagram.svg.png' style=\"width: 400px;\">\n",
    "\n",
    "As seen above, we have a bunch of **Voronoi cells** that are delineated by encompassing all locations that are closest to our point of interest than any other points. \n",
    "\n",
    "In this notebook, we'll experiment with making these type of diagrams in Python."
   ]
  },
  {
   "cell_type": "code",
   "execution_count": null,
   "metadata": {},
   "outputs": [],
   "source": [
    "import pandas as pd\n",
    "import geopandas as gpd\n",
    "import random\n",
    "\n",
    "import matplotlib # base python plotting library\n",
    "import matplotlib.pyplot as plt # submodule of matplotlib\n",
    "\n",
    "# To display plots, maps, charts etc in the notebook\n",
    "%matplotlib inline  "
   ]
  },
  {
   "cell_type": "markdown",
   "metadata": {},
   "source": [
    "We'll be using a Python package called `geovoronoi`"
   ]
  },
  {
   "cell_type": "code",
   "execution_count": null,
   "metadata": {},
   "outputs": [],
   "source": [
    "from geovoronoi.plotting import subplot_for_map, plot_voronoi_polys_with_points_in_area\n",
    "from geovoronoi import voronoi_regions_from_coords, points_to_coords"
   ]
  },
  {
   "cell_type": "markdown",
   "metadata": {},
   "source": [
    "## 15.1 Polling locations\n",
    "\n",
    "We'll be using the 2020 General Election voting locations for Alameda County for this analysis. Since the data is aspatial we'll need to coerce it to be a geodataframe and define a CRS."
   ]
  },
  {
   "cell_type": "code",
   "execution_count": null,
   "metadata": {},
   "outputs": [],
   "source": [
    "# Pull in polling location\n",
    "polling_ac_df = pd.read_csv('notebook_data/ac_voting_locations.csv')\n",
    "polling_ac_df.head()\n",
    "\n",
    "# Make into geo data frame\n",
    "polling_ac_gdf = gpd.GeoDataFrame(polling_ac_df, \n",
    "                               geometry=gpd.points_from_xy(polling_ac_df.X, polling_ac_df.Y))\n",
    "polling_ac_gdf.crs = \"epsg:4326\"\n",
    "\n",
    "polling_ac_gdf.plot()"
   ]
  },
  {
   "cell_type": "markdown",
   "metadata": {},
   "source": [
    "## 15.2 Census tracts\n",
    "We'll also bring in our census tracts data for Alameda county."
   ]
  },
  {
   "cell_type": "code",
   "execution_count": null,
   "metadata": {},
   "outputs": [],
   "source": [
    "# Bring in census tracts\n",
    "tracts_gdf = gpd.read_file(\"zip://notebook_data/census/Tracts/cb_2013_06_tract_500k.zip\")\n",
    "\n",
    "# Narrow it down to Alameda County\n",
    "tracts_gdf_ac = tracts_gdf[tracts_gdf['COUNTYFP']=='001']\n",
    "tracts_gdf_ac.plot()\n",
    "plt.show()"
   ]
  },
  {
   "cell_type": "markdown",
   "metadata": {},
   "source": [
    "To make sure we can use it with our polling locations data, we'll check the Coordinate Reference System (CRS)."
   ]
  },
  {
   "cell_type": "code",
   "execution_count": null,
   "metadata": {},
   "outputs": [],
   "source": [
    "# Check CRS\n",
    "print('polling_ac_gdf:', polling_ac_gdf.crs)\n",
    "print('tracts_gdf_ac CRS:', tracts_gdf_ac.crs)"
   ]
  },
  {
   "cell_type": "markdown",
   "metadata": {},
   "source": [
    "Uh oh! It looks like they have different CRS. We'll transform them both\n",
    "> Note: If you need a refresher on CRS check out Lesson 3, Coordinate Reference Systems (CRS) & Map Projections"
   ]
  },
  {
   "cell_type": "code",
   "execution_count": null,
   "metadata": {},
   "outputs": [],
   "source": [
    "# Transform CRS\n",
    "polling_ac_gdf_utm10 = polling_ac_gdf.to_crs(\"epsg:26910\")\n",
    "tracts_gdf_ac_utm10 = tracts_gdf_ac.to_crs(\"epsg:26910\")"
   ]
  },
  {
   "cell_type": "markdown",
   "metadata": {},
   "source": [
    "And now let's plot them together to see how the polling locations are spread across the county."
   ]
  },
  {
   "cell_type": "code",
   "execution_count": null,
   "metadata": {},
   "outputs": [],
   "source": [
    "fig, ax = plt.subplots(figsize = (14,8)) \n",
    "\n",
    "tracts_gdf_ac_utm10.plot(ax=ax,color='lightgrey',\n",
    "                         legend=True)\n",
    "polling_ac_gdf_utm10.plot(ax=ax, color='seagreen', markersize=9)"
   ]
  },
  {
   "cell_type": "markdown",
   "metadata": {},
   "source": [
    "## 15.3 Voronoi Tessellation"
   ]
  },
  {
   "cell_type": "markdown",
   "metadata": {},
   "source": [
    "To make our Voronoi geometries, we'll be using the `voronoi_regions_from_coords` from the `geovoronai` package. Let's check the helper function."
   ]
  },
  {
   "cell_type": "code",
   "execution_count": null,
   "metadata": {},
   "outputs": [],
   "source": [
    "?voronoi_regions_from_coords"
   ]
  },
  {
   "cell_type": "markdown",
   "metadata": {},
   "source": [
    "You'll see that the helper function says *enerate Voronoi regions from NumPy array of 2D coordinates or list of Shapely Point objects in `coord`*. That means instead of GeoDataframe as an input, we'll need to first convert all our geometries to numpy arrays. \n",
    "\n",
    "We can easily do this by using `points_to_coords`"
   ]
  },
  {
   "cell_type": "code",
   "execution_count": null,
   "metadata": {},
   "outputs": [],
   "source": [
    "polling_array = points_to_coords(polling_ac_gdf_utm10.geometry)"
   ]
  },
  {
   "cell_type": "markdown",
   "metadata": {},
   "source": [
    "And now we're ready to run our voronoi region creation! We put in two inputs: our polling locations as a numpy array and our tracts boundary (which we created using `unary_union`)."
   ]
  },
  {
   "cell_type": "code",
   "execution_count": null,
   "metadata": {},
   "outputs": [],
   "source": [
    "region_polys, region_pts = voronoi_regions_from_coords(polling_array, tracts_gdf_ac_utm10.unary_union)"
   ]
  },
  {
   "cell_type": "markdown",
   "metadata": {},
   "source": [
    "You'll also notice we get two outputs from our line of code. The first object, in our case `region_polys` gives us the shape of the Voronoi geometry, while `region_pts` gives us the list of points.\n",
    "\n",
    "To easily plot our points, we can use the `plot_voronoi_polys_with_points_in_area` which takes the following arguments:\n",
    "- `ax`: Matplotlib axes object on which you want to plot\n",
    "- `area_shape`: the boundary shape that encompasses our Voronoi regions. In our case this is the shape of Alameda County.\n",
    "- `region_polys`: The dictionary that we got from above that gives the IDs and the polygons of our Voronoi geoemtries.\n",
    "- `points`: The numpy array of our shapely point objects, which we got above as `region_pts`\n",
    "\n",
    "There are more arguments than this that you can use to customize your plot. Uncomment the code below to see the helper file."
   ]
  },
  {
   "cell_type": "code",
   "execution_count": null,
   "metadata": {},
   "outputs": [],
   "source": [
    "# ?plot_voronoi_polys_with_points_in_area"
   ]
  },
  {
   "cell_type": "code",
   "execution_count": null,
   "metadata": {},
   "outputs": [],
   "source": [
    "fig, ax =  subplot_for_map(figsize=(10,10))\n",
    "plot_voronoi_polys_with_points_in_area(ax, tracts_gdf_ac_utm10.unary_union, \n",
    "                                       region_polys, \n",
    "                                       polling_array, \n",
    "                                       region_pts,\n",
    "                                       points_markersize=10)"
   ]
  },
  {
   "cell_type": "markdown",
   "metadata": {},
   "source": [
    "Ta-da!!!! \n",
    "\n",
    "## 15.4 Voronoi colored by an attribute\n",
    "\n",
    "Now we can go a step beyond this by changing the colors of each of our Voronoi regions based on a certain attribute.\n",
    "\n",
    "To do that, let's first get all of our region geometries as a list."
   ]
  },
  {
   "cell_type": "code",
   "execution_count": null,
   "metadata": {},
   "outputs": [],
   "source": [
    "list_polys = list(region_polys.values())\n",
    "list_polys[0:5]"
   ]
  },
  {
   "cell_type": "markdown",
   "metadata": {},
   "source": [
    "And we'll replace our point geometries in our original polling locations geodataframe."
   ]
  },
  {
   "cell_type": "code",
   "execution_count": null,
   "metadata": {},
   "outputs": [],
   "source": [
    "polling_v = gpd.GeoDataFrame(polling_ac_gdf_utm10.drop('geometry',axis=1),\n",
    "                                  geometry=list_polys)\n",
    "polling_v.plot()"
   ]
  },
  {
   "cell_type": "markdown",
   "metadata": {},
   "source": [
    "Say we had a number of votes cast count for every polling location. We'll randomly generate it here..."
   ]
  },
  {
   "cell_type": "code",
   "execution_count": null,
   "metadata": {},
   "outputs": [],
   "source": [
    "polling_v['votes_cast'] = random.sample(range(10000,50000), polling_v.shape[0])"
   ]
  },
  {
   "cell_type": "markdown",
   "metadata": {},
   "source": [
    "And we can now color our polygons based on the number of votes cast there."
   ]
  },
  {
   "cell_type": "code",
   "execution_count": null,
   "metadata": {},
   "outputs": [],
   "source": [
    "fig, ax= plt.subplots(figsize=(10,6))\n",
    "polling_v.plot(column='votes_cast', cmap='Purples', legend=True, ax=ax)\n",
    "plt.show()"
   ]
  },
  {
   "cell_type": "markdown",
   "metadata": {},
   "source": [
    "---\n",
    "<div style=\"display:inline-block;vertical-align:middle;\">\n",
    "<a href=\"https://dlab.berkeley.edu/\" target=\"_blank\"><img src =\"assets/images/dlab_logo.png\" width=\"75\" align=\"left\">\n",
    "</a>\n",
    "</div>\n",
    "\n",
    "<div style=\"display:inline-block;vertical-align:middle;\">\n",
    "    <div style=\"font-size:larger\">&nbsp;D-Lab @ University of California - Berkeley</div>\n",
    "    <div>&nbsp;Team Geo<div>\n",
    "</div>\n",
    "        \n",
    "\n",
    "\n",
    "\n"
   ]
  }
 ],
 "metadata": {
  "kernelspec": {
   "display_name": "geo_env2",
   "language": "python",
   "name": "geo_env2"
  },
  "language_info": {
   "codemirror_mode": {
    "name": "ipython",
    "version": 3
   },
   "file_extension": ".py",
   "mimetype": "text/x-python",
   "name": "python",
   "nbconvert_exporter": "python",
   "pygments_lexer": "ipython3",
   "version": "3.9.2"
  }
 },
 "nbformat": 4,
 "nbformat_minor": 4
}