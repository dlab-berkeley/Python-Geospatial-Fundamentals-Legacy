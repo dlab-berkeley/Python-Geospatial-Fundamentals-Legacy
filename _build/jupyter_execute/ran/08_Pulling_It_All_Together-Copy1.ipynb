{
 "cells": [
  {
   "cell_type": "markdown",
   "metadata": {},
   "source": [
    "# 08. Pulling it all Together\n",
    "\n",
    "For this last lesson, we'll practice going through a full workflow!! We'll answer the question:\n",
    "## What is the total grocery-store sales volume of each census tract?\n",
    "\n",
    "\n",
    "### WORKFLOW:\n",
    "\n",
    "<br>\n",
    "Here's a set of steps that we will implement in the labeled cells below:\n",
    "\n",
    "<u> 8.1 Read in and Prep Data</u>\n",
    "- read in tracts acs joined data\n",
    "- read our grocery-data CSV into a Pandas DataFrame (it lives at `'notebook_data/other/ca_grocery_stores_2019_wgs84.csv`)\n",
    "- coerce it to a GeoDataFrame\n",
    "- define its CRS (EPSG:4326)\n",
    "- transform it to match the CRS of `tracts_acs_gdf_ac`\n",
    "- take a peek\n",
    "\n",
    "<u>8.2 Spatial Join and Dissolve</u>\n",
    "- join the two datasets in such a way that you can then...\n",
    "- group by tract and calculate the total grocery-store sales volume\n",
    "- don't forget to check the dimensions, contents, and any other relevant aspects of your results\n",
    "\n",
    "<u>8.3 Plot and Review</u>\n",
    "- plot the tracts, coloring them by total grocery-store sales volume\n",
    "- plot the grocery stores on top\n",
    "- bonus points for devising a nice visualization scheme that helps you heuristically check your results!\n",
    "\n",
    "\n",
    "\n",
    "### INSTRUCTIONS:\n",
    "**We've written out some of the code for you, but you'll need to replace the ellipses with the correct\n",
    "content.**\n",
    "\n",
    "*You can check your answers by double-clicking on the Markdown cells where indicated.*\n",
    "\n",
    "\n",
    "<br>\n",
    "<font color='grey'>\n",
    "    <b>Instructor Notes</b>\n",
    "\n",
    "- Datasets used\n",
    "    - 'outdata/tracts_acs_gdf_ac.json'\n",
    "    - 'notebook_data/other/ca_grocery_stores_2019_wgs84.csv'\n",
    "\n",
    "- Expected time to complete\n",
    "    - Lecture + Questions: N/A\n",
    "    - Exercises: 30 minutes\n",
    "</font>\n",
    "\n",
    "\n",
    "\n",
    "-----------------"
   ]
  },
  {
   "cell_type": "markdown",
   "metadata": {},
   "source": [
    "\n",
    "---------------------------------------\n",
    "\n",
    "\n",
    "### Install Packages"
   ]
  },
  {
   "cell_type": "code",
   "execution_count": 1,
   "metadata": {},
   "outputs": [],
   "source": [
    "import pandas as pd\n",
    "import geopandas as gpd\n",
    "\n",
    "import matplotlib # base python plotting library\n",
    "import matplotlib.pyplot as plt # submodule of matplotlib\n",
    "\n",
    "# To display plots, maps, charts etc in the notebook\n",
    "%matplotlib inline  "
   ]
  },
  {
   "cell_type": "markdown",
   "metadata": {},
   "source": [
    "------------------\n",
    "\n",
    "## 8.1 Read in the Prep Data\n",
    "\n",
    "We first need to prepare our data by loading both our tracts/acs and grocery data, and conduct our usual steps to make there they have the same CRS.\n",
    "\n",
    "- read in our tracts acs joined data \n",
    "- read our grocery-data CSV into a Pandas DataFrame (it lives at `'notebook_data/other/ca_grocery_stores_2019_wgs84.csv`)\n",
    "- coerce it to a GeoDataFrame\n",
    "- define its CRS (EPSG:4326)\n",
    "- transform it to match the CRS of `tracts_acs_gdf_ac`\n",
    "- take a peek\n",
    "\n"
   ]
  },
  {
   "cell_type": "code",
   "execution_count": 2,
   "metadata": {},
   "outputs": [
    {
     "ename": "SyntaxError",
     "evalue": "invalid syntax (<ipython-input-2-668fd88e49fb>, line 3)",
     "output_type": "error",
     "traceback": [
      "\u001b[0;36m  File \u001b[0;32m\"<ipython-input-2-668fd88e49fb>\"\u001b[0;36m, line \u001b[0;32m3\u001b[0m\n\u001b[0;31m    tracts_acs_gdf_ac = gpd.read_file(..)\u001b[0m\n\u001b[0m                                      ^\u001b[0m\n\u001b[0;31mSyntaxError\u001b[0m\u001b[0;31m:\u001b[0m invalid syntax\n"
     ]
    }
   ],
   "source": [
    "# read in tracts acs data\n",
    "\n",
    "tracts_acs_gdf_ac = gpd.read_file(..)"
   ]
  },
  {
   "cell_type": "code",
   "execution_count": null,
   "metadata": {},
   "outputs": [],
   "source": [
    "# read our grocery-data CSV into a Pandas DataFrame\n",
    "\n",
    "grocery_pts_df = pd.read_csv(...)"
   ]
  },
  {
   "cell_type": "code",
   "execution_count": null,
   "metadata": {},
   "outputs": [],
   "source": [
    "# coerce it to a GeoDataFrame\n",
    "\n",
    "grocery_pts_gdf = gpd.GeoDataFrame(grocery_pts_df, \n",
    "                                   geometry=gpd.points_from_xy(...,...))"
   ]
  },
  {
   "cell_type": "code",
   "execution_count": null,
   "metadata": {},
   "outputs": [],
   "source": [
    "# define its CRS (NOTE: Use EPSG:4326)\n",
    "\n",
    "grocery_pts_gdf.crs = ..."
   ]
  },
  {
   "cell_type": "code",
   "execution_count": null,
   "metadata": {},
   "outputs": [],
   "source": [
    "# transform it to match the CRS of tracts_acs_gdf_ac\n",
    "\n",
    "grocery_pts_gdf.to_crs(..., inplace=...)"
   ]
  },
  {
   "cell_type": "code",
   "execution_count": null,
   "metadata": {},
   "outputs": [],
   "source": [
    "# take a peek\n",
    "\n",
    "print(grocery_pts_gdf.head())"
   ]
  },
  {
   "cell_type": "markdown",
   "metadata": {},
   "source": [
    "## Double-click here to see solution!\n",
    "\n",
    "<!--\n",
    "\n",
    "# SOLUTION:\n",
    "\n",
    "########################\n",
    "# read in and prep data:\n",
    "#-----------------------\n",
    "# read in tracts acs data\n",
    "tracts_acs_gdf_ac = gpd.read_file('outdata/tracts_acs_gdf_ac.json')\n",
    "# read in the grocery-store data\n",
    "grocery_pts_df = pd.read_csv('notebook_data/other/ca_grocery_stores_2019_wgs84.csv')\n",
    "# coerce to a GeoDataFrame\n",
    "grocery_pts_gdf = gpd.GeoDataFrame(grocery_pts_df, \n",
    "                               geometry=gpd.points_from_xy(grocery_pts_df.X, grocery_pts_df.Y))\n",
    "# define the CRS\n",
    "grocery_pts_gdf.crs = \"epsg:4326\"\n",
    "# transform to our census-tract CRS\n",
    "grocery_pts_gdf.to_crs(tracts_acs_gdf_ac.crs, inplace=True)\n",
    "print(grocery_pts_gdf.head())\n",
    "\n",
    "-->\n",
    "\n",
    "-----------------------"
   ]
  },
  {
   "cell_type": "markdown",
   "metadata": {},
   "source": [
    "## 8.2 Spatial Join and Dissolve\n",
    "\n",
    "Now that we have our data and they're in the same projection, we're going to conduct an *attribute join* to bring together the two datasets. From there we'll be able to actually *aggregate* our data to count the total sales volume.\n",
    "\n",
    "- join the two datasets in such a way that you can then...\n",
    "- group by tract and calculate the total grocery-store sales volume\n",
    "- don't forget to check the dimensions, contents, and any other relevant aspects of your results"
   ]
  },
  {
   "cell_type": "code",
   "execution_count": null,
   "metadata": {},
   "outputs": [],
   "source": [
    "# join the two datasets in such a way that you can then...\n",
    "\n",
    "tracts_joingrocery = gpd.sjoin(..., ..., how= ...)"
   ]
  },
  {
   "cell_type": "code",
   "execution_count": null,
   "metadata": {},
   "outputs": [],
   "source": [
    "# group by tract and calculate the total grocery-store sales volume\n",
    "\n",
    "tracts_totsalesvol = tracts_joingrocery[['GEOID','geometry','SALESVOL']].dissolve(by= ...,\n",
    "                                                                                  aggfunc=..., as_index=False)"
   ]
  },
  {
   "cell_type": "code",
   "execution_count": null,
   "metadata": {},
   "outputs": [],
   "source": [
    "# don't forget to check the dimensions, contents, and any other relevant aspects of your results\n",
    "\n",
    "# check the dimensions\n",
    "print('Dimensions of result:', ...)\n",
    "print('Dimesions of census tracts:', ...)"
   ]
  },
  {
   "cell_type": "code",
   "execution_count": null,
   "metadata": {},
   "outputs": [],
   "source": [
    "# check the result\n",
    "print(tracts_totsalesvol.head())"
   ]
  },
  {
   "cell_type": "markdown",
   "metadata": {},
   "source": [
    "## Double-click here to see solution!\n",
    "\n",
    "<!--\n",
    "\n",
    "# SOLUTION:\n",
    "\n",
    "############################\n",
    "# spatial join and dissolve:\n",
    "#---------------------------\n",
    "# join the grocery stores onto the tracts\n",
    "tracts_joingrocery = gpd.sjoin(tracts_acs_gdf_ac, grocery_pts_gdf, how='left')\n",
    "# dissolve the joined object, summing the SALESVOL column by GEOID\n",
    "tracts_totsalesvol = tracts_joingrocery[['GEOID','geometry','SALESVOL']].dissolve(by='GEOID',\n",
    "                                                                                  aggfunc=\"sum\",as_index=False)\n",
    "# check the dimensions\n",
    "# print('Dimensions of result:', tracts_totsalesvol.shape)\n",
    "# print('Dimesions of census tracts:', tracts_acs_gdf_ac.shape)\n",
    "\n",
    "# check the result\n",
    "print(tracts_totsalesvol.head())\n",
    "\n",
    "-->\n",
    "\n",
    "----------------------"
   ]
  },
  {
   "cell_type": "markdown",
   "metadata": {},
   "source": [
    "## 8.3 Plot and Review\n",
    "\n",
    "With any time of geospatial analysis you do, it's always nice to plot and visualize your results to check your work and start to understand the full story of your analysis.\n",
    "\n",
    "- Plot the tracts, coloring them by total grocery-store sales volume\n",
    "- Plot the grocery stores on top\n",
    "- Bonus points for devising a nice visualization scheme that helps you heuristically check your results!"
   ]
  },
  {
   "cell_type": "code",
   "execution_count": null,
   "metadata": {},
   "outputs": [],
   "source": [
    "# create the figure and axes\n",
    "\n",
    "fig, ax = plt.subplots(figsize = (20,20)) \n",
    "\n",
    "# plot the tracts, coloring by total SALESVOL\n",
    "\n",
    "tracts_totsalesvol.plot(ax=ax, column= ..., scheme=\"quantiles\", cmap=\"autumn\", edgecolor=\"grey\",\n",
    "                        legend=True, legend_kwds={'title':...})"
   ]
  },
  {
   "cell_type": "code",
   "execution_count": null,
   "metadata": {},
   "outputs": [],
   "source": [
    "# subset the stores for only those within our tracts, to keep map within region of interest\n",
    "\n",
    "grocery_pts_gdf_ac = grocery_pts_gdf.loc[..., ]"
   ]
  },
  {
   "cell_type": "code",
   "execution_count": null,
   "metadata": {},
   "outputs": [],
   "source": [
    "# add the grocery stores, coloring by SALESVOL, for a visual check\n",
    "\n",
    "grocery_pts_gdf_ac.plot(ax=ax, column= ... , cmap= ..., linewidth= ..., markersize= ...,\n",
    "                        legend=True, legend_kwds={'label': ... , 'orientation': \"horizontal\"})"
   ]
  },
  {
   "cell_type": "markdown",
   "metadata": {
    "scrolled": false
   },
   "source": [
    "## Double-click here to see solution!\n",
    "\n",
    "<!--\n",
    "\n",
    "# SOLUTION:\n",
    "\n",
    "##################\n",
    "# plot and review:\n",
    "#-----------------\n",
    "\n",
    "# create the figure and axes\n",
    "fig, ax = plt.subplots(figsize = (20,20)) \n",
    "# plot the tracts, coloring by total SALESVOL\n",
    "tracts_totsalesvol.plot(ax=ax,column='SALESVOL', scheme=\"quantiles\", cmap=\"autumn\", edgecolor=\"grey\",\n",
    "                        legend=True, legend_kwds={'title':'Total grocery-store sales volume ($; tracts)'})\n",
    "# subset the stores for only those within our tracts, to keep map within region of interest\n",
    "grocery_pts_gdf_ac = grocery_pts_gdf.loc[grocery_pts_gdf.within(tracts_acs_gdf_ac.unary_union), ]\n",
    "# add the grocery stores, coloring by SALESVOL, for a visual check\n",
    "grocery_pts_gdf_ac.plot(ax=ax, column='SALESVOL', cmap='Greys_r', linewidth=0.3, markersize=25,\n",
    "                     legend=True, legend_kwds={'label': \"sales volume ($; stores)\", 'orientation': \"horizontal\"})\n",
    "\n",
    "-->\n",
    "\n",
    "-------------------"
   ]
  },
  {
   "cell_type": "markdown",
   "metadata": {},
   "source": [
    "<br>\n",
    "<br>\n",
    "<br>\n",
    "<br>\n",
    "<br>\n",
    "<br>\n",
    "\n",
    "***\n",
    "\n",
    "# Congrats!! Thanks for Joining Us for Geospatial Fundamentals!!\n",
    "\n",
    "<img src=\"https://statmodeling.stat.columbia.edu/wp-content/uploads/2016/07/cat-globe.png\">"
   ]
  },
  {
   "cell_type": "markdown",
   "metadata": {},
   "source": [
    "---\n",
    "<div style=\"display:inline-block;vertical-align:middle;\">\n",
    "<a href=\"https://dlab.berkeley.edu/\" target=\"_blank\"><img src =\"assets/images/dlab_logo.png\" width=\"75\" align=\"left\">\n",
    "</a>\n",
    "</div>\n",
    "\n",
    "<div style=\"display:inline-block;vertical-align:middle;\">\n",
    "    <div style=\"font-size:larger\">&nbsp;D-Lab @ University of California - Berkeley</div>\n",
    "    <div>&nbsp;Team Geo<div>\n",
    "</div>\n",
    "        \n",
    "\n",
    "\n",
    "\n"
   ]
  }
 ],
 "metadata": {
  "kernelspec": {
   "display_name": "Python 3",
   "language": "python",
   "name": "python3"
  },
  "language_info": {
   "codemirror_mode": {
    "name": "ipython",
    "version": 3
   },
   "file_extension": ".py",
   "mimetype": "text/x-python",
   "name": "python",
   "nbconvert_exporter": "python",
   "pygments_lexer": "ipython3",
   "version": "3.8.3"
  }
 },
 "nbformat": 4,
 "nbformat_minor": 4
}