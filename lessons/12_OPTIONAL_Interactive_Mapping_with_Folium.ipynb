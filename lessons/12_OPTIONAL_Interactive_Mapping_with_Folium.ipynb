{
 "cells": [
  {
   "cell_type": "markdown",
   "metadata": {},
   "source": [
    "# 12. Interactive Mapping with Folium\n",
    "\n",
    "In previous lessons we  used `Geopandas` and `matplotlib` to create choropleth and point maps of our data. In this notebook we will take it to the next level by creating `interactive maps` with the **folium** library. \n",
    "\n",
    "\n",
    "\n",
    ">### References\n",
    ">\n",
    ">This notebook provides an introduction to `folium`. To see what else you can do, check out the references listed below.\n",
    ">\n",
    "> - [Folium web site](https://github.com/python-visualization/folium)\n",
    ">\n",
    "> - [Folium notebook examples](https://nbviewer.jupyter.org/github/python-visualization/folium/tree/master/examples/)\n",
    "\n",
    "### Import Libraries"
   ]
  },
  {
   "cell_type": "code",
   "execution_count": 1,
   "metadata": {},
   "outputs": [
    {
     "name": "stderr",
     "output_type": "stream",
     "text": [
      "/opt/anaconda3/envs/geo_env2/lib/python3.9/site-packages/geopandas/_compat.py:106: UserWarning: The Shapely GEOS version (3.9.1-CAPI-1.14.2) is incompatible with the GEOS version PyGEOS was compiled with (3.9.0-CAPI-1.16.2). Conversions between both will be slow.\n",
      "  warnings.warn(\n"
     ]
    }
   ],
   "source": [
    "import pandas as pd\n",
    "import geopandas as gpd\n",
    "import numpy as np\n",
    "\n",
    "import matplotlib # base python plotting library\n",
    "import matplotlib.pyplot as plt # submodule of matplotlib\n",
    "\n",
    "# To display plots, maps, charts etc in the notebook\n",
    "%matplotlib inline  \n",
    "\n",
    "import folium # popular python web mapping tool for creating Leaflet maps\n",
    "import folium.plugins\n",
    "\n",
    "# Supress minor warnings about the syntax of CRS definitions, \n",
    "# ie \"init=epsg:4269\" vs \"epsg:4269\"\n",
    "import warnings\n",
    "warnings.simplefilter(action='ignore', category=FutureWarning)"
   ]
  },
  {
   "cell_type": "markdown",
   "metadata": {},
   "source": [
    "#### Check your version of `folium` and `geopandas`.\n",
    "\n",
    "Folium is a new and evolving Python library so make sure you have version 0.10.1 or later installed."
   ]
  },
  {
   "cell_type": "code",
   "execution_count": 2,
   "metadata": {
    "scrolled": true
   },
   "outputs": [
    {
     "name": "stdout",
     "output_type": "stream",
     "text": [
      "unknown\n"
     ]
    }
   ],
   "source": [
    "print(folium.__version__) # Make sure you have version 0.10.1 or later of folium!"
   ]
  },
  {
   "cell_type": "code",
   "execution_count": 3,
   "metadata": {},
   "outputs": [
    {
     "name": "stdout",
     "output_type": "stream",
     "text": [
      "0.9.0\n"
     ]
    }
   ],
   "source": [
    "print(gpd.__version__) # Make sure you have version 0.7.0 or later of GeoPandas!"
   ]
  },
  {
   "cell_type": "markdown",
   "metadata": {},
   "source": [
    "## 12.1 Introduction\n",
    "\n",
    "Interactive maps serve two very important purposes in geospatial analysis. First, they provde new tools for exploratory data analysis. With an interactive map you can:\n",
    "- `pan` over the mapped data, \n",
    "- `zoom` into a smaller arear that is not easily visible when the full extent of the map is displayed, and \n",
    "- `click` on or `hover` over a feature to see more information about it.\n",
    "\n",
    "Second, when saved and shared, interactive maps provide a new tool for communicating the results of your analysis and for inviting your online audience to actively explore your work.\n",
    "\n",
    "For those of you who work with tools like ArcGIS or QGIS, interactive maps also make working in the jupyter notebook environment a bit more like working in a desktop GIS.\n",
    "\n",
    "The goal of this notebook is to show you how to create an interactive map with your geospatial data so that you can better analyze your data and save your output to share with others. \n",
    "\n",
    "After completing this lesson you will be able to create an interactive map like the one shown below."
   ]
  },
  {
   "cell_type": "code",
   "execution_count": 4,
   "metadata": {
    "scrolled": false
   },
   "outputs": [
    {
     "data": {
      "text/html": [
       "<iframe src=\"notebook_data/bartmap_example.html\" width=\"1000\" height=\"600\"></iframe>\n"
      ],
      "text/plain": [
       "<IPython.core.display.HTML object>"
      ]
     },
     "metadata": {},
     "output_type": "display_data"
    }
   ],
   "source": [
    "%%html\n",
    "<iframe src=\"notebook_data/bartmap_example.html\" width=\"1000\" height=\"600\"></iframe>"
   ]
  },
  {
   "cell_type": "markdown",
   "metadata": {},
   "source": [
    "<a id=\"section2\"></a>\n",
    "## 12.2 Interactive Mapping with Folium\n",
    "\n",
    "Under the hood, `folium` is a Python package for creating interactive maps with [Leaflet](https://leafletjs.com), a popular javascript web mapping library.  \n",
    "\n",
    "Let's start by creating a interactive map with the `folium.Map` function and display it in the notebook."
   ]
  },
  {
   "cell_type": "code",
   "execution_count": 5,
   "metadata": {
    "scrolled": false
   },
   "outputs": [
    {
     "data": {
      "text/html": [
       "<div style=\"width:100%;\"><div style=\"position:relative;width:100%;height:0;padding-bottom:60%;\"><span style=\"color:#565656\">Make this Notebook Trusted to load map: File -> Trust Notebook</span><iframe src=\"about:blank\" style=\"position:absolute;width:100%;height:100%;left:0;top:0;border:none !important;\" data-html=%3C%21DOCTYPE%20html%3E%0A%3Chead%3E%20%20%20%20%0A%20%20%20%20%3Cmeta%20http-equiv%3D%22content-type%22%20content%3D%22text/html%3B%20charset%3DUTF-8%22%20/%3E%0A%20%20%20%20%0A%20%20%20%20%20%20%20%20%3Cscript%3E%0A%20%20%20%20%20%20%20%20%20%20%20%20L_NO_TOUCH%20%3D%20false%3B%0A%20%20%20%20%20%20%20%20%20%20%20%20L_DISABLE_3D%20%3D%20false%3B%0A%20%20%20%20%20%20%20%20%3C/script%3E%0A%20%20%20%20%0A%20%20%20%20%3Cstyle%3Ehtml%2C%20body%20%7Bwidth%3A%20100%25%3Bheight%3A%20100%25%3Bmargin%3A%200%3Bpadding%3A%200%3B%7D%3C/style%3E%0A%20%20%20%20%3Cstyle%3E%23map%20%7Bposition%3Aabsolute%3Btop%3A0%3Bbottom%3A0%3Bright%3A0%3Bleft%3A0%3B%7D%3C/style%3E%0A%20%20%20%20%3Cscript%20src%3D%22https%3A//cdn.jsdelivr.net/npm/leaflet%401.6.0/dist/leaflet.js%22%3E%3C/script%3E%0A%20%20%20%20%3Cscript%20src%3D%22https%3A//code.jquery.com/jquery-1.12.4.min.js%22%3E%3C/script%3E%0A%20%20%20%20%3Cscript%20src%3D%22https%3A//maxcdn.bootstrapcdn.com/bootstrap/3.2.0/js/bootstrap.min.js%22%3E%3C/script%3E%0A%20%20%20%20%3Cscript%20src%3D%22https%3A//cdnjs.cloudflare.com/ajax/libs/Leaflet.awesome-markers/2.0.2/leaflet.awesome-markers.js%22%3E%3C/script%3E%0A%20%20%20%20%3Clink%20rel%3D%22stylesheet%22%20href%3D%22https%3A//cdn.jsdelivr.net/npm/leaflet%401.6.0/dist/leaflet.css%22/%3E%0A%20%20%20%20%3Clink%20rel%3D%22stylesheet%22%20href%3D%22https%3A//maxcdn.bootstrapcdn.com/bootstrap/3.2.0/css/bootstrap.min.css%22/%3E%0A%20%20%20%20%3Clink%20rel%3D%22stylesheet%22%20href%3D%22https%3A//maxcdn.bootstrapcdn.com/bootstrap/3.2.0/css/bootstrap-theme.min.css%22/%3E%0A%20%20%20%20%3Clink%20rel%3D%22stylesheet%22%20href%3D%22https%3A//maxcdn.bootstrapcdn.com/font-awesome/4.6.3/css/font-awesome.min.css%22/%3E%0A%20%20%20%20%3Clink%20rel%3D%22stylesheet%22%20href%3D%22https%3A//cdnjs.cloudflare.com/ajax/libs/Leaflet.awesome-markers/2.0.2/leaflet.awesome-markers.css%22/%3E%0A%20%20%20%20%3Clink%20rel%3D%22stylesheet%22%20href%3D%22https%3A//cdn.jsdelivr.net/gh/python-visualization/folium/folium/templates/leaflet.awesome.rotate.min.css%22/%3E%0A%20%20%20%20%0A%20%20%20%20%20%20%20%20%20%20%20%20%3Cmeta%20name%3D%22viewport%22%20content%3D%22width%3Ddevice-width%2C%0A%20%20%20%20%20%20%20%20%20%20%20%20%20%20%20%20initial-scale%3D1.0%2C%20maximum-scale%3D1.0%2C%20user-scalable%3Dno%22%20/%3E%0A%20%20%20%20%20%20%20%20%20%20%20%20%3Cstyle%3E%0A%20%20%20%20%20%20%20%20%20%20%20%20%20%20%20%20%23map_15a9ecb31a5745dd92e712cea6153bbe%20%7B%0A%20%20%20%20%20%20%20%20%20%20%20%20%20%20%20%20%20%20%20%20position%3A%20relative%3B%0A%20%20%20%20%20%20%20%20%20%20%20%20%20%20%20%20%20%20%20%20width%3A%20100.0%25%3B%0A%20%20%20%20%20%20%20%20%20%20%20%20%20%20%20%20%20%20%20%20height%3A%20500.0px%3B%0A%20%20%20%20%20%20%20%20%20%20%20%20%20%20%20%20%20%20%20%20left%3A%200.0%25%3B%0A%20%20%20%20%20%20%20%20%20%20%20%20%20%20%20%20%20%20%20%20top%3A%200.0%25%3B%0A%20%20%20%20%20%20%20%20%20%20%20%20%20%20%20%20%7D%0A%20%20%20%20%20%20%20%20%20%20%20%20%3C/style%3E%0A%20%20%20%20%20%20%20%20%0A%3C/head%3E%0A%3Cbody%3E%20%20%20%20%0A%20%20%20%20%0A%20%20%20%20%20%20%20%20%20%20%20%20%3Cdiv%20class%3D%22folium-map%22%20id%3D%22map_15a9ecb31a5745dd92e712cea6153bbe%22%20%3E%3C/div%3E%0A%20%20%20%20%20%20%20%20%0A%3C/body%3E%0A%3Cscript%3E%20%20%20%20%0A%20%20%20%20%0A%20%20%20%20%20%20%20%20%20%20%20%20var%20map_15a9ecb31a5745dd92e712cea6153bbe%20%3D%20L.map%28%0A%20%20%20%20%20%20%20%20%20%20%20%20%20%20%20%20%22map_15a9ecb31a5745dd92e712cea6153bbe%22%2C%0A%20%20%20%20%20%20%20%20%20%20%20%20%20%20%20%20%7B%0A%20%20%20%20%20%20%20%20%20%20%20%20%20%20%20%20%20%20%20%20center%3A%20%5B37.8721%2C%20-122.2578%5D%2C%0A%20%20%20%20%20%20%20%20%20%20%20%20%20%20%20%20%20%20%20%20crs%3A%20L.CRS.EPSG3857%2C%0A%20%20%20%20%20%20%20%20%20%20%20%20%20%20%20%20%20%20%20%20zoom%3A%2013%2C%0A%20%20%20%20%20%20%20%20%20%20%20%20%20%20%20%20%20%20%20%20zoomControl%3A%20true%2C%0A%20%20%20%20%20%20%20%20%20%20%20%20%20%20%20%20%20%20%20%20preferCanvas%3A%20false%2C%0A%20%20%20%20%20%20%20%20%20%20%20%20%20%20%20%20%7D%0A%20%20%20%20%20%20%20%20%20%20%20%20%29%3B%0A%0A%20%20%20%20%20%20%20%20%20%20%20%20%0A%0A%20%20%20%20%20%20%20%20%0A%20%20%20%20%0A%20%20%20%20%20%20%20%20%20%20%20%20var%20tile_layer_606260eab6c243c5a7cb67cf64f09a11%20%3D%20L.tileLayer%28%0A%20%20%20%20%20%20%20%20%20%20%20%20%20%20%20%20%22https%3A//%7Bs%7D.tile.openstreetmap.org/%7Bz%7D/%7Bx%7D/%7By%7D.png%22%2C%0A%20%20%20%20%20%20%20%20%20%20%20%20%20%20%20%20%7B%22attribution%22%3A%20%22Data%20by%20%5Cu0026copy%3B%20%5Cu003ca%20href%3D%5C%22http%3A//openstreetmap.org%5C%22%5Cu003eOpenStreetMap%5Cu003c/a%5Cu003e%2C%20under%20%5Cu003ca%20href%3D%5C%22http%3A//www.openstreetmap.org/copyright%5C%22%5Cu003eODbL%5Cu003c/a%5Cu003e.%22%2C%20%22detectRetina%22%3A%20false%2C%20%22maxNativeZoom%22%3A%2018%2C%20%22maxZoom%22%3A%2018%2C%20%22minZoom%22%3A%200%2C%20%22noWrap%22%3A%20false%2C%20%22opacity%22%3A%201%2C%20%22subdomains%22%3A%20%22abc%22%2C%20%22tms%22%3A%20false%7D%0A%20%20%20%20%20%20%20%20%20%20%20%20%29.addTo%28map_15a9ecb31a5745dd92e712cea6153bbe%29%3B%0A%20%20%20%20%20%20%20%20%0A%3C/script%3E onload=\"this.contentDocument.open();this.contentDocument.write(    decodeURIComponent(this.getAttribute('data-html')));this.contentDocument.close();\" allowfullscreen webkitallowfullscreen mozallowfullscreen></iframe></div></div>"
      ],
      "text/plain": [
       "<folium.folium.Map at 0x1056fa5b0>"
      ]
     },
     "execution_count": 5,
     "metadata": {},
     "output_type": "execute_result"
    }
   ],
   "source": [
    "# Create a new folium map and save it to the variable name map1\n",
    "map1 = folium.Map(location=[37.8721, -122.2578],   # lat, lon around which to center the map\n",
    "                 width=\"100%\",                     # the width & height of the output map\n",
    "                 height=500,                       # in pixels (int) or in percent of available space (str)\n",
    "                 zoom_start=13)                    # the zoom level for the data to be displayed (3-20)\n",
    "\n",
    "map1  # display the map in the notebook"
   ]
  },
  {
   "cell_type": "markdown",
   "metadata": {},
   "source": [
    "Let's discuss the map above and the code we used to generate it.\n",
    "\n",
    "At any time you can enter the following command to get help with `folium.Map`:\n"
   ]
  },
  {
   "cell_type": "code",
   "execution_count": 6,
   "metadata": {},
   "outputs": [],
   "source": [
    "# uncomment to see help docs\n",
    "?folium.Map"
   ]
  },
  {
   "cell_type": "markdown",
   "metadata": {},
   "source": [
    "Let's make another folium map using the code below:"
   ]
  },
  {
   "cell_type": "code",
   "execution_count": 7,
   "metadata": {},
   "outputs": [],
   "source": [
    "# Create a new folium map and save it to the variable name map1\n",
    "#\n",
    "map1 = folium.Map(location=[37.8721, -122.2578],   # lat, lon around which to center the map\n",
    "                 tiles='CartoDB Positron',\n",
    "                 #width=800,                        # the width & height of the output map\n",
    "                 #height=600,                       # in pixels or in percent of available space\n",
    "                 zoom_start=13)                    # the zoom level for the data to be displayed"
   ]
  },
  {
   "cell_type": "markdown",
   "metadata": {},
   "source": [
    "<div style=\"display:inline-block;vertical-align:top;\">\n",
    "    <img src=\"https://image.flaticon.com/icons/svg/87/87705.svg\" width=\"30\" align=left > \n",
    "</div>  \n",
    "<div style=\"display:inline-block;\">\n",
    "\n",
    "#### Questions\n",
    "</div>\n",
    "\n",
    "- What's new in the code?\n",
    "\n",
    "- How do you think that will change the map?\n",
    "\n",
    "Let's display the map and see what changes..."
   ]
  },
  {
   "cell_type": "code",
   "execution_count": 8,
   "metadata": {},
   "outputs": [
    {
     "data": {
      "text/html": [
       "<div style=\"width:100%;\"><div style=\"position:relative;width:100%;height:0;padding-bottom:60%;\"><span style=\"color:#565656\">Make this Notebook Trusted to load map: File -> Trust Notebook</span><iframe src=\"about:blank\" style=\"position:absolute;width:100%;height:100%;left:0;top:0;border:none !important;\" data-html=%3C%21DOCTYPE%20html%3E%0A%3Chead%3E%20%20%20%20%0A%20%20%20%20%3Cmeta%20http-equiv%3D%22content-type%22%20content%3D%22text/html%3B%20charset%3DUTF-8%22%20/%3E%0A%20%20%20%20%0A%20%20%20%20%20%20%20%20%3Cscript%3E%0A%20%20%20%20%20%20%20%20%20%20%20%20L_NO_TOUCH%20%3D%20false%3B%0A%20%20%20%20%20%20%20%20%20%20%20%20L_DISABLE_3D%20%3D%20false%3B%0A%20%20%20%20%20%20%20%20%3C/script%3E%0A%20%20%20%20%0A%20%20%20%20%3Cstyle%3Ehtml%2C%20body%20%7Bwidth%3A%20100%25%3Bheight%3A%20100%25%3Bmargin%3A%200%3Bpadding%3A%200%3B%7D%3C/style%3E%0A%20%20%20%20%3Cstyle%3E%23map%20%7Bposition%3Aabsolute%3Btop%3A0%3Bbottom%3A0%3Bright%3A0%3Bleft%3A0%3B%7D%3C/style%3E%0A%20%20%20%20%3Cscript%20src%3D%22https%3A//cdn.jsdelivr.net/npm/leaflet%401.6.0/dist/leaflet.js%22%3E%3C/script%3E%0A%20%20%20%20%3Cscript%20src%3D%22https%3A//code.jquery.com/jquery-1.12.4.min.js%22%3E%3C/script%3E%0A%20%20%20%20%3Cscript%20src%3D%22https%3A//maxcdn.bootstrapcdn.com/bootstrap/3.2.0/js/bootstrap.min.js%22%3E%3C/script%3E%0A%20%20%20%20%3Cscript%20src%3D%22https%3A//cdnjs.cloudflare.com/ajax/libs/Leaflet.awesome-markers/2.0.2/leaflet.awesome-markers.js%22%3E%3C/script%3E%0A%20%20%20%20%3Clink%20rel%3D%22stylesheet%22%20href%3D%22https%3A//cdn.jsdelivr.net/npm/leaflet%401.6.0/dist/leaflet.css%22/%3E%0A%20%20%20%20%3Clink%20rel%3D%22stylesheet%22%20href%3D%22https%3A//maxcdn.bootstrapcdn.com/bootstrap/3.2.0/css/bootstrap.min.css%22/%3E%0A%20%20%20%20%3Clink%20rel%3D%22stylesheet%22%20href%3D%22https%3A//maxcdn.bootstrapcdn.com/bootstrap/3.2.0/css/bootstrap-theme.min.css%22/%3E%0A%20%20%20%20%3Clink%20rel%3D%22stylesheet%22%20href%3D%22https%3A//maxcdn.bootstrapcdn.com/font-awesome/4.6.3/css/font-awesome.min.css%22/%3E%0A%20%20%20%20%3Clink%20rel%3D%22stylesheet%22%20href%3D%22https%3A//cdnjs.cloudflare.com/ajax/libs/Leaflet.awesome-markers/2.0.2/leaflet.awesome-markers.css%22/%3E%0A%20%20%20%20%3Clink%20rel%3D%22stylesheet%22%20href%3D%22https%3A//cdn.jsdelivr.net/gh/python-visualization/folium/folium/templates/leaflet.awesome.rotate.min.css%22/%3E%0A%20%20%20%20%0A%20%20%20%20%20%20%20%20%20%20%20%20%3Cmeta%20name%3D%22viewport%22%20content%3D%22width%3Ddevice-width%2C%0A%20%20%20%20%20%20%20%20%20%20%20%20%20%20%20%20initial-scale%3D1.0%2C%20maximum-scale%3D1.0%2C%20user-scalable%3Dno%22%20/%3E%0A%20%20%20%20%20%20%20%20%20%20%20%20%3Cstyle%3E%0A%20%20%20%20%20%20%20%20%20%20%20%20%20%20%20%20%23map_014f515116ff4152b8dc85ea2ace0888%20%7B%0A%20%20%20%20%20%20%20%20%20%20%20%20%20%20%20%20%20%20%20%20position%3A%20relative%3B%0A%20%20%20%20%20%20%20%20%20%20%20%20%20%20%20%20%20%20%20%20width%3A%20100.0%25%3B%0A%20%20%20%20%20%20%20%20%20%20%20%20%20%20%20%20%20%20%20%20height%3A%20100.0%25%3B%0A%20%20%20%20%20%20%20%20%20%20%20%20%20%20%20%20%20%20%20%20left%3A%200.0%25%3B%0A%20%20%20%20%20%20%20%20%20%20%20%20%20%20%20%20%20%20%20%20top%3A%200.0%25%3B%0A%20%20%20%20%20%20%20%20%20%20%20%20%20%20%20%20%7D%0A%20%20%20%20%20%20%20%20%20%20%20%20%3C/style%3E%0A%20%20%20%20%20%20%20%20%0A%3C/head%3E%0A%3Cbody%3E%20%20%20%20%0A%20%20%20%20%0A%20%20%20%20%20%20%20%20%20%20%20%20%3Cdiv%20class%3D%22folium-map%22%20id%3D%22map_014f515116ff4152b8dc85ea2ace0888%22%20%3E%3C/div%3E%0A%20%20%20%20%20%20%20%20%0A%3C/body%3E%0A%3Cscript%3E%20%20%20%20%0A%20%20%20%20%0A%20%20%20%20%20%20%20%20%20%20%20%20var%20map_014f515116ff4152b8dc85ea2ace0888%20%3D%20L.map%28%0A%20%20%20%20%20%20%20%20%20%20%20%20%20%20%20%20%22map_014f515116ff4152b8dc85ea2ace0888%22%2C%0A%20%20%20%20%20%20%20%20%20%20%20%20%20%20%20%20%7B%0A%20%20%20%20%20%20%20%20%20%20%20%20%20%20%20%20%20%20%20%20center%3A%20%5B37.8721%2C%20-122.2578%5D%2C%0A%20%20%20%20%20%20%20%20%20%20%20%20%20%20%20%20%20%20%20%20crs%3A%20L.CRS.EPSG3857%2C%0A%20%20%20%20%20%20%20%20%20%20%20%20%20%20%20%20%20%20%20%20zoom%3A%2013%2C%0A%20%20%20%20%20%20%20%20%20%20%20%20%20%20%20%20%20%20%20%20zoomControl%3A%20true%2C%0A%20%20%20%20%20%20%20%20%20%20%20%20%20%20%20%20%20%20%20%20preferCanvas%3A%20false%2C%0A%20%20%20%20%20%20%20%20%20%20%20%20%20%20%20%20%7D%0A%20%20%20%20%20%20%20%20%20%20%20%20%29%3B%0A%0A%20%20%20%20%20%20%20%20%20%20%20%20%0A%0A%20%20%20%20%20%20%20%20%0A%20%20%20%20%0A%20%20%20%20%20%20%20%20%20%20%20%20var%20tile_layer_9ff925e777434e27b3e232909fb19a45%20%3D%20L.tileLayer%28%0A%20%20%20%20%20%20%20%20%20%20%20%20%20%20%20%20%22https%3A//cartodb-basemaps-%7Bs%7D.global.ssl.fastly.net/light_all/%7Bz%7D/%7Bx%7D/%7By%7D.png%22%2C%0A%20%20%20%20%20%20%20%20%20%20%20%20%20%20%20%20%7B%22attribution%22%3A%20%22%5Cu0026copy%3B%20%5Cu003ca%20href%3D%5C%22http%3A//www.openstreetmap.org/copyright%5C%22%5Cu003eOpenStreetMap%5Cu003c/a%5Cu003e%20contributors%20%5Cu0026copy%3B%20%5Cu003ca%20href%3D%5C%22http%3A//cartodb.com/attributions%5C%22%5Cu003eCartoDB%5Cu003c/a%5Cu003e%2C%20CartoDB%20%5Cu003ca%20href%20%3D%5C%22http%3A//cartodb.com/attributions%5C%22%5Cu003eattributions%5Cu003c/a%5Cu003e%22%2C%20%22detectRetina%22%3A%20false%2C%20%22maxNativeZoom%22%3A%2018%2C%20%22maxZoom%22%3A%2018%2C%20%22minZoom%22%3A%200%2C%20%22noWrap%22%3A%20false%2C%20%22opacity%22%3A%201%2C%20%22subdomains%22%3A%20%22abc%22%2C%20%22tms%22%3A%20false%7D%0A%20%20%20%20%20%20%20%20%20%20%20%20%29.addTo%28map_014f515116ff4152b8dc85ea2ace0888%29%3B%0A%20%20%20%20%20%20%20%20%0A%3C/script%3E onload=\"this.contentDocument.open();this.contentDocument.write(    decodeURIComponent(this.getAttribute('data-html')));this.contentDocument.close();\" allowfullscreen webkitallowfullscreen mozallowfullscreen></iframe></div></div>"
      ],
      "text/plain": [
       "<folium.folium.Map at 0x160818f40>"
      ]
     },
     "execution_count": 8,
     "metadata": {},
     "output_type": "execute_result"
    }
   ],
   "source": [
    "map1  # display map in notebook"
   ]
  },
  {
   "cell_type": "markdown",
   "metadata": {},
   "source": [
    "Notice how the map changes when you change the underlying **tileset** from the default, which is `OpenStreetMap`, to `CartoDB Positron`. \n",
    "> [OpenStreetMap](https://www.openstreetmap.org/#map=5/38.007/-95.844) is the largest free and open source dataset of geographic information about the world. So it is the default basemap for a lot of mapping tools and libraries.\n",
    "\n",
    "- You can find a list of the available tilesets you can use in the help documentation (`folium.Map?`), a snippet of which is shown below:\n",
    "\n",
    "<pre>\n",
    "Generate a base map of given width and height with either default\n",
    "tilesets or a custom tileset URL. The following tilesets are built-in\n",
    "to Folium. Pass any of the following to the \"tiles\" keyword:\n",
    "\n",
    "    - \"OpenStreetMap\"\n",
    "    - \"Mapbox Bright\" (Limited levels of zoom for free tiles)\n",
    "    - \"Mapbox Control Room\" (Limited levels of zoom for free tiles)\n",
    "    - \"Stamen\" (Terrain, Toner, and Watercolor)\n",
    "    - \"Cloudmade\" (Must pass API key)\n",
    "    - \"Mapbox\" (Must pass API key)\n",
    "    - \"CartoDB\" (positron and dark_matter)\n",
    "</pre>\n",
    "\n",
    "\n",
    "#### Exercise\n",
    "\n",
    "Take a few minutes to try some of the different tilesets in the code below and see how they change the output map. *Avoid the ones that don't require an API key*."
   ]
  },
  {
   "cell_type": "code",
   "execution_count": null,
   "metadata": {},
   "outputs": [],
   "source": [
    "# Make changes to the code below to change the folium Map\n",
    "## Try changing the values for the zoom_start and tiles parameters.\n",
    "map1 = folium.Map(location=[37.8721, -122.2578],   # lat, lon around which to center the map\n",
    "                 tiles='Stamen Watercolor',         # basemap aka baselay or tile set\n",
    "                 width=800,                        # the width & height of the output map\n",
    "                 height=500,                       # in pixels or percent of available space\n",
    "                 zoom_start=13)                    # the zoom level for the data to be displayed\n",
    "\n",
    "#display the map\n",
    "map1"
   ]
  },
  {
   "cell_type": "markdown",
   "metadata": {},
   "source": [
    "<a id=\"section3\"></a>\n",
    "## 12.3 Adding a Map Layer"
   ]
  },
  {
   "cell_type": "markdown",
   "metadata": {},
   "source": [
    "Now that we have created a folium map, let's add our California County data to the map. \n",
    "\n",
    "First, let's read that data into a Geopandas geodataframe."
   ]
  },
  {
   "cell_type": "code",
   "execution_count": null,
   "metadata": {},
   "outputs": [],
   "source": [
    "# Alameda county census tract data with the associated ACS 5yr variables.\n",
    "ca_counties_gdf = gpd.read_file(\"notebook_data/california_counties/CaliforniaCounties.shp\")"
   ]
  },
  {
   "cell_type": "markdown",
   "metadata": {},
   "source": [
    "Take another brief look at the geodataframe to recall the contents."
   ]
  },
  {
   "cell_type": "code",
   "execution_count": null,
   "metadata": {},
   "outputs": [],
   "source": [
    "# take a look at first two rows\n",
    "ca_counties_gdf.head(2)"
   ]
  },
  {
   "cell_type": "code",
   "execution_count": null,
   "metadata": {},
   "outputs": [],
   "source": [
    "# take a look at all column names\n",
    "ca_counties_gdf.columns"
   ]
  },
  {
   "cell_type": "markdown",
   "metadata": {},
   "source": [
    "### Adding a layer with folium.GeoJson\n",
    "\n",
    "Folium provides a number of ways to add vector data - points, lines, and polygons - to a map. \n",
    "\n",
    "The data we are working with are in Geopandas geodataframes. The main folium function for adding these to the map is `folium.GeoJson`.\n",
    "\n",
    "Let's build on our last map and add the census tracts as a `folium.GeoJson` layer. "
   ]
  },
  {
   "cell_type": "code",
   "execution_count": null,
   "metadata": {
    "scrolled": true
   },
   "outputs": [],
   "source": [
    "map1 = folium.Map(location=[37.8721, -122.2578],   # lat, lon around which to center the map\n",
    "                 tiles='CartoDB positron',         # basemap aka baselay or tile set\n",
    "                 width=800,                       # the width & height of the output map\n",
    "                 height=600,                      # in pixels or in percent of available space\n",
    "                 zoom_start=6)                    # the zoom level for the data to be displayed\n",
    "\n",
    "# Add the census tracts to the map\n",
    "folium.GeoJson(ca_counties_gdf).add_to(map1)\n",
    "\n",
    "#display the map\n",
    "map1"
   ]
  },
  {
   "cell_type": "markdown",
   "metadata": {},
   "source": [
    "That was pretty straight-forward, but `folium.GeoJSON` provides a lot of arguments for customizing the display of the data in the map. We will review some of these soon. However, at any time you can get more information about `folium.GeoJSON` by taking a look at the function documentation."
   ]
  },
  {
   "cell_type": "code",
   "execution_count": null,
   "metadata": {},
   "outputs": [],
   "source": [
    "# Uncomment to view documentation\n",
    "# folium.GeoJson?"
   ]
  },
  {
   "cell_type": "markdown",
   "metadata": {},
   "source": [
    "### Checking and Transforming the CRS\n",
    "\n",
    "It's always a good idea to check the **CRS** of your geodata before doing anything with that data. This is true when we use `folium` to make an interactive map. \n",
    "\n",
    "Here is how folium deals with the CRS of a geodataframe before mapping it:\n",
    "- Folium checks to see if the gdf has a defined CRS\n",
    "  - If the CRS is not defined, it assumes the data to be in the WGS84 CRS (epsg=4326).\n",
    "  - If the CRS is defined, it will be transformed dynamically to WGS84 before mapping.\n",
    "\n",
    "\n",
    "So, if your map data doesn't show up where at all or where you think it should, check the CRS of your data!\n",
    "- If it is not defined, define it.\n",
    "\n",
    "<div style=\"display:inline-block;vertical-align:top;\">\n",
    "    <img src=\"https://image.flaticon.com/icons/svg/87/87705.svg\" width=\"30\" align=left > \n",
    "</div>  \n",
    "<div style=\"display:inline-block;\">\n",
    "\n",
    "#### Questions\n",
    "</div>\n",
    "\n",
    "- What is the CRS of the tract data?\n",
    "- How is folium dealing with the CRS of this gdf?"
   ]
  },
  {
   "cell_type": "code",
   "execution_count": null,
   "metadata": {},
   "outputs": [],
   "source": [
    "# Check the CRS of the data \n",
    "print(...)"
   ]
  },
  {
   "cell_type": "markdown",
   "metadata": {},
   "source": [
    "*Click here for answers*\n",
    "\n",
    "<!---\n",
    "# What is the CRS of the tract data?\n",
    "tracts_gdf.crs\n",
    "\n",
    "# How is folium dealing with the CRS of this gdf?\n",
    "# Dynamically transformed to WGS84 (but it already is in that projection so no change)\n",
    "--->"
   ]
  },
  {
   "cell_type": "markdown",
   "metadata": {},
   "source": [
    "### Styling features with `folium.GeoJson`\n",
    "\n",
    "Let's dive deeper into the `folium.GeoJson` function. Below is an excerpt from the help documentation for the function that shows all the available function arguments that we can set.\n",
    "\n",
    "<div style=\"display:inline-block;vertical-align:top;\">\n",
    "    <img src=\"http://www.pngall.com/wp-content/uploads/2016/03/Light-Bulb-Free-PNG-Image.png\" width=\"20\" align=left > \n",
    "</div>  \n",
    "<div style=\"display:inline-block;\">\n",
    "\n",
    "#### Question\n",
    "</div>\n",
    "What argument do we use to style the color for our polygons?\n",
    "\n",
    "<pre>\n",
    "folium.GeoJson(\n",
    "    data,\n",
    "    style_function=None,\n",
    "    highlight_function=None,\n",
    "    name=None,\n",
    "    overlay=True,\n",
    "    control=True,\n",
    "    show=True,\n",
    "    smooth_factor=None,\n",
    "    tooltip=None,\n",
    "    embed=True,\n",
    ")\n",
    "</pre>"
   ]
  },
  {
   "cell_type": "markdown",
   "metadata": {},
   "source": [
    "Let's examine the options for the `style_function` in more detail since we will use these to change the style of our mapped data.\n",
    "\n",
    "\n",
    "`style_function = lambda x: {` apply to all features being mapped (ie, all rows in the geodataframe)  \n",
    "`'weight': line_weight,` set the thickness of a line or polyline where <1 is thin, >1 thick, 1 = default  \n",
    "`'opacity': line_opacity,` set opacity where 1 is solid, 0.5 is semi-opaque and 0 is transparent  \n",
    "`'color': line_color` set the color of the line, eg \"red\" or some hexidecimal color value\n",
    "`'fillOpacity': opacity,` set opacity of the fill of a polygon  \n",
    "`'fillColor': color` set color of the fill of a polygon  \n",
    "`'dashArray': '5, 5'` set line pattern to a dash of 5 pixels on, off  \n",
    "`}`\n",
    "\n",
    "\n",
    "\n",
    "Ok! Let's try setting the style of our census tract by defining a style function."
   ]
  },
  {
   "cell_type": "code",
   "execution_count": null,
   "metadata": {},
   "outputs": [],
   "source": [
    "# Define the basemap\n",
    "map1 = folium.Map(location=[37.8721, -122.2578],           # lat, lon around which to center the map\n",
    "                 tiles='CartoDB Positron',\n",
    "                 width=1000,                       # the width & height of the output map\n",
    "                 height=600,                       # in pixels\n",
    "                 zoom_start=6)                    # the zoom level for the data to be displayed\n",
    "\n",
    "# Add  the census tracts gdf layer\n",
    "# setting the style of the data\n",
    "folium.GeoJson(ca_counties_gdf,\n",
    "               style_function = lambda x: {\n",
    "                   'weight':2,\n",
    "                   'color':\"white\",\n",
    "                   'opacity':1,\n",
    "                   'fillColor':\"red\",\n",
    "                   'fillOpacity':0.6\n",
    "               }\n",
    "              ).add_to(map1)\n",
    "\n",
    "\n",
    "map1"
   ]
  },
  {
   "cell_type": "markdown",
   "metadata": {},
   "source": [
    "#### Exercise\n",
    "Copy the code from our last map and paste it below. Take a few minutes edit the code to change the style of the census tract polygons.\n"
   ]
  },
  {
   "cell_type": "code",
   "execution_count": null,
   "metadata": {},
   "outputs": [],
   "source": [
    "# Your code here\n",
    "map1 = folium.Map(location=[37.8721, -122.2578],           # lat, lon around which to center the map\n",
    "                 tiles='Stamen Watercolor',\n",
    "                 width=1000,                       # the width & height of the output map\n",
    "                 height=600,                       # in pixels\n",
    "                 zoom_start=10)                    # the zoom level for the data to be displayed\n",
    "\n",
    "# Add  the census tracts gdf layer\n",
    "# setting the style of the data\n",
    "folium.GeoJson(ca_counties_gdf,\n",
    "               style_function = lambda x: {\n",
    "                   'weight':3,\n",
    "                   'color':\"black\",\n",
    "                   'opacity':1,\n",
    "                   'fillColor':\"none\",\n",
    "                   'fillOpacity':0.6\n",
    "               }\n",
    "              ).add_to(map1)\n",
    "\n",
    "\n",
    "map1"
   ]
  },
  {
   "cell_type": "markdown",
   "metadata": {},
   "source": [
    "### Adding a Tooltip\n",
    "\n",
    "A `tooltip` can be added to a folium.GeoJson map layer to display data values when the mouse hovers over a feature.\n"
   ]
  },
  {
   "cell_type": "code",
   "execution_count": null,
   "metadata": {},
   "outputs": [],
   "source": [
    "# Double check what columns we have\n",
    "ca_counties_gdf.columns"
   ]
  },
  {
   "cell_type": "code",
   "execution_count": null,
   "metadata": {},
   "outputs": [],
   "source": [
    "?folium.GeoJsonTooltip"
   ]
  },
  {
   "cell_type": "code",
   "execution_count": null,
   "metadata": {},
   "outputs": [],
   "source": [
    "# Define the basemap\n",
    "map1 = folium.Map(location=[37.8721, -122.2578],           # lat, lon around which to center the map\n",
    "                 tiles='CartoDB Positron',\n",
    "                 width=1000,                       # the width & height of the output map\n",
    "                 height=600,                       # in pixels\n",
    "                 zoom_start=6)                    # the zoom level for the data to be displayed\n",
    "\n",
    "# Add  the census tracts gdf layer\n",
    "folium.GeoJson(ca_counties_gdf,\n",
    "               style_function = lambda x: {\n",
    "                   'weight':2,\n",
    "                   'color':\"white\",\n",
    "                   'opacity':1,\n",
    "                   'fillColor':\"red\",\n",
    "                   'fillOpacity':0.6\n",
    "               },\n",
    "               \n",
    "               tooltip=folium.GeoJsonTooltip(\n",
    "                   fields=['NAME','POP2012','POP12_SQMI' ], \n",
    "                   aliases=['County', 'Population', 'Population Density (mi2)'],\n",
    "                   labels=True,\n",
    "                   localize=True\n",
    "               ),\n",
    "              ).add_to(map1)\n",
    "\n",
    "\n",
    "map1"
   ]
  },
  {
   "cell_type": "markdown",
   "metadata": {},
   "source": [
    "As always, you can get more help by reading the documentation."
   ]
  },
  {
   "cell_type": "code",
   "execution_count": null,
   "metadata": {},
   "outputs": [],
   "source": [
    "# Uncomment to view help\n",
    "#folium.GeoJsonTooltip?"
   ]
  },
  {
   "cell_type": "markdown",
   "metadata": {},
   "source": [
    "#### Exercise\n",
    "\n",
    "Edit the code in the cell below to `add` the median age(`MED_AGE`) to the tooltip."
   ]
  },
  {
   "cell_type": "code",
   "execution_count": null,
   "metadata": {},
   "outputs": [],
   "source": [
    "# Define the basemap\n",
    "map1 = folium.Map(location=[37.8721, -122.2578],           # lat, lon around which to center the map\n",
    "                 tiles='CartoDB Positron',\n",
    "                 width=1000,                       # the width & height of the output map\n",
    "                 height=600,                       # in pixels\n",
    "                 zoom_start=6)                    # the zoom level for the data to be displayed\n",
    "\n",
    "# Add  the census tracts gdf layer\n",
    "folium.GeoJson(ca_counties_gdf,\n",
    "               style_function = lambda x: {\n",
    "                   'weight':2,\n",
    "                   'color':\"white\",\n",
    "                   'opacity':1,\n",
    "                   'fillColor':\"red\",\n",
    "                   'fillOpacity':0.6\n",
    "               },\n",
    "               \n",
    "               tooltip=folium.GeoJsonTooltip(\n",
    "                   fields=['NAME','POP2012','POP12_SQMI','MED_AGE' ], \n",
    "                   aliases=['County', 'Population', 'Population Density (mi2)', 'Median Age'],\n",
    "                   labels=True,\n",
    "                   localize=True\n",
    "               ),\n",
    "              ).add_to(map1)\n",
    "\n",
    "\n",
    "map1"
   ]
  },
  {
   "cell_type": "markdown",
   "metadata": {},
   "source": [
    "*Click here for answers*\n",
    "\n",
    "<!---\n",
    "# Define the basemap\n",
    "map1 = folium.Map(location=[37.8721, -122.2578],           # lat, lon around which to center the map\n",
    "                 tiles='CartoDB Positron',\n",
    "                 width=1000,                       # the width & height of the output map\n",
    "                 height=600,                       # in pixels\n",
    "                 zoom_start=6)                    # the zoom level for the data to be displayed\n",
    "\n",
    "# Add  the census tracts gdf layer\n",
    "folium.GeoJson(ca_counties_gdf,\n",
    "               style_function = lambda x: {\n",
    "                   'weight':2,\n",
    "                   'color':\"white\",\n",
    "                   'opacity':1,\n",
    "                   'fillColor':\"red\",\n",
    "                   'fillOpacity':0.6\n",
    "               },\n",
    "               \n",
    "               tooltip=folium.GeoJsonTooltip(\n",
    "                   fields=['FID_','POP2012','POP12_SQMI','MED_AGE' ], \n",
    "                   aliases=['County ID', 'Population', 'Population Density (mi2)', 'Median Age'],\n",
    "                   labels=True,\n",
    "                   localize=True\n",
    "               ),\n",
    "              ).add_to(map1)\n",
    "\n",
    "\n",
    "map1\n",
    "--->"
   ]
  },
  {
   "cell_type": "markdown",
   "metadata": {},
   "source": [
    "<a id=\"section4\"></a>\n",
    "## 12.4 Data Mapping\n",
    "\n",
    "Above, we set the style for all of the census tracts to the same fill and outline colors and opacity values. \n",
    "\n",
    "Let's take a look at how we would use the `data values` to set the color values for the polygons. This is called a `choropleth` map or, more generally, a `thematic map`.\n",
    "\n",
    "The `folium.Choropleth` function can be used for this."
   ]
  },
  {
   "cell_type": "code",
   "execution_count": null,
   "metadata": {},
   "outputs": [],
   "source": [
    "# Uncomment to view help docs\n",
    "## folium.Choropleth?"
   ]
  },
  {
   "cell_type": "markdown",
   "metadata": {},
   "source": [
    "With `folium.Choropleth`, we will use some of the same style parameters that we used with `folium.GeoJson`.\n",
    "\n",
    "We will also use some new parameters, as shown below.\n",
    "\n",
    "First, let's take a look at the data we will map to refresh our knowledge."
   ]
  },
  {
   "cell_type": "code",
   "execution_count": null,
   "metadata": {},
   "outputs": [],
   "source": [
    "print(ca_counties_gdf.columns)\n",
    "ca_counties_gdf.head(2)"
   ]
  },
  {
   "cell_type": "markdown",
   "metadata": {},
   "source": [
    "Now let's create a choropleth map of total population, which is in the `c_race` column."
   ]
  },
  {
   "cell_type": "code",
   "execution_count": null,
   "metadata": {},
   "outputs": [],
   "source": [
    "ca_counties_gdf.head()"
   ]
  },
  {
   "cell_type": "code",
   "execution_count": null,
   "metadata": {
    "scrolled": false
   },
   "outputs": [],
   "source": [
    "# Define the basemap\n",
    "map2 = folium.Map(location=[37.8721, -122.2578],           # lat, lon around which to center the map\n",
    "                 tiles='CartoDB Positron',\n",
    "                 width=1000,                       # the width & height of the output map\n",
    "                 height=600,                       # in pixels\n",
    "                 zoom_start=6)                    # the zoom level for the data to be displayed\n",
    "\n",
    "\n",
    "# Add the Choropleth layer\n",
    "folium.Choropleth(geo_data=ca_counties_gdf.set_index('NAME'),   # The object with the geospatial data\n",
    "           data=ca_counties_gdf,                                 # The object with the attribute data (can be same)\n",
    "           columns=['NAME','POP2012'],                      # the ID and data columns in the data objects\n",
    "           key_on=\"feature.id\",                             # the ID in the geo_data object (don't change)\n",
    "           fill_color=\"Reds\",                               # The color palette (or color map) - see help\n",
    "           fill_opacity=0.65,\n",
    "           line_color=\"grey\",\n",
    "           legend=True,\n",
    "           legend_name=\"Population\",\n",
    "          ).add_to(map2)\n",
    "\n",
    "# Display the map\n",
    "map2  "
   ]
  },
  {
   "cell_type": "markdown",
   "metadata": {},
   "source": [
    "### Choropleth Mapping with Folium - discussion\n",
    "\n",
    "Let's discuss the following lines from the code above in more detail.\n",
    "\n",
    "<pre>\n",
    "# Add the Choropleth layer\n",
    "folium.Choropleth(geo_data=ca_counties_gdf.set_index('NAME'),\n",
    "           data=ca_counties_gdf, \n",
    "           columns=['NAME','POP2012'],\n",
    "           key_on=\"feature.id\",\n",
    "           fill_color=\"Reds\",                               \n",
    "           ...)\n",
    "\n",
    "\n",
    "</pre>\n",
    "\n",
    "`geo_data` and the `data`: we need to identify the objects that contains both because they could be different objects. In our example they are in the same object.\n",
    "\n",
    "`ca_counties_gdf.set_index('NAME')`: We need to **set_index('NAME')** in order to identify the column in `geo_data` that will be used to `join` the geometries in the `geo_data` to the data values in `data`.\n",
    "\n",
    "`columns=['NAME','POP2012']`: we identify in `data` (1) the column that will join these `data` to  `geo_data` and (2) the second column is the column with the values that will determine the color.\n",
    "\n",
    "`fill_color=\"Reds\":` Here we identify the name of the color palette that we will use to style the polygons. These will be the same as the `matplotlib` colormaps.\n"
   ]
  },
  {
   "cell_type": "markdown",
   "metadata": {},
   "source": [
    "#### Question\n",
    "Recall our discussion about best practices for choropleth maps. Is population count an appropriate variable to plot as a choropleth? "
   ]
  },
  {
   "cell_type": "code",
   "execution_count": null,
   "metadata": {},
   "outputs": [],
   "source": [
    "# Write your thoughts here"
   ]
  },
  {
   "cell_type": "markdown",
   "metadata": {},
   "source": [
    "#### Exercise\n",
    "\n",
    "Copy and paste the code from above into the cell below to create a choropleth map of population density (`POP12_SQMI`).\n",
    "\n",
    "Feel free to experiment with any of the `folium.Choropleth` style parameters, especially the `fill_color` which needs to be one of the `color brewer palettes` listed below:\n",
    "\n",
    "<pre>\n",
    "fill_color: string, default 'blue'\n",
    "    Area fill color. Can pass a hex code, color name, or if you are\n",
    "    binding data, one of the following color brewer palettes:\n",
    "    'BuGn', 'BuPu', 'GnBu', 'OrRd', 'PuBu', 'PuBuGn', 'PuRd', 'RdPu',\n",
    "    'YlGn', 'YlGnBu', 'YlOrBr', and 'YlOrRd'.\n",
    "</pre>"
   ]
  },
  {
   "cell_type": "code",
   "execution_count": null,
   "metadata": {},
   "outputs": [],
   "source": [
    "# Your code here\n",
    "# Define the basemap\n",
    "map2 = folium.Map(location=[37.7749, -122.4194],           # lat, lon around which to center the map\n",
    "                 tiles='Stamen Toner',\n",
    "                 width=1000,                       # the width & height of the output map\n",
    "                 height=600,                       # in pixels\n",
    "                 zoom_start=10)                    # the zoom level for the data to be displayed\n",
    "\n",
    "\n",
    "# Add the Choropleth layer \n",
    "folium.Choropleth(geo_data=ca_counties_gdf.set_index('NAME'),   # The object with the geospatial data\n",
    "           data=ca_counties_gdf,                                 # The object with the attribute data (can be same)\n",
    "           columns=['NAME','POP12_SQMI'],                      # the ID and data columns in the data objects\n",
    "           key_on=\"feature.id\",                             # the ID in the geo_data object (don't change)\n",
    "           fill_color=\"RdPu\",                               # The color palette (or color map) - see help\n",
    "           fill_opacity=0.8).add_to(map2)\n",
    "\n",
    "map2"
   ]
  },
  {
   "cell_type": "markdown",
   "metadata": {},
   "source": [
    "*Click here for answers*\n",
    "\n",
    "<!---\n",
    "    # SOLUTION\n",
    "    # Get our map center\n",
    "    ctrX = (tracts_gdf.total_bounds[0] + tracts_gdf.total_bounds[2])/2\n",
    "    ctrY = (tracts_gdf.total_bounds[1] + tracts_gdf.total_bounds[3])/2\n",
    "\n",
    "    # Create our base map\n",
    "    map2 = folium.Map(location=[ctrY, ctrX], \n",
    "                      tiles='CartoDB Positron',\n",
    "                      width=800,height=600,\n",
    "                      zoom_start=10)\n",
    "\n",
    "    # Add the Choropleth layer\n",
    "    folium.Choropleth(geo_data=tracts_gdf.set_index('GEOID'), \n",
    "               data=tracts_gdf,\n",
    "               columns=['GEOID','pop_dens_km2'],\n",
    "               key_on=\"feature.id\",\n",
    "               fill_color=\"PuBu\",\n",
    "               fill_opacity=0.65,\n",
    "               line_color=\"grey\",\n",
    "               legend=True,\n",
    "               legend_name=\"Population Density per km2\",\n",
    "              ).add_to(map2)\n",
    "\n",
    "    # Display \n",
    "    map2\n",
    "--->"
   ]
  },
  {
   "cell_type": "markdown",
   "metadata": {},
   "source": [
    "### Choropleth Maps with Tooltips\n",
    "\n",
    "You can add a `tooltip` to a folium.Choropleth map but the process is not straigthforward. The `folium.Choropleth` function does not have a tooltip argument the way `folium.GeoJson` does.\n",
    "\n",
    "The workaround is to add the layer as both a `folium.Choropleth` layer and as a `folium.GeoJson` layer and bind the tooltip to the GeoJson layer.\n",
    "\n",
    "Let's check it out below."
   ]
  },
  {
   "cell_type": "code",
   "execution_count": null,
   "metadata": {},
   "outputs": [],
   "source": [
    "# Define the basemap\n",
    "map3 = folium.Map(location=[37.8721, -122.2578],           # lat, lon around which to center the map\n",
    "                 tiles='CartoDB Positron',\n",
    "                 width=1000,                       # the width & height of the output map\n",
    "                 height=600,                       # in pixels\n",
    "                 zoom_start=6)                    # the zoom level for the data to be displayed\n",
    "\n",
    "\n",
    "# Add the Choropleth layer\n",
    "folium.Choropleth(geo_data=ca_counties_gdf.set_index('NAME'),   # The object with the geospatial data\n",
    "           data=ca_counties_gdf,                                 # The object with the attribute data (can be same)\n",
    "           columns=['NAME','POP2012'],                      # the ID and data columns in the data objects\n",
    "           key_on=\"feature.id\",                             # the ID in the geo_data object (don't change)\n",
    "           fill_color=\"Reds\",                               # The color palette (or color map) - see help\n",
    "           fill_opacity=0.65,\n",
    "           line_color=\"grey\",\n",
    "           legend=True,\n",
    "           legend_name=\"Population\",\n",
    "          ).add_to(map3)\n",
    "\n",
    "# ADD the same geodataframe to the map to display a tooltip\n",
    "layer2 = folium.GeoJson(ca_counties_gdf,\n",
    "    style_function=lambda x: {'color':'transparent','fillColor':'transparent'},\n",
    "    tooltip=folium.GeoJsonTooltip(\n",
    "        fields=['NAME','POP2012'], \n",
    "        aliases=['County', 'Population'],\n",
    "        labels=True,\n",
    "        localize=True\n",
    "    ),\n",
    "    highlight_function=lambda x: {'weight':3,'color':'white'}\n",
    ").add_to(map3)\n",
    "\n",
    "\n",
    "\n",
    "map3  # show map"
   ]
  },
  {
   "cell_type": "markdown",
   "metadata": {},
   "source": [
    "#### Question  \n",
    "Do you notice anything different about the `style_function` for layer2 above?"
   ]
  },
  {
   "cell_type": "markdown",
   "metadata": {},
   "source": [
    "#### Exercise\n",
    "Redo the above choropleth map code to map population density. Add both population and population density to the tooltip. Don't forget to update the legend name."
   ]
  },
  {
   "cell_type": "code",
   "execution_count": null,
   "metadata": {},
   "outputs": [],
   "source": [
    "# Your code here"
   ]
  },
  {
   "cell_type": "markdown",
   "metadata": {},
   "source": [
    "<a id=\"section5\"></a>\n",
    "## 12.5 Overlays\n",
    "\n",
    "We can overlay other geospatial data on our folium maps.\n",
    "\n",
    "Let's say we want to focus the previous choropleth map with tooltips (`map3`) on the City of Berkeley. We can fetch the border of the city from our census Places dataset. These data can be downloaded from the Census website. We use the cartographic boundary files not the TIGER line files as these look better on a map (clipped to shoreline).  \n",
    "\n",
    "Specifically, we will fetch the city boundaries from the following census cartographic boundary file:\n",
    "\n",
    "- https://www2.census.gov/geo/tiger/GENZ2018/shp/cb_2018_06_place_500k.zip\n",
    "\n",
    "Then we can overlay the border of the city on the map and set the initial zoom to the center of the Berkeley boundary.\n",
    "\n",
    "Let's try that.\n"
   ]
  },
  {
   "cell_type": "markdown",
   "metadata": {},
   "source": [
    "First we need to read in the census places data and create a subset geodataframe for our city of interest, here Berkeley."
   ]
  },
  {
   "cell_type": "code",
   "execution_count": null,
   "metadata": {},
   "outputs": [],
   "source": [
    "places = gpd.read_file(\"zip://notebook_data/census/Places/cb_2018_06_place_500k.zip\")"
   ]
  },
  {
   "cell_type": "code",
   "execution_count": null,
   "metadata": {},
   "outputs": [],
   "source": [
    "places.head(2)"
   ]
  },
  {
   "cell_type": "code",
   "execution_count": null,
   "metadata": {},
   "outputs": [],
   "source": [
    "berkeley = places[places.NAME=='Berkeley'].copy()\n",
    "berkeley.head(2)"
   ]
  },
  {
   "cell_type": "markdown",
   "metadata": {},
   "source": [
    "Plot the Berkeley geodataframe to make sure it looks ok."
   ]
  },
  {
   "cell_type": "code",
   "execution_count": null,
   "metadata": {
    "scrolled": true
   },
   "outputs": [],
   "source": [
    "berkeley.plot()"
   ]
  },
  {
   "cell_type": "code",
   "execution_count": null,
   "metadata": {
    "scrolled": false
   },
   "outputs": [],
   "source": [
    "# Create a new map centered on Berkeley\n",
    "berkeley_map = folium.Map(location=[berkeley.centroid.y.mean(), \n",
    "                                    berkeley.centroid.x.mean()], \n",
    "                  tiles='CartoDB Positron',\n",
    "                  width=800,height=600,\n",
    "                  zoom_start=13)\n",
    "\n",
    "\n",
    "# Add the census tract polygons as a choropleth map\n",
    "layer1=folium.Choropleth(geo_data=ca_counties_gdf.set_index('NAME'),\n",
    "           data=ca_counties_gdf,\n",
    "           columns=['NAME','POP2012'],\n",
    "           fill_color=\"Reds\",\n",
    "           fill_opacity=0.65,\n",
    "           line_color=\"grey\", #\"white\",\n",
    "           line_weight=1,\n",
    "           line_opacity=1,\n",
    "           key_on=\"feature.id\",\n",
    "           legend=True,\n",
    "           legend_name=\"Population\",\n",
    "           highlight=True\n",
    "          ).add_to(berkeley_map)\n",
    "\n",
    "# Add the berkeley boundary - note the fill color\n",
    "layer2 = folium.GeoJson(data=berkeley,\n",
    "               name='Berkeley',smooth_factor=2,\n",
    "               style_function=lambda x: {'color':'black',\n",
    "                                         'opacity':1,\n",
    "                                         'fillColor':\n",
    "                                         'transparent',\n",
    "                                         'weight':3},\n",
    "               ).add_to(berkeley_map)\n",
    "\n",
    "# Add the tooltip for the census tracts as its own layer\n",
    "layer3 = folium.GeoJson(ca_counties_gdf,\n",
    "    style_function=lambda x: {'color':'transparent','fillColor':'transparent'},\n",
    "    tooltip=folium.features.GeoJsonTooltip(\n",
    "        fields=['NAME','POP2012'], \n",
    "        aliases=['County', 'Population'],\n",
    "        labels=True,\n",
    "        localize=True\n",
    "    ),\n",
    "    highlight_function=lambda x: {'weight':3,'color':'white'}\n",
    ").add_to(berkeley_map)\n",
    "\n",
    "berkeley_map  # show map"
   ]
  },
  {
   "cell_type": "markdown",
   "metadata": {},
   "source": [
    "<div style=\"display:inline-block;vertical-align:top;\">\n",
    "    <img src=\"http://www.pngall.com/wp-content/uploads/2016/03/Light-Bulb-Free-PNG-Image.png\" width=\"30\" align=left > \n",
    "</div>  \n",
    "<div style=\"display:inline-block;\">\n",
    "\n",
    "#### Questions\n",
    "</div>\n",
    "\n",
    "Any questions about the above map?\n",
    "\n",
    "Does the code for the Berkeley map above differ from our previous choropleth map code?\n",
    "\n",
    "Does the order of layer2 & layer3 matter (can they be switched?)"
   ]
  },
  {
   "cell_type": "markdown",
   "metadata": {},
   "source": [
    "#### Exercise\n",
    "\n",
    "Redo the above map with population density. Create and display the Oakland city boundary on the map instead of Berkeley and center the map on Oakland."
   ]
  },
  {
   "cell_type": "code",
   "execution_count": null,
   "metadata": {},
   "outputs": [],
   "source": [
    "# Your code here"
   ]
  },
  {
   "cell_type": "markdown",
   "metadata": {},
   "source": [
    "*Click here for solution*\n",
    "\n",
    "<!---\n",
    "    # SOLUTION\n",
    "    oakland = places[places.NAME=='Oakland'].copy()\n",
    "    oakland.plot()\n",
    "\n",
    "    # SOLUTION\n",
    "    oakland_map = folium.Map(location=[oakland.centroid.y.mean(), oakland.centroid.x.mean()], \n",
    "                      tiles='CartoDB Positron',\n",
    "                      width=800,height=600,\n",
    "                      zoom_start=12)\n",
    "\n",
    "    # Add the census tract polygons as a choropleth map\n",
    "    layer1=folium.Choropleth(geo_data=ca_counties_gdf.set_index('NAME'),\n",
    "           data=ca_counties_gdf,\n",
    "           columns=['NAME','POP2012'],\n",
    "           fill_color=\"Reds\",\n",
    "           fill_opacity=0.65,\n",
    "           line_color=\"grey\", #\"white\",\n",
    "           line_weight=1,\n",
    "           line_opacity=1,\n",
    "           key_on=\"feature.id\",\n",
    "           legend=True,\n",
    "           legend_name=\"Population\",\n",
    "           highlight=True\n",
    "          ).add_to(oakland_map)\n",
    "\n",
    "\n",
    "    # Add the oakland boundary\n",
    "    layer2 = folium.GeoJson(data=oakland,\n",
    "                   name='Oakland',smooth_factor=2,\n",
    "                   style_function=lambda x: {'color':'black','opacity':1,'fillColor':'transparent','weight':3},\n",
    "                   ).add_to(oakland_map)\n",
    "\n",
    "    # Add the tooltip\n",
    "    layer3 = folium.GeoJson(ca_counties_gdf,\n",
    "        style_function=lambda x: {'color':'transparent','fillColor':'transparent'},\n",
    "        tooltip=folium.features.GeoJsonTooltip(\n",
    "            fields=['NAME','POP2012'], \n",
    "            aliases=['County', 'Population'],\n",
    "            labels=True,\n",
    "            localize=True\n",
    "        ),\n",
    "        highlight_function=lambda x: {'weight':3,'color':'white'}\n",
    "    ).add_to(oakland_map)\n",
    "\n",
    "\n",
    "    oakland_map  # show map\n",
    "--->"
   ]
  },
  {
   "cell_type": "markdown",
   "metadata": {},
   "source": [
    "<a id=\"section6\"></a>\n",
    "## 12.6 Mapping Points and Lines\n",
    "\n",
    "We can also add points and lines to a folium map.\n",
    "\n",
    "Let's overlay BART stations as points and BART lines as lines to the interactive map. For the Bay Area these are data are available from the [Metropoliton Transportation Commission (MTC) Open Data portal](http://opendata.mtc.ca.gov/datasets).\n",
    "\n",
    "We're going to try pulling in BART station data that we downloaded from the website and subsetted from the passenger-rail-stations. You can learn more about the dataset through here: http://opendata.mtc.ca.gov/datasets/passenger-rail-stations-2019\n",
    "\n",
    "As usual, let's try pulling in the data and inspect the first couple of rows."
   ]
  },
  {
   "cell_type": "code",
   "execution_count": null,
   "metadata": {},
   "outputs": [],
   "source": [
    "# Load light rail stop data\n",
    "railstops = gpd.read_file(\"zip://notebook_data/transportation/Passenger_Rail_Stations_2019.zip\")  \n",
    "railstops.tail()"
   ]
  },
  {
   "cell_type": "code",
   "execution_count": null,
   "metadata": {},
   "outputs": [],
   "source": [
    "# Subset to keep just bart stations\n",
    "bart_stations = railstops[railstops['agencyname']=='BART'].sort_values(by=\"station_na\")\n",
    "bart_stations.head()"
   ]
  },
  {
   "cell_type": "code",
   "execution_count": null,
   "metadata": {},
   "outputs": [],
   "source": [
    "# Repeat for the rail lines\n",
    "rail_lines = gpd.read_file(\"zip://notebook_data/transportation/Passenger_Railways_2019.zip\")  \n",
    "rail_lines.head()"
   ]
  },
  {
   "cell_type": "code",
   "execution_count": null,
   "metadata": {},
   "outputs": [],
   "source": [
    "rail_lines.operator.value_counts()"
   ]
  },
  {
   "cell_type": "code",
   "execution_count": null,
   "metadata": {},
   "outputs": [],
   "source": [
    "# subset by operator to get the bart lines\n",
    "bart_lines = rail_lines[rail_lines['operator']=='BART']"
   ]
  },
  {
   "cell_type": "code",
   "execution_count": null,
   "metadata": {
    "scrolled": true
   },
   "outputs": [],
   "source": [
    "# Check the CRS of the geodataframes\n",
    "print(bart_stations.crs)\n",
    "print(bart_lines.crs)"
   ]
  },
  {
   "cell_type": "code",
   "execution_count": null,
   "metadata": {},
   "outputs": [],
   "source": [
    "# Quick plot\n",
    "bart_stations.plot()\n",
    "bart_lines.plot()"
   ]
  },
  {
   "cell_type": "markdown",
   "metadata": {},
   "source": [
    "Now that we have fetched and checked the Bart data, let's do a quick folium map with it.\n",
    "\n",
    "We will use `folium.GeoJson` to add these data to the map, just as we used it previously for the census tract polygons."
   ]
  },
  {
   "cell_type": "code",
   "execution_count": null,
   "metadata": {},
   "outputs": [],
   "source": [
    "# Bart Map\n",
    "map4 = folium.Map(location=[bart_stations.centroid.y.mean(), bart_stations.centroid.x.mean()], \n",
    "                  tiles='CartoDB Positron',\n",
    "                  width=800,height=600,\n",
    "                  zoom_start=10)\n",
    "\n",
    "\n",
    "folium.GeoJson(bart_lines).add_to(map4)\n",
    "\n",
    "folium.GeoJson(bart_stations).add_to(map4)\n",
    "\n",
    "\n",
    "map4  # show map"
   ]
  },
  {
   "cell_type": "markdown",
   "metadata": {},
   "source": [
    "We can also add tooltips, just as we did previously."
   ]
  },
  {
   "cell_type": "code",
   "execution_count": null,
   "metadata": {},
   "outputs": [],
   "source": [
    "# Bart Map\n",
    "map4 = folium.Map(location=[bart_stations.centroid.y.mean(), bart_stations.centroid.x.mean()], \n",
    "                  tiles='CartoDB Positron',\n",
    "                  #width=800,height=600,\n",
    "                  zoom_start=10)\n",
    "\n",
    "# Add Bart lines\n",
    "folium.GeoJson(bart_lines,\n",
    "               tooltip=folium.GeoJsonTooltip(\n",
    "                   fields=['operator' ],\n",
    "                   aliases=['Line operator'],\n",
    "                   labels=True,\n",
    "                   localize=True\n",
    "               ),\n",
    "              ).add_to(map4)\n",
    "\n",
    "# Add Bart stations\n",
    "folium.GeoJson(bart_stations,\n",
    "              tooltip=folium.GeoJsonTooltip(fields=['ts_locatio'], \n",
    "                   aliases=['Stop Name'],\n",
    "                   labels=True,\n",
    "                   localize=True\n",
    "               ),\n",
    "              ).add_to(map4)\n",
    "\n",
    "\n",
    "map4  # show map"
   ]
  },
  {
   "cell_type": "markdown",
   "metadata": {},
   "source": [
    "That's pretty cool, but don't you just want to click on those marker points to get a `popup` rather than hovering over for a `tooltip`?"
   ]
  },
  {
   "cell_type": "markdown",
   "metadata": {},
   "source": [
    "### Mapping Points\n",
    "\n",
    "So far we have used `folium.GeoJson` to map our BART points. By default this uses the push-pin marker symbology made popular by Google Maps. \n",
    "\n",
    "Under the hood, folium.GeoJson uses the default object type `folium.Marker` when the input data are points.\n",
    "\n",
    "This is helpful to know because `folium.Marker` has a few options that allow further customization of our points."
   ]
  },
  {
   "cell_type": "code",
   "execution_count": null,
   "metadata": {},
   "outputs": [],
   "source": [
    "# Uncomment to view help docs\n",
    "folium.Marker?"
   ]
  },
  {
   "cell_type": "markdown",
   "metadata": {},
   "source": [
    "Let's explicitly add the Bart Stations as points so we can change the `tooltips` to `popups`."
   ]
  },
  {
   "cell_type": "code",
   "execution_count": null,
   "metadata": {
    "scrolled": false
   },
   "outputs": [],
   "source": [
    "# Bart Map\n",
    "map4 = folium.Map(location=[bart_stations.centroid.y.mean(), bart_stations.centroid.x.mean()], \n",
    "                  tiles='CartoDB Positron',\n",
    "                  #width=800,height=800,\n",
    "                  zoom_start=10)\n",
    "\n",
    "# Add Bart lines\n",
    "folium.GeoJson(bart_lines,\n",
    "               tooltip=folium.GeoJsonTooltip(\n",
    "                   fields=['operator' ],\n",
    "                   aliases=['Line operator'],\n",
    "                   labels=True,\n",
    "                   localize=True\n",
    "               ),\n",
    "              ).add_to(map4)\n",
    "\n",
    "# Add Bart stations\n",
    "bart_stations.apply(lambda row:\n",
    "                        folium.Marker(\n",
    "                                  location=[row['geometry'].y, row['geometry'].x],\n",
    "                                  popup=row['ts_locatio'],\n",
    "                                 ).add_to(map4), axis=1)\n",
    "\n",
    "map4  # show map"
   ]
  },
  {
   "cell_type": "markdown",
   "metadata": {},
   "source": [
    "That `folium.Marker` code is a bit more complex than `folium.GeoJson` and may not be worth it unless you really want that popup behavior.\n",
    "\n",
    "But let's see what else we can do with a `folium.Marker` by viewing the next map."
   ]
  },
  {
   "cell_type": "code",
   "execution_count": null,
   "metadata": {
    "scrolled": false
   },
   "outputs": [],
   "source": [
    "# Bart Map\n",
    "map4 = folium.Map(location=[bart_stations.centroid.y.mean(), bart_stations.centroid.x.mean()], \n",
    "                  tiles='CartoDB Positron',\n",
    "                  #width=800,height=600,\n",
    "                  zoom_start=10)\n",
    "\n",
    "# Add BART lines\n",
    "folium.GeoJson(bart_lines,\n",
    "               tooltip=folium.GeoJsonTooltip(\n",
    "                   fields=['operator' ],\n",
    "                   aliases=['Line operator'],\n",
    "                   labels=True,\n",
    "                   localize=True\n",
    "               ),\n",
    "              ).add_to(map4)\n",
    "\n",
    "# Add BART Stations\n",
    "icon_url = \"https://gomentumstation.net/wp-content/uploads/2018/08/Bay-area-rapid-transit-1000.png\"\n",
    "bart_stations.apply(lambda row:\n",
    "                        folium.Marker(\n",
    "                                  location=[row['geometry'].y,row['geometry'].x],\n",
    "                                  popup=row['ts_locatio'],\n",
    "                                  icon=folium.features.CustomIcon(icon_url,icon_size=(20, 20)),\n",
    "                                 ).add_to(map4), axis=1)\n",
    "\n",
    "map4  # show map"
   ]
  },
  {
   "cell_type": "markdown",
   "metadata": {},
   "source": [
    "#### Exercise\n",
    "\n",
    "Copy and paste the code for the previous cell into the next cell and \n",
    "1. change the bart icon to \"https://ya-webdesign.com/transparent450_/train-emoji-png-14.png\"\n",
    "2. change the popup back to a tooltip."
   ]
  },
  {
   "cell_type": "code",
   "execution_count": null,
   "metadata": {},
   "outputs": [],
   "source": [
    "# Your code here"
   ]
  },
  {
   "cell_type": "markdown",
   "metadata": {},
   "source": [
    "*Click here for solution*\n",
    "\n",
    "<!---\n",
    "# Bart Map\n",
    "map4 = folium.Map(location=[bart_stations.centroid.y.mean(), bart_stations.centroid.x.mean()], \n",
    "\n",
    "                  tiles='CartoDB Positron',\n",
    "                  #width=800,height=600,\n",
    "                  zoom_start=10)\n",
    "\n",
    "# Add BART lines\n",
    "folium.GeoJson(bart_lines,\n",
    "               tooltip=folium.GeoJsonTooltip(\n",
    "                   fields=['operator' ],\n",
    "                   aliases=['Line operator'],\n",
    "                   labels=True,\n",
    "                   localize=True\n",
    "               ),\n",
    "              ).add_to(map4)\n",
    "\n",
    "# Add BART Stations\n",
    "icon_url = \"https://ya-webdesign.com/transparent450_/train-emoji-png-14.png\"\n",
    "bart_stations.apply(lambda row:\n",
    "                        folium.Marker(\n",
    "                                  location=[row['geometry'].y,row['geometry'].x],\n",
    "                                  tooltip=row['ts_locatio'],\n",
    "                                  icon=folium.features.CustomIcon(icon_url,icon_size=(20, 20)),\n",
    "                                 ).add_to(map4), axis=1)\n",
    "\n",
    "map4  # show map\n",
    "--->"
   ]
  },
  {
   "cell_type": "markdown",
   "metadata": {},
   "source": [
    "### folium.CircleMarkers\n",
    "\n",
    "You may prefer to customize points as `CircleMarkers` instead of the icon or pushpin Marker style. This allows you to set size and color of a marker, either manually or as a function of a data variable.\n",
    "\n",
    "Let's look at some code for doing this."
   ]
  },
  {
   "cell_type": "code",
   "execution_count": null,
   "metadata": {},
   "outputs": [],
   "source": [
    "# Define the basemap\n",
    "map5 = folium.Map(location=[bart_stations.centroid.y.mean(), bart_stations.centroid.x.mean()],   # lat, lon around which to center the map\n",
    "                 tiles='CartoDB Positron',\n",
    "                 #width=1000,                        # the width & height of the output map\n",
    "                 #height=600,                       # in pixels\n",
    "                 zoom_start=10)                    # the zoom level for the data to be displayed\n",
    "\n",
    "# Add BART Lines\n",
    "folium.GeoJson(bart_lines).add_to(map5)\n",
    "\n",
    "\n",
    "# Add BART Stations\n",
    "bart_stations.apply(lambda row:\n",
    "                        folium.CircleMarker(\n",
    "                                  location=[row['geometry'].y, row['geometry'].x],\n",
    "                                  radius=10,\n",
    "                                  color='purple',\n",
    "                                  fill=True,\n",
    "                                  fill_color='purple',\n",
    "                                  popup=row['ts_locatio'],\n",
    "                                 ).add_to(map5), \n",
    "                         axis=1)\n",
    "\n",
    "\n",
    "map5\n"
   ]
  },
  {
   "cell_type": "markdown",
   "metadata": {},
   "source": [
    "### folium.Circle \n",
    "\n",
    "You can also set the size of your circles to a fixed radius, in meters, using `folium.Circle`.  This is great for exploratory data analysis. For example, you can see what the census tract values are within 500 meters of a BART station."
   ]
  },
  {
   "cell_type": "code",
   "execution_count": null,
   "metadata": {},
   "outputs": [],
   "source": [
    "# Uncomment to view\n",
    "#?folium.Circle"
   ]
  },
  {
   "cell_type": "code",
   "execution_count": null,
   "metadata": {
    "scrolled": false
   },
   "outputs": [],
   "source": [
    "# Define the basemap\n",
    "map5 = folium.Map(location=[bart_stations.centroid.y.mean(), bart_stations.centroid.x.mean()],   # lat, lon around which to center the map\n",
    "                 tiles='CartoDB Positron',\n",
    "                 #width=1000,                        # the width & height of the output map\n",
    "                 #height=600,                       # in pixels\n",
    "                 zoom_start=10)                    # the zoom level for the data to be displayed\n",
    "\n",
    "# Add BART Lines\n",
    "folium.GeoJson(bart_lines).add_to(map5)\n",
    "\n",
    "\n",
    "# Add BART Stations\n",
    "bart_stations.apply(lambda row:\n",
    "                        folium.Circle(\n",
    "                                  location=[row['geometry'].y, row['geometry'].x],\n",
    "                                  radius=500,\n",
    "                                  color='purple',\n",
    "                                  fill=True,\n",
    "                                  fill_color='purple',\n",
    "                                  popup=row['ts_locatio'],\n",
    "                                 ).add_to(map5), \n",
    "                         axis=1)\n",
    "\n",
    "\n",
    "map5\n"
   ]
  },
  {
   "cell_type": "markdown",
   "metadata": {},
   "source": [
    "<div style=\"display:inline-block;vertical-align:top;\">\n",
    "    <img src=\"http://www.pngall.com/wp-content/uploads/2016/03/Light-Bulb-Free-PNG-Image.png\" width=\"30\" align=left > \n",
    "</div>  \n",
    "<div style=\"display:inline-block;\">\n",
    "\n",
    "#### Question\n",
    "</div>\n",
    "\n",
    "What do you notice about the size of the circles as you zoom in/out when you compare folium.Circles and folium.CircleMarkers?"
   ]
  },
  {
   "cell_type": "markdown",
   "metadata": {},
   "source": [
    "### Proportional Symbol Maps\n",
    "\n",
    "One of the advantages of the `folium.CircleMarker` is that we can set the size of the map to vary based on a data value.\n",
    "\n",
    "To give this a try, let's add a fake column to the `bart_stations` gdf called millions_served and set it to a value between 1 and 10."
   ]
  },
  {
   "cell_type": "code",
   "execution_count": null,
   "metadata": {},
   "outputs": [],
   "source": [
    "# add a column to the bart stations gdf\n",
    "bart_stations['millions_served'] = np.random.randint(1,10, size=len(bart_stations))\n",
    "bart_stations.head()"
   ]
  },
  {
   "cell_type": "code",
   "execution_count": null,
   "metadata": {},
   "outputs": [],
   "source": [
    "# Define the basemap\n",
    "map5 = folium.Map(location=[bart_stations.centroid.y.mean(), bart_stations.centroid.x.mean()],\n",
    "                 tiles='CartoDB Positron',\n",
    "                 #width=1000,                        # the width & height of the output map\n",
    "                 #height=600,                       # in pixels\n",
    "                 zoom_start=10)                    # the zoom level for the data to be displayed\n",
    "\n",
    "folium.GeoJson(bart_lines).add_to(map5)\n",
    "\n",
    "# Add BART Stations as CircleMarkers\n",
    "# Here, some knowlege of Python string formatting is useful\n",
    "bart_stations.apply(lambda row:\n",
    "                        folium.CircleMarker(\n",
    "                                  location=[row['geometry'].y, row['geometry'].x],\n",
    "                                  radius=row['millions_served'],\n",
    "                                  color='purple',\n",
    "                                  fill=True,\n",
    "                                  fill_color='purple',\n",
    "                                  tooltip = \"Bart Station: %s<br>Millions served: %s\" % (row['ts_locatio'], row['millions_served'])\n",
    "                    \n",
    "                                 ).add_to(map5), axis=1)\n",
    "map5\n"
   ]
  },
  {
   "cell_type": "markdown",
   "metadata": {},
   "source": [
    "So if you hover over our BART stations, you see that we've formatted it nicely! Using some HTML and Python string formatting we can make our `tooltip` easier to read. \n",
    "\n",
    "If you want to learn more about customizing these, you can [go check this out to learn HTML basics](https://www.w3schools.com/html/html_basic.asp).  You can then [go here to learn about Python string formatting](https://python-reference.readthedocs.io/en/latest/docs/str/formatting.html)."
   ]
  },
  {
   "cell_type": "markdown",
   "metadata": {},
   "source": [
    "<a id=\"section7\"></a>\n",
    "## 12.7 Creating and Saving a folium Interactive Map\n",
    "\n",
    "Now that you have seen most of the ways you can add a geodataframe to a folium map, let's create one big map that includes several of our geodataframes.\n",
    "\n",
    "To control the display of the data layers, we will add a `folium.LayerControl`\n",
    "\n",
    "- A `folium.LayerControl` will allow you to toggle on/off a map's visible layers. \n",
    "\n",
    "- In order to add a layer to the LayerControl, the layer must have value set for its `name`.\n",
    "\n",
    "Let's take a look. "
   ]
  },
  {
   "cell_type": "code",
   "execution_count": null,
   "metadata": {},
   "outputs": [],
   "source": [
    "# Create a new map centered on the census tract data\n",
    "map6 = folium.Map(location=[bart_stations.centroid.y.mean(), bart_stations.centroid.x.mean()], \n",
    "                  tiles='CartoDB Positron',\n",
    "                  #width=800,height=600,\n",
    "                  zoom_start=10)\n",
    "\n",
    "# Add the counties polygons as a choropleth map\n",
    "layer1=folium.Choropleth(geo_data=ca_counties_gdf.set_index('NAME'),\n",
    "           data=ca_counties_gdf,\n",
    "           columns=['NAME','POP2012'],\n",
    "           fill_color=\"Reds\",\n",
    "           fill_opacity=0.65,\n",
    "           line_color=\"grey\", #\"white\",\n",
    "           line_weight=1,\n",
    "           line_opacity=1,\n",
    "           key_on=\"feature.id\",\n",
    "           legend=True,\n",
    "           legend_name=\"Population\",\n",
    "           highlight=True,\n",
    "           name=\"Counties\"\n",
    "          ).add_to(map6)\n",
    "\n",
    "# Add the tooltip for the counties as its own layer\n",
    "# Don't display in the Layer control!\n",
    "layer2 = folium.GeoJson(ca_counties_gdf,\n",
    "    style_function=lambda x: {'color':'transparent','fillColor':'transparent'},\n",
    "    tooltip=folium.features.GeoJsonTooltip(\n",
    "        fields=['NAME','POP2012'], \n",
    "        aliases=['Name', 'Population'],\n",
    "        labels=True,\n",
    "        localize=True\n",
    "    ),\n",
    "    highlight_function=lambda x: {'weight':3,'color':'white'}\n",
    ").add_to(layer1.geojson)\n",
    "\n",
    "# Add Bart lines\n",
    "folium.GeoJson(bart_lines,\n",
    "               name=\"Bart Lines\",\n",
    "               tooltip=folium.GeoJsonTooltip(\n",
    "                   fields=['operator' ],\n",
    "                   aliases=['Line operator'],\n",
    "                   labels=True,\n",
    "                   localize=True\n",
    "               ),\n",
    "              ).add_to(map6)\n",
    "\n",
    "\n",
    "# Add Bart stations\n",
    "folium.GeoJson(bart_stations,\n",
    "               name=\"Bart stations\",\n",
    "              tooltip=folium.GeoJsonTooltip(fields=['ts_locatio' ], \n",
    "                   aliases=['Stop Name'],\n",
    "                   labels=True,\n",
    "                   localize=True\n",
    "               ),\n",
    "              ).add_to(map6)\n",
    "\n",
    "# ADD LAYER CONTROL\n",
    "folium.LayerControl(collapsed=False).add_to(map6)\n",
    "\n",
    "map6  # show map"
   ]
  },
  {
   "cell_type": "markdown",
   "metadata": {},
   "source": [
    "<div style=\"display:inline-block;vertical-align:top;\">\n",
    "    <img src=\"https://image.flaticon.com/icons/svg/87/87705.svg\" width=\"30\" align=left > \n",
    "</div>  \n",
    "<div style=\"display:inline-block;\">\n",
    "\n",
    "#### Questions\n",
    "</div>\n",
    "\n",
    "1. Take a look at the help docs `folium.LayerControl?`. What parameter would move the location of the LayerControl? What parameter would allow it to be closed by default?\n",
    "\n",
    "2. Take a look at the way we added `layer2` above (this has the census tract tooltips). How has the code we use to add the layer to the map changed? Why do you think we made this change?"
   ]
  },
  {
   "cell_type": "code",
   "execution_count": null,
   "metadata": {},
   "outputs": [],
   "source": [
    "# Uncomment to view\n",
    "#folium.LayerControl?"
   ]
  },
  {
   "cell_type": "markdown",
   "metadata": {},
   "source": [
    "### Saving to an html file\n",
    "\n",
    "By saving our map to a html we can use it later as something to add to a website or email to a colleague.\n",
    "\n",
    "You can save any of the maps you have in the notebook using this syntax:\n",
    "\n",
    "> map_name.save(\"file_name.html\")\n",
    "\n",
    "Let's try that."
   ]
  },
  {
   "cell_type": "code",
   "execution_count": null,
   "metadata": {},
   "outputs": [],
   "source": [
    "map6.save('outdata/bartmap.html')"
   ]
  },
  {
   "cell_type": "markdown",
   "metadata": {},
   "source": [
    "Find your html file on your computer and double-click on it to open it in a browser."
   ]
  },
  {
   "cell_type": "markdown",
   "metadata": {},
   "source": [
    "#### Extra Challenge\n",
    "\n",
    "Check out the notebook examples and find one to try with the data we have used in this notebook. I recommend the following.\n",
    "\n",
    "- [Mini-maps](https://nbviewer.jupyter.org/github/python-visualization/folium/blob/master/examples/MiniMap.ipynb)\n",
    "- [Dual-map](https://nbviewer.jupyter.org/github/python-visualization/folium/blob/master/examples/plugin-DualMap.ipynb) (choropleth maps two census tract vars)\n",
    "- [Search](https://nbviewer.jupyter.org/github/python-visualization/folium/blob/master/examples/plugin-Search.ipynb) (e.g., for a Bart Station by name)"
   ]
  },
  {
   "cell_type": "markdown",
   "metadata": {},
   "source": [
    "<a id=\"section6\"></a>\n",
    "## 12.8 Recap\n",
    "Here we learned about the wonderful world of `Folium`! We created interactive maps-- whether it be choropleth, points, lines, symbols... we mapped it all. \n",
    "\n",
    "Below you'll find a list of key functionalities we learned:\n",
    "- Interactive mapping\n",
    "\t- `folium.Map()`\n",
    "- Adding a map layer\n",
    "\t- `.add_to()`\n",
    "\t- `folium.Choropleth()`\n",
    "\t\t- `geo_data`\n",
    "\t\t- `columns`\n",
    "\t\t- `fill_color`\n",
    "\t- `folium.GeoJson()`\n",
    "\t\t- `style_function`\n",
    "\t- `folium.Marker()`\n",
    "\t\t- `icon`\n",
    "\t- `folium.CircleMarker()`\n",
    "\t\t- `radius`\n",
    "- Adding a Tooltip\n",
    "\t- `folium.GeoJsonTooltip`\n",
    "\t- `folium.features.GeoJsonTooltip`\n",
    "- Adding layer control\n",
    "\t- `folium.LayerControl()`"
   ]
  },
  {
   "cell_type": "markdown",
   "metadata": {},
   "source": [
    "## Important note\n",
    "\n",
    "The folium library changes often so I recommend you update your package frequently. This will give you increased functionality and may make future code easier to write. However, it might cause your existing code to break.\n",
    "\n",
    "### References\n",
    "\n",
    "This notebook provides an introduction to `folium`. To see what else you can do, check out the references listed below.\n",
    "\n",
    "- [Folium web site](https://github.com/python-visualization/folium)\n",
    "\n",
    "- [Folium notebook examples](https://nbviewer.jupyter.org/github/python-visualization/folium/tree/master/examples/)\n",
    "\n"
   ]
  },
  {
   "cell_type": "markdown",
   "metadata": {},
   "source": [
    "---\n",
    "<div style=\"display:inline-block;vertical-align:middle;\">\n",
    "<a href=\"https://dlab.berkeley.edu/\" target=\"_blank\"><img src =\"assets/images/dlab_logo.png\" width=\"75\" align=\"left\">\n",
    "</a>\n",
    "</div>\n",
    "\n",
    "<div style=\"display:inline-block;vertical-align:middle;\">\n",
    "    <div style=\"font-size:larger\">&nbsp;D-Lab @ University of California - Berkeley</div>\n",
    "    <div>&nbsp;Team Geo<div>\n",
    "</div>\n",
    "        \n",
    "\n",
    "\n",
    "\n"
   ]
  }
 ],
 "metadata": {
  "kernelspec": {
   "display_name": "geo_env2",
   "language": "python",
   "name": "geo_env2"
  },
  "language_info": {
   "codemirror_mode": {
    "name": "ipython",
    "version": 3
   },
   "file_extension": ".py",
   "mimetype": "text/x-python",
   "name": "python",
   "nbconvert_exporter": "python",
   "pygments_lexer": "ipython3",
   "version": "3.9.2"
  }
 },
 "nbformat": 4,
 "nbformat_minor": 4
}
