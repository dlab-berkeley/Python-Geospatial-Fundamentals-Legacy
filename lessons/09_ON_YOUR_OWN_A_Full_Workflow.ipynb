{
 "cells": [
  {
   "cell_type": "markdown",
   "metadata": {},
   "source": [
    "# Lesson 9. On Your Own: A Full Workflow\n",
    "Now is your chance to pull everything we've learned together and answer the questions: \n",
    "- How many polling stations are in each census tract in Alameda County?\n",
    "- Which polling stations are within walking distance (100m) from a bus route in Berkeley?\n",
    "- How far are these polling stations from the bus routes in Berkeley?\n",
    "\n",
    "**All on your own!!**\n",
    "\n",
    "- 9.1 Polling Station Locations\n",
    "- 9.2 Tracts data \n",
    "- 9.3 Spatial Join \n",
    "- 9.4 Aggregate number of stations by census tracts\n",
    "- 9.5 Attribute join back to tracts data\n",
    "- 9.6 Berkeley outline\n",
    "- 9.7 Bus routes\n",
    "- 9.8 Polling station distance from bus routes\n",
    "\n",
    "*We've written out some of the code for you, and you can check your answers by clicking on the toggle solution button*\n",
    " \n",
    "### Install Packages"
   ]
  },
  {
   "cell_type": "code",
   "execution_count": null,
   "metadata": {},
   "outputs": [],
   "source": [
    "import pandas as pd\n",
    "import geopandas as gpd\n",
    "\n",
    "import matplotlib # base python plotting library\n",
    "import matplotlib.pyplot as plt # submodule of matplotlib\n",
    "\n",
    "# To display plots, maps, charts etc in the notebook\n",
    "%matplotlib inline  "
   ]
  },
  {
   "cell_type": "markdown",
   "metadata": {},
   "source": [
    "## 9.1 Polling Station Locations\n",
    "\n",
    "We'll be using the 2020 General Election voting locations for Alameda County for this analysis. Since the data is *aspatial* we'll need to coerce it to be a geodataframe and define a CRS.\n",
    "\n",
    "- read our grocery-data CSV into a Pandas DataFrame (it lives at `'notebook_data/ac_voting_locations.csv`)\n",
    "- coerce it to a GeoDataFrame\n",
    "- define its CRS (EPSG:4326)\n",
    "- plot it"
   ]
  },
  {
   "cell_type": "code",
   "execution_count": null,
   "metadata": {},
   "outputs": [],
   "source": [
    "# Pull in polling location\n",
    "\n",
    "# polling_ac_df = pd.read_csv(...)\n",
    "# polling_ac_df.head()"
   ]
  },
  {
   "cell_type": "code",
   "execution_count": null,
   "metadata": {},
   "outputs": [],
   "source": [
    "# Make into geo data frame\n",
    "\n",
    "# polling_ac_gdf = gpd.GeoDataFrame(..., \n",
    "#                                geometry=gpd.points_from_xy(...,...))\n",
    "# polling_ac_gdf.crs = ...\n",
    "\n",
    "# plot it \n",
    "\n",
    "# polling_ac_gdf.plot(...)\n"
   ]
  },
  {
   "cell_type": "markdown",
   "metadata": {},
   "source": [
    "## Double-click here to see solution!\n",
    "\n",
    "<!--\n",
    "#SOLUTION:\n",
    "# Pull in polling location\n",
    "polling_ac_df = pd.read_csv('notebook_data/ac_voting_locations.csv')\n",
    "polling_ac_df.head()\n",
    "\n",
    "# Make into geo data frame\n",
    "polling_ac_gdf = gpd.GeoDataFrame(polling_ac_df, \n",
    "                               geometry=gpd.points_from_xy(polling_ac_df.X, polling_ac_df.Y))\n",
    "polling_ac_gdf.crs = \"epsg:4326\"\n",
    "\n",
    "polling_ac_gdf.plot()\n",
    "\n",
    "-->"
   ]
  },
  {
   "cell_type": "markdown",
   "metadata": {},
   "source": [
    "## 9.2 Tracts data\n",
    "\n",
    "Since we want to answer the question **How many polling stations are in each census tract?**, we'll pull in our tracts data.\n",
    "\n",
    "- Bring in the census tracts data which lives at `notebook_data/census/Tracts/cb_2013_06_tract_500k.zip`\n",
    "- Narrow it down to Alameda County\n",
    "- Check CRS\n",
    "- Transform CRS to 26910 if needed\n"
   ]
  },
  {
   "cell_type": "code",
   "execution_count": null,
   "metadata": {},
   "outputs": [],
   "source": [
    "# Bring in census tracts\n",
    "# tracts_gdf = gpd.read_file(...)\n",
    "\n",
    "# Narrow it down to Alameda County\n",
    "# tracts_gdf_ac = tracts_gdf[...]\n",
    "# tracts_gdf_ac.plot()\n",
    "# plt.show()"
   ]
  },
  {
   "cell_type": "code",
   "execution_count": null,
   "metadata": {},
   "outputs": [],
   "source": [
    "# Check CRS\n",
    "print('polling_ac_gdf:', ...)\n",
    "print('tracts_gdf_ac CRS:', ...)"
   ]
  },
  {
   "cell_type": "code",
   "execution_count": null,
   "metadata": {},
   "outputs": [],
   "source": [
    "# Transform CRS\n",
    "polling_ac_gdf_utm10 = ...\n",
    "tracts_gdf_ac_utm10 = ..."
   ]
  },
  {
   "cell_type": "markdown",
   "metadata": {},
   "source": [
    "## Double-click here to see solution!\n",
    "\n",
    "<!--\n",
    "#SOLUTION:\n",
    "\n",
    "# Bring in census tracts\n",
    "tracts_gdf = gpd.read_file(\"zip://notebook_data/census/Tracts/cb_2013_06_tract_500k.zip\")\n",
    "\n",
    "# Narrow it down to Alameda County\n",
    "tracts_gdf_ac = tracts_gdf[tracts_gdf['COUNTYFP']=='001']\n",
    "tracts_gdf_ac.plot()\n",
    "plt.show()\n",
    "\n",
    "# Check CRS\n",
    "print('polling_ac_gdf:', polling_ac_gdf.crs)\n",
    "print('tracts_gdf_ac CRS:', tracts_gdf_ac.crs)\n",
    "\n",
    "# Transform CRS\n",
    "polling_ac_gdf_utm10 = polling_ac_gdf.to_crs(\"epsg:26910\")\n",
    "tracts_gdf_ac_utm10 = tracts_gdf_ac.to_crs(\"epsg:26910\")\n",
    "\n",
    "-->"
   ]
  },
  {
   "cell_type": "markdown",
   "metadata": {},
   "source": [
    "## 9.3 Spatial Join\n",
    "\n",
    "Alright, now our data is all ready to go! We're going to do a *spatial join* to answer our question about polling stations in each tract.\n",
    "\n",
    "- Spatial join tracts/acs with the polling data (keep the tracts geometry!)\n",
    "- Plot it to make sure you have the right geometry\n",
    "- Check out your data and its dimensions"
   ]
  },
  {
   "cell_type": "code",
   "execution_count": null,
   "metadata": {},
   "outputs": [],
   "source": [
    "# Spatial join tracts/acs with the polling data (keep the tracts geometry!)\n",
    "\n",
    "# polls_jointracts = gpd.sjoin(..., ... , how=...)"
   ]
  },
  {
   "cell_type": "code",
   "execution_count": null,
   "metadata": {},
   "outputs": [],
   "source": [
    "# Plot it to make sure you have the right geometry\n",
    "\n",
    "# polls_jointracts.plot()"
   ]
  },
  {
   "cell_type": "code",
   "execution_count": null,
   "metadata": {},
   "outputs": [],
   "source": [
    "# Check out your data and its dimensions\n"
   ]
  },
  {
   "cell_type": "markdown",
   "metadata": {},
   "source": [
    "## Double-click here to see solution!\n",
    "\n",
    "<!--\n",
    "#SOLUTION:\n",
    "\n",
    "# Spatial join tracts/acs with the polling data (keep the tracts geometry!)\n",
    "polls_jointracts = gpd.sjoin(tracts_gdf_ac_utm10, polling_ac_gdf_utm10, how='left')\n",
    "\n",
    "# Plot it to make sure you have the right geometry\n",
    "polls_jointracts.plot()\n",
    "\n",
    "# Check out your data and its dimensions\n",
    "print(polls_jointracts.shape)\n",
    "polls_jointracts.head()\n",
    "\n",
    "-->"
   ]
  },
  {
   "cell_type": "markdown",
   "metadata": {},
   "source": [
    "## 9.4 Aggregate number of stations by census tracts\n",
    "\n",
    "Now that we have a GeoDataFrame with all our polling and tract data, we'll need to *aggregate* to actually count the number of stations we have\n",
    "\n",
    "- Use `dissolve` to count the number of polls we have\n",
    "- Create a choropleth map base don the number of stations there are"
   ]
  },
  {
   "cell_type": "code",
   "execution_count": null,
   "metadata": {},
   "outputs": [],
   "source": [
    "# Use `dissolve` to count the number of polls we have\n",
    "\n",
    "# polls_countsbytract = polls_jointracts[['TRACTCE', 'NAME_right', \n",
    "#                                         'geometry']].dissolve(by=..., \n",
    "#                                                               aggfunc=...).reset_index()\n",
    "# polls_countsbytract.head()"
   ]
  },
  {
   "cell_type": "code",
   "execution_count": null,
   "metadata": {},
   "outputs": [],
   "source": [
    "# rename the column to be for the number of polling stations (you dont have to change anything here)\n",
    "\n",
    "# polls_countsbytract.rename(columns={'NAME_right': 'Num_Polling'}, inplace=True)"
   ]
  },
  {
   "cell_type": "code",
   "execution_count": null,
   "metadata": {},
   "outputs": [],
   "source": [
    "# Create a choropleth map base don the number of stations there are\n",
    "fig, ax = plt.subplots(figsize = (14,8)) \n",
    "\n",
    "# polls_countsbytract.plot(ax=ax,\n",
    "#                          column=..., \n",
    "#                          cmap=...,\n",
    "#                          edgecolor=\"grey\",\n",
    "#                          legend=True)\n",
    "\n",
    "# polling_ac_gdf_utm10.plot(ax=ax, color=..., edgecolor=..., markersize= ...)"
   ]
  },
  {
   "cell_type": "markdown",
   "metadata": {},
   "source": [
    "## Double-click here to see solution!\n",
    "\n",
    "<!--\n",
    "#SOLUTION:\n",
    "\n",
    "# Use `dissolve` to count the number of polls we have\n",
    "polls_countsbytract = polls_jointracts[['TRACTCE', 'NAME_right', 'geometry']].dissolve(by='TRACTCE', aggfunc='count').reset_index()\n",
    "polls_countsbytract.head()\n",
    "\n",
    "# rename the column to be for the number of polling stations\n",
    "polls_countsbytract.rename(columns={'NAME_right': 'Num_Polling'}, inplace=True)\n",
    "\n",
    "# Create a choropleth map base don the number of stations there are\n",
    "fig, ax = plt.subplots(figsize = (14,8)) \n",
    "\n",
    "polls_countsbytract.plot(ax=ax,column='Num_Polling', \n",
    "                         cmap=\"YlGn\",\n",
    "                         edgecolor=\"grey\",\n",
    "                         legend=True)\n",
    "polling_ac_gdf_utm10.plot(ax=ax, color='orange', edgecolor='black', markersize=3)\n",
    "\n",
    "-->"
   ]
  },
  {
   "cell_type": "markdown",
   "metadata": {},
   "source": [
    "## 9.5 Attribute join back to tracts data\n",
    "\n",
    "Amazing! Now that we have this information let's do an *attribute join* to add this data into our tracts data"
   ]
  },
  {
   "cell_type": "code",
   "execution_count": null,
   "metadata": {},
   "outputs": [],
   "source": [
    "# merge onto census tract data\n",
    "\n",
    "# tracts_gdf_ac =  tracts_gdf_ac.merge(polls_countsbytract[['TRACTCE', 'Num_Polling']], left_on= ...,right_on= ... , how= ... ) \n",
    "# tracts_gdf_ac.head()"
   ]
  },
  {
   "cell_type": "markdown",
   "metadata": {},
   "source": [
    "## Double-click here to see solution!\n",
    "\n",
    "<!--\n",
    "#SOLUTION:\n",
    "\n",
    "# merge onto census tract data\n",
    "tracts_gdf_ac =  tracts_gdf_ac.merge(polls_countsbytract[['TRACTCE', 'Num_Polling']], left_on='TRACTCE',right_on=\"TRACTCE\", how='inner') \n",
    "tracts_gdf_ac.head()\n",
    "\n",
    "-->"
   ]
  },
  {
   "cell_type": "markdown",
   "metadata": {},
   "source": [
    "## 9.6 Berkeley outline\n",
    "\n",
    "To answer our question *Which polling stations are within walking distance (100m) from a bus route in Berkeley?* we'll need to know where Berkeley is! This is the perfect time to bring our Berkeley places data in.\n",
    "\n",
    "- Read in `outdata/berkeley_places.shp`\n",
    "- Check the CRS\n",
    "- Transform CRS if necessary to EPSG:26910"
   ]
  },
  {
   "cell_type": "code",
   "execution_count": null,
   "metadata": {},
   "outputs": [],
   "source": [
    "# Read in outdata/berkeley_places.shp\n",
    "# berkeley_places = gpd.read_file(...)\n",
    "\n",
    "# Check the CRS\n",
    "\n",
    "\n",
    "# Transform CRS if necessary to EPSG:26910\n",
    "berkeley_places_utm10 = ..."
   ]
  },
  {
   "cell_type": "markdown",
   "metadata": {},
   "source": [
    "## Double-click here to see solution!\n",
    "\n",
    "<!--\n",
    "#SOLUTION:\n",
    "\n",
    "berkeley_places = gpd.read_file(\"outdata/berkeley_places.shp\")\n",
    "berkeley_places.crs\n",
    "berkeley_places_utm10 = berkeley_places.to_crs(\"epsg:26910\")\n",
    "\n",
    "-->\n"
   ]
  },
  {
   "cell_type": "markdown",
   "metadata": {},
   "source": [
    "## 8.7 Bus routes\n",
    "\n",
    "- Bring in bus routes ('notebook_data/transportation/Fall20Routeshape.zip'), transform CRS to 26910\n",
    "- Intersect bus routes with Berkeley\n",
    "- Plot results of intersection\n",
    "- Clip bus routes to everything that is inside the berkley outline\n",
    "- Plot bus routes on top of Berkeley outline"
   ]
  },
  {
   "cell_type": "code",
   "execution_count": null,
   "metadata": {
    "scrolled": true
   },
   "outputs": [],
   "source": [
    "# Bring in bus routes, transform CRS to 26910\n",
    "bus_routes = ...\n",
    "# bus_routes_utm10 = bus_routes.to_crs(...)\n",
    "# bus_routes_utm10.head()"
   ]
  },
  {
   "cell_type": "code",
   "execution_count": null,
   "metadata": {},
   "outputs": [],
   "source": [
    "# Look at intersection between bus routes and Berkeley\n",
    "# bus_routes_berkeley = .intersects(... .geometry.squeeze())\n",
    "\n",
    "# Create new geodataframe from these results\n",
    "# bus_berk = bus_routes_utm10.loc[bus_routes_berkeley].reset_index(drop=True)"
   ]
  },
  {
   "cell_type": "code",
   "execution_count": null,
   "metadata": {},
   "outputs": [],
   "source": [
    "# Plot results of intersection\n",
    "\n",
    "# fig, ax = plt.subplots(figsize=(10,10))\n",
    "# berkeley_places_utm10.plot(ax=ax)\n",
    "# bus_berk.plot(ax=ax, column ='PUB_RTE')"
   ]
  },
  {
   "cell_type": "code",
   "execution_count": null,
   "metadata": {},
   "outputs": [],
   "source": [
    "# BONUS: Look at route length\n",
    "# bus_berk.length"
   ]
  },
  {
   "cell_type": "code",
   "execution_count": null,
   "metadata": {},
   "outputs": [],
   "source": [
    "# Clip bus routes to everything that is inside the berkley outline\n",
    "# bus_berk_clip = gpd.clip(...,...)"
   ]
  },
  {
   "cell_type": "code",
   "execution_count": null,
   "metadata": {
    "scrolled": false
   },
   "outputs": [],
   "source": [
    "# Plot bus routes on top of Berkeley outline\n",
    "# fig, ax = plt.subplots(figsize=(10,10))\n",
    "# berkeley_places_utm10.plot(ax=ax)\n",
    "# bus_berk_clip.plot(ax=ax, column ='PUB_RTE')"
   ]
  },
  {
   "cell_type": "markdown",
   "metadata": {},
   "source": [
    "## Double-click here to see solution!\n",
    "\n",
    "<!--\n",
    "#SOLUTION:\n",
    "\n",
    "# Bring in bus routes, transform CRS to 26910\n",
    "bus_routes = gpd.read_file('zip://notebook_data/transportation/Fall20Routeshape.zip')\n",
    "bus_routes_utm10 = bus_routes.to_crs(\"epsg:26910\")\n",
    "bus_routes_utm10.head()\n",
    "\n",
    "# Look at intersection between bus routes and Berkeley\n",
    "bus_routes_berkeley = bus_routes_utm10.intersects(berkeley_places_utm10.geometry.squeeze())\n",
    "\n",
    "# Plot results of intersection\n",
    "fig, ax = plt.subplots(figsize=(10,10))\n",
    "berkeley_places_utm10.plot(ax=ax)\n",
    "bus_routes_utm10.loc[bus_routes_berkeley].plot(ax=ax, column ='PUB_RTE')\n",
    "\n",
    "bus_berk = bus_routes_utm10.loc[bus_routes_berkeley].reset_index(drop=True)\n",
    "\n",
    "bus_berk.length\n",
    "\n",
    "# Clip bus routes to everything that is inside the berkley outline\n",
    "bus_berk_clip = gpd.clip(bus_berk,berkeley_places_utm10)\n",
    "\n",
    "# Plot bus routes on top of Berkeley outline\n",
    "fig, ax = plt.subplots(figsize=(10,10))\n",
    "berkeley_places_utm10.plot(ax=ax)\n",
    "bus_berk_clip.plot(ax=ax, column ='PUB_RTE')\n",
    "\n",
    "-->"
   ]
  },
  {
   "cell_type": "markdown",
   "metadata": {},
   "source": [
    "## 8.6 Polling stations within walking distance of bus routes\n",
    "\n",
    "Now we can really answer the question *Which polling stations are within walking distance (100m) from a bus route in Berkeley?* \n",
    "\n",
    "- Create buffer around bus route for 100m\n",
    "- Intersect polling locations in Alameda County with Berkeley outline \n",
    "- Plot Berkeley outline, bus routes, the bus routes buffer, and polling locations\n",
    "- Calculate the distance from polling stations to the closest bus route"
   ]
  },
  {
   "cell_type": "code",
   "execution_count": null,
   "metadata": {},
   "outputs": [],
   "source": [
    "# Create buffer around bus route for 100m\n",
    "# bus_berk_buf =bus_berk_clip.buffer(distance= ...)"
   ]
  },
  {
   "cell_type": "code",
   "execution_count": null,
   "metadata": {},
   "outputs": [],
   "source": [
    "# Intersect polling locations in Alameda County with Berkeley outline\n",
    "# polling_berk =  ... .intersects(berkeley_places_utm10.geometry.squeeze())\n",
    "\n",
    "# polling_berk_gdf = polling_ac_gdf_utm10[polling_berk].reset_index(drop=True)"
   ]
  },
  {
   "cell_type": "code",
   "execution_count": null,
   "metadata": {},
   "outputs": [],
   "source": [
    "# Plot Berkeley outline, bus routes, the bus routes buffer, and polling locations\n",
    "\n",
    "# fig, ax = plt.subplots(figsize=(10,10))\n",
    "# berkeley_places_utm10.plot(ax=ax)\n",
    "# bus_berk_buf.plot(color='pink', ax=ax, alpha=0.5)\n",
    "# bus_berk_clip.plot(ax=ax, column ='PUB_RTE')\n",
    "# polling_berk_gdf.plot(ax=ax, color= 'yellow')"
   ]
  },
  {
   "cell_type": "code",
   "execution_count": null,
   "metadata": {},
   "outputs": [],
   "source": [
    "# Calculate the distance from polling stations to the closest bus route\n"
   ]
  },
  {
   "cell_type": "markdown",
   "metadata": {},
   "source": [
    "## Double-click here to see solution!\n",
    "\n",
    "<!--\n",
    "#SOLUTION:\n",
    "\n",
    "bus_berk_buf =bus_berk_clip.buffer(distance=100)\n",
    "\n",
    "polling_berk = polling_ac_gdf_utm10.intersects(berkeley_places_utm10.geometry.squeeze())\n",
    "\n",
    "polling_berk_gdf = polling_ac_gdf_utm10[polling_berk].reset_index(drop=True)\n",
    "\n",
    "fig, ax = plt.subplots(figsize=(10,10))\n",
    "berkeley_places_utm10.plot(ax=ax)\n",
    "bus_berk_buf.plot(color='pink', ax=ax, alpha=0.5)\n",
    "bus_berk_clip.plot(ax=ax, column ='PUB_RTE')\n",
    "polling_berk_gdf.plot(ax=ax, color= 'yellow')\n",
    "\n",
    "\n",
    "polling_berk_gdf.distance(bus_berk_clip.unary_union)\n",
    "\n",
    "-->"
   ]
  },
  {
   "cell_type": "markdown",
   "metadata": {},
   "source": [
    "## You're done!!!! \n",
    "<img src=\"https://pbs.twimg.com/media/EIEHbKvXUAATXhi?format=jpg&name=large\">"
   ]
  },
  {
   "cell_type": "markdown",
   "metadata": {},
   "source": [
    "---\n",
    "<div style=\"display:inline-block;vertical-align:middle;\">\n",
    "<a href=\"https://dlab.berkeley.edu/\" target=\"_blank\"><img src =\"assets/images/dlab_logo.png\" width=\"75\" align=\"left\">\n",
    "</a>\n",
    "</div>\n",
    "\n",
    "<div style=\"display:inline-block;vertical-align:middle;\">\n",
    "    <div style=\"font-size:larger\">&nbsp;D-Lab @ University of California - Berkeley</div>\n",
    "    <div>&nbsp;Team Geo<div>\n",
    "</div>\n",
    "        \n",
    "\n",
    "\n"
   ]
  }
 ],
 "metadata": {
  "kernelspec": {
   "display_name": "Python 3",
   "language": "python",
   "name": "python3"
  },
  "language_info": {
   "codemirror_mode": {
    "name": "ipython",
    "version": 3
   },
   "file_extension": ".py",
   "mimetype": "text/x-python",
   "name": "python",
   "nbconvert_exporter": "python",
   "pygments_lexer": "ipython3",
   "version": "3.8.3"
  }
 },
 "nbformat": 4,
 "nbformat_minor": 4
}
