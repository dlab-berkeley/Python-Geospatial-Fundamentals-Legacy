{
 "cells": [
  {
   "cell_type": "markdown",
   "metadata": {},
   "source": [
    "# Geocoding Addresses in Python\n",
    "\n",
    "This notebook demonstrates how to geocode a dataframe of addresses"
   ]
  },
  {
   "cell_type": "code",
   "execution_count": null,
   "metadata": {},
   "outputs": [],
   "source": [
    "# import our packages\n",
    "import numpy as np\n",
    "import pandas as pd\n",
    "import geopandas as gpd\n",
    "import contextily as cx\n",
    "import matplotlib.pyplot as plt\n",
    "import folium\n",
    "\n",
    "# FOR geocoding\n",
    "import geopy\n"
   ]
  },
  {
   "cell_type": "markdown",
   "metadata": {},
   "source": [
    "## Sample Data\n",
    "Let's use as our sample data a CSV file of Alameda County Schools."
   ]
  },
  {
   "cell_type": "code",
   "execution_count": null,
   "metadata": {},
   "outputs": [],
   "source": [
    "df0 = pd.read_csv(\"./notebook_data/alco_schools.csv\")\n",
    "df0.head()"
   ]
  },
  {
   "cell_type": "markdown",
   "metadata": {},
   "source": [
    "We can see that this datafile already has coordinates, but we will ignore those columns and subset it to Berkeley schools only for our geocoding example. We will also only keep public schools to limit the number of addresses to be geocoded."
   ]
  },
  {
   "cell_type": "code",
   "execution_count": null,
   "metadata": {},
   "outputs": [],
   "source": [
    "df = df0[(df0['City']=='Berkeley' )& (df0['Org']== 'Public')][['Site','Address','City','State']].reset_index(drop=True)\n",
    "df.head()"
   ]
  },
  {
   "cell_type": "code",
   "execution_count": null,
   "metadata": {},
   "outputs": [],
   "source": [
    "df.shape  # SEE HOW MANY SCHOOLS WILL BE GEOCODED"
   ]
  },
  {
   "cell_type": "markdown",
   "metadata": {},
   "source": [
    "Next we create a column that has all address components as this format is favored by many geocoders."
   ]
  },
  {
   "cell_type": "code",
   "execution_count": null,
   "metadata": {},
   "outputs": [],
   "source": [
    "df['full_address'] =  df['Address'] +' '+ df['City']+ ' '+ df['State']\n",
    "df.head()"
   ]
  },
  {
   "cell_type": "markdown",
   "metadata": {},
   "source": [
    "## Create a GeoDataFrame\n",
    "We will create a Geopandas Geodataframe that has no geometry so that we can use GeoPandas functionality for geocoding."
   ]
  },
  {
   "cell_type": "code",
   "execution_count": null,
   "metadata": {},
   "outputs": [],
   "source": [
    "gdf =  gpd.GeoDataFrame(data=df, \n",
    "                        geometry=None)"
   ]
  },
  {
   "cell_type": "code",
   "execution_count": null,
   "metadata": {},
   "outputs": [],
   "source": [
    "gdf.head()"
   ]
  },
  {
   "cell_type": "code",
   "execution_count": null,
   "metadata": {},
   "outputs": [],
   "source": [
    "gdf.info()"
   ]
  },
  {
   "cell_type": "markdown",
   "metadata": {},
   "source": [
    "## Define Geocoders and associated parameters\n"
   ]
  },
  {
   "cell_type": "code",
   "execution_count": null,
   "metadata": {},
   "outputs": [],
   "source": [
    "##################################################################\n",
    "## Geocoder to use \n",
    "## see https://geopy.readthedocs.io/en/latest/\n",
    "## and https://geopandas.org/geocoding.html\n",
    "##################################################################\n",
    "\n",
    "# By default, the geocode function uses the GeoCode.Farm geocoding API with a rate limitation applied. \n",
    "# But a different geocoding service can be specified (we really like the google geocoder!)\n",
    "# Set your Google geocoding API Key if you want to geocode using that API\n",
    "geocoder_name =  'Nominatim'   # or \"GoogleV3\" or None to skip geocoding step\n",
    "geocoder_apikey = None           # None if not required or google api key, or other api key\n",
    "geopy.geocoders.options.default_user_agent = 'D-Lab GeoFUN Workshop at UC Berkeley'"
   ]
  },
  {
   "cell_type": "markdown",
   "metadata": {},
   "source": [
    "## Test the geocoder"
   ]
  },
  {
   "cell_type": "code",
   "execution_count": null,
   "metadata": {},
   "outputs": [],
   "source": [
    "# test the geocoder\n",
    "if geocoder_name is not None: \n",
    "    print(\"Geocoding is enabled with this geocoder:\", geocoder_name)\n",
    "    \n",
    "    if geocoder_apikey is None:      \n",
    "        x= gpd.tools.geocode('1600 pennsylvania ave. washington, dc', provider=geocoder_name)['geometry'].squeeze()\n",
    "    \n",
    "    else:\n",
    "        x=gpd.tools.geocode('1600 pennsylvania ave. washington, dc', provider=geocoder_name, api_key=geocoder_apikey)['geometry'].squeeze()\n",
    "else:\n",
    "    print(\"Geocoding is NOT enabled.\")\n",
    "    \n",
    "print(x)"
   ]
  },
  {
   "cell_type": "markdown",
   "metadata": {},
   "source": [
    "## Make a Geocoding Function\n",
    "\n",
    "We can apply a geocoding function to a pandas dataframe to geocode all rows"
   ]
  },
  {
   "cell_type": "code",
   "execution_count": null,
   "metadata": {},
   "outputs": [],
   "source": [
    "def geocode_one_address(addr, geocoder_name=geocoder_name, geocoder_apikey=geocoder_apikey):\n",
    "    '''\n",
    "    Function to geocode an input address IFF geom is None\n",
    "    Use geopy with google geocoder to geocode addresses.\n",
    "    Requires the api_key value to be set prior to running this function\n",
    "    \n",
    "    Parameters:\n",
    "        addr (str): address to geocode, eg \"1 Main St, Oakland, CA\"\n",
    "        geocoder_name (str): name of geocoder (\"nominatim\" or \"GoogleV3\")\n",
    "        geocoder_apikey (str): api_key if needed by geocoder\n",
    "    Returns: \n",
    "        geom (POINT): a point geometry or None if unsuccessful\n",
    "        \n",
    "    '''   \n",
    "    \n",
    "    if addr != None:\n",
    "        tempaddr = addr\n",
    "    \n",
    "        print(\"...geocoding this address: [%s]\" % tempaddr)\n",
    "        \n",
    "        try:\n",
    "            if geocoder_apikey == None:\n",
    "                return gpd.tools.geocode(tempaddr, provider=geocoder_name)['geometry'].squeeze()\n",
    "            else:\n",
    "                return gpd.tools.geocode(tempaddr, provider=geocoder_name, api_key=geocoder_apikey)['geometry'].squeeze()\n",
    "        except:\n",
    "            print(\"...Problem with address: \", tempaddr)\n",
    "            return None\n",
    "\n",
    "    else: \n",
    "        print(\"No address to geocode\")\n",
    "        return None"
   ]
  },
  {
   "cell_type": "code",
   "execution_count": null,
   "metadata": {},
   "outputs": [],
   "source": [
    "# test geocoding function on one address\n",
    "x = geocode_one_address('1600 pennsylvania ave. washington, dc')\n",
    "print(x)"
   ]
  },
  {
   "cell_type": "code",
   "execution_count": null,
   "metadata": {},
   "outputs": [],
   "source": [
    "#batch geocode addresses in a data frame\n",
    "if geocoder_name is None:\n",
    "    print(\"Geocoding is NOT enabled.\")\n",
    "    print(\"Will NOT geocode addresses\")\n",
    "else:\n",
    "    print(\"Geocoding is enabled with this geocoder:\", geocoder_name)\n",
    "    print(\"Ready to Geocode addresses\")\n",
    "        \n",
    "    if geocoder_apikey is None:  \n",
    "        gdf['geometry'] = gdf.apply(lambda x: geocode_one_address(x['full_address']), axis=1)\n",
    "    else:\n",
    "        gdf['geometry'] = gdf.apply(lambda x: geocode_one_address(x['full_address']), axis=1)\n"
   ]
  },
  {
   "cell_type": "code",
   "execution_count": null,
   "metadata": {},
   "outputs": [],
   "source": [
    "gdf.head()"
   ]
  },
  {
   "cell_type": "markdown",
   "metadata": {},
   "source": [
    "## Set the CRS\n",
    "Since we now have geographic coordinates we need to set the Coordinate Reference System of the data (WGS84)"
   ]
  },
  {
   "cell_type": "code",
   "execution_count": null,
   "metadata": {},
   "outputs": [],
   "source": [
    "gdf = gdf.set_crs(epsg=4326)"
   ]
  },
  {
   "cell_type": "markdown",
   "metadata": {},
   "source": [
    "## Map the geocoded Addresses"
   ]
  },
  {
   "cell_type": "code",
   "execution_count": null,
   "metadata": {},
   "outputs": [],
   "source": [
    "gdf.plot();"
   ]
  },
  {
   "cell_type": "markdown",
   "metadata": {},
   "source": [
    "## Add basemap with Contextily\n",
    "We can map the schools that were successfully geocoded, i.e. where the geometry is not equal to None."
   ]
  },
  {
   "cell_type": "code",
   "execution_count": null,
   "metadata": {},
   "outputs": [],
   "source": [
    "ax = gdf[gdf.geometry!=None].to_crs('EPSG:3857').plot(figsize=(9, 9), color=\"red\")\n",
    "cx.add_basemap(ax)"
   ]
  },
  {
   "cell_type": "markdown",
   "metadata": {},
   "source": [
    "## Interactive Map with Folium\n",
    "\n",
    "We can create an interactive map of the schools that were successfully geocoded."
   ]
  },
  {
   "cell_type": "code",
   "execution_count": null,
   "metadata": {},
   "outputs": [],
   "source": [
    "\n",
    "map1 = folium.Map(location=[gdf.geometry.y.mean(), gdf.geometry.x.mean()], \n",
    "                  tiles='CartoDB Positron',\n",
    "                  zoom_start=12)\n",
    "\n",
    "folium.GeoJson(gdf[gdf.geometry!=None],\n",
    "               tooltip=folium.GeoJsonTooltip(\n",
    "                   fields=['Site'], \n",
    "                   aliases=[\"\"],\n",
    "                   #labels=True,\n",
    "                   localize=True)\n",
    "              ).add_to(map1)\n",
    "\n",
    "map1  # show map"
   ]
  },
  {
   "cell_type": "markdown",
   "metadata": {},
   "source": [
    "## Save output to GeoJson File"
   ]
  },
  {
   "cell_type": "code",
   "execution_count": null,
   "metadata": {},
   "outputs": [],
   "source": [
    "# Save Geodataframe to file\n",
    "#gdf.to_file(\"my_geocoded_schools.geojson\", driver='GeoJSON')"
   ]
  },
  {
   "cell_type": "code",
   "execution_count": null,
   "metadata": {},
   "outputs": [],
   "source": []
  }
 ],
 "metadata": {
  "kernelspec": {
   "display_name": "Python 3",
   "language": "python",
   "name": "python3"
  },
  "language_info": {
   "codemirror_mode": {
    "name": "ipython",
    "version": 3
   },
   "file_extension": ".py",
   "mimetype": "text/x-python",
   "name": "python",
   "nbconvert_exporter": "python",
   "pygments_lexer": "ipython3",
   "version": "3.7.8"
  }
 },
 "nbformat": 4,
 "nbformat_minor": 4
}
